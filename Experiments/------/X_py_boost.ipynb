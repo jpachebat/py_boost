{
 "cells": [
  {
   "cell_type": "code",
   "execution_count": 1,
   "id": "6d118be5-87aa-4c75-9a2c-230d45d0ec0a",
   "metadata": {},
   "outputs": [],
   "source": [
    "from accuracy_per_time import *"
   ]
  },
  {
   "cell_type": "code",
   "execution_count": 2,
   "id": "fb8b7375-86d0-43d2-80fe-fcdb5bcc5e5d",
   "metadata": {},
   "outputs": [],
   "source": [
    "%store -r X_train \n",
    "%store -r y_train\n",
    "%store -r X_test \n",
    "%store -r y_test "
   ]
  },
  {
   "cell_type": "code",
   "execution_count": null,
   "id": "d6c4469f-bf15-4dc4-b280-48fcd44aa8ff",
   "metadata": {},
   "outputs": [],
   "source": []
  },
  {
   "cell_type": "code",
   "execution_count": 3,
   "id": "dd8023d6-3296-4391-9fb9-6e9479ee807b",
   "metadata": {},
   "outputs": [
    {
     "name": "stdout",
     "output_type": "stream",
     "text": [
      "[09:40:46] Stdout logging level is INFO.\n",
      "[09:40:46] GDBT train starts. Max iter 1000, early stopping rounds 500\n",
      "[09:40:46] Iter 0; Sample 0, BCE = 0.6776302336990673; \n",
      "[09:40:53] Iter 100; Sample 0, BCE = 0.41679786308792455; \n",
      "[09:41:00] Iter 200; Sample 0, BCE = 0.3653464982108207; \n",
      "[09:41:08] Iter 300; Sample 0, BCE = 0.32909824035882296; \n",
      "[09:41:17] Iter 400; Sample 0, BCE = 0.29411299796973067; \n",
      "[09:41:25] Iter 500; Sample 0, BCE = 0.26539824680802204; \n",
      "[09:41:33] Iter 600; Sample 0, BCE = 0.23860367052675116; \n",
      "[09:41:41] Iter 700; Sample 0, BCE = 0.21352967363330883; \n",
      "[09:41:49] Iter 800; Sample 0, BCE = 0.18962323372585813; \n",
      "[09:41:57] Iter 900; Sample 0, BCE = 0.16777356620017517; \n",
      "[09:42:05] Iter 999; Sample 0, BCE = 0.1466557310474378; \n",
      "training time: <module 'time' (built-in)>\n",
      "time per iteration: 0.08395871376991272\n"
     ]
    },
    {
     "ename": "NameError",
     "evalue": "name 'y4' is not defined",
     "output_type": "error",
     "traceback": [
      "\u001b[0;31m---------------------------------------------------------------------------\u001b[0m",
      "\u001b[0;31mNameError\u001b[0m                                 Traceback (most recent call last)",
      "\u001b[0;32m<ipython-input-3-41f8eee08f2a>\u001b[0m in \u001b[0;36m<module>\u001b[0;34m\u001b[0m\n\u001b[1;32m     23\u001b[0m \u001b[0mprint\u001b[0m\u001b[0;34m(\u001b[0m\u001b[0;34m\"time per iteration:\"\u001b[0m\u001b[0;34m,\u001b[0m \u001b[0mtime_per_iter\u001b[0m\u001b[0;34m)\u001b[0m\u001b[0;34m\u001b[0m\u001b[0;34m\u001b[0m\u001b[0m\n\u001b[1;32m     24\u001b[0m \u001b[0;34m\u001b[0m\u001b[0m\n\u001b[0;32m---> 25\u001b[0;31m \u001b[0mx4\u001b[0m \u001b[0;34m=\u001b[0m \u001b[0;34m[\u001b[0m\u001b[0mi\u001b[0m \u001b[0;34m*\u001b[0m \u001b[0mtime_per_iter\u001b[0m  \u001b[0;32mfor\u001b[0m \u001b[0mi\u001b[0m \u001b[0;32min\u001b[0m \u001b[0mrange\u001b[0m\u001b[0;34m(\u001b[0m\u001b[0mlen\u001b[0m\u001b[0;34m(\u001b[0m\u001b[0my4\u001b[0m\u001b[0;34m)\u001b[0m\u001b[0;34m)\u001b[0m\u001b[0;34m]\u001b[0m\u001b[0;34m\u001b[0m\u001b[0;34m\u001b[0m\u001b[0m\n\u001b[0m",
      "\u001b[0;31mNameError\u001b[0m: name 'y4' is not defined"
     ]
    }
   ],
   "source": [
    "import numpy as np\n",
    "\n",
    "import sys\n",
    "sys.path.append(\"../\")\n",
    "from X_py_boost import GradientBoosting\n",
    "import time\n",
    "\n",
    "\n",
    "start = time.time()\n",
    "\n",
    "model = GradientBoosting(loss='bce2', ntrees=1000, es=500, max_depth=12, lambda_l2=0.001, verbose=100)\n",
    "model.fit(X_train, y_train, eval_sets=[{'X': X_train, 'y': y_train},])\n",
    "\n",
    "end = time.time()\n",
    "\n",
    "\n",
    "time_total = end - start #computation time \n",
    "print(\"training time:\", time_total)\n",
    "\n",
    "y2 = get_results(model)\n",
    "\n",
    "time_per_iter = time_total / len(y2)\n",
    "print(\"time per iteration:\", time_per_iter)\n",
    "\n",
    "x4 = [i * time_per_iter  for i in range(len(y4))]"
   ]
  },
  {
   "cell_type": "code",
   "execution_count": 4,
   "id": "9367d56f-f666-495f-9784-8931bf5d3890",
   "metadata": {},
   "outputs": [
    {
     "name": "stdout",
     "output_type": "stream",
     "text": [
      "training time: 83.95871376991272\n",
      "time per iteration: 0.08395871376991272\n"
     ]
    }
   ],
   "source": [
    "time_total = end - start #computation time \n",
    "print(\"training time:\", time_total)\n",
    "\n",
    "y2 = get_results(model)\n",
    "\n",
    "time_per_iter = time_total / len(y2)\n",
    "print(\"time per iteration:\", time_per_iter)"
   ]
  },
  {
   "cell_type": "code",
   "execution_count": 6,
   "id": "271909b8-1568-4025-ad50-7363c881dab2",
   "metadata": {},
   "outputs": [
    {
     "name": "stdout",
     "output_type": "stream",
     "text": [
      "[09:44:23] Stdout logging level is INFO.\n",
      "[09:44:23] GDBT train starts. Max iter 1000, early stopping rounds 500\n",
      "[09:44:23] Iter 0; Sample 0, BCE = 0.6809855156901371; \n",
      "[09:44:27] Iter 100; Sample 0, BCE = 1.688850473583977; \n",
      "[09:44:33] Iter 200; Sample 0, BCE = 3.545670770544895; \n",
      "[09:44:37] Iter 300; Sample 0, BCE = 5.201846312596176; \n",
      "[09:44:41] Iter 400; Sample 0, BCE = 5.338623609433431; \n",
      "[09:44:46] Iter 500; Sample 0, BCE = 5.97991196076648; \n",
      "[09:44:49] Early stopping at iter 560, best iter 60, best_score 0.527627157565851\n",
      "training time: 25.83424973487854\n",
      "time per iteration: 0.046132588812283104\n"
     ]
    }
   ],
   "source": [
    "import time\n",
    "from X_py_boost import GradientBoosting\n",
    "from X_py_boost.gpu.losses import BCELoss3\n",
    "\n",
    "\n",
    "start = time.time()\n",
    "\n",
    "model = GradientBoosting(loss=BCELoss3(), ntrees=1000, es=500, max_depth=8, lambda_l2=0.001, verbose=100)\n",
    "model.fit(X_train, y_train, eval_sets=[{'X': X_train, 'y': y_train},])\n",
    "\n",
    "end = time.time()\n",
    "\n",
    "\n",
    "time_total = end - start #computation time \n",
    "print(\"training time:\", time_total)\n",
    "\n",
    "y2 = get_results(model)\n",
    "\n",
    "time_per_iter = time_total / len(y2)\n",
    "print(\"time per iteration:\", time_per_iter)"
   ]
  },
  {
   "cell_type": "code",
   "execution_count": 7,
   "id": "4bfd7052-5e07-4efb-81b6-60d54767abab",
   "metadata": {},
   "outputs": [
    {
     "name": "stdout",
     "output_type": "stream",
     "text": [
      "[09:45:43] Stdout logging level is INFO.\n",
      "[09:45:43] GDBT train starts. Max iter 1000, early stopping rounds 500\n",
      "[09:45:43] Iter 0; Sample 0, BCE = 0.6778189733330708; \n",
      "[09:45:50] Iter 100; Sample 0, BCE = 0.40877185294649987; \n",
      "[09:45:58] Iter 200; Sample 0, BCE = 0.35307798559385917; \n",
      "[09:46:06] Iter 300; Sample 0, BCE = 0.31409784334551205; \n",
      "[09:46:14] Iter 400; Sample 0, BCE = 0.2849989701182684; \n",
      "[09:46:23] Iter 500; Sample 0, BCE = 0.262851872308927; \n",
      "[09:46:32] Iter 600; Sample 0, BCE = 0.2417086365477227; \n",
      "[09:46:41] Iter 700; Sample 0, BCE = 0.221455579633196; \n",
      "[09:46:50] Iter 800; Sample 0, BCE = 0.1988387214905878; \n",
      "[09:46:59] Iter 900; Sample 0, BCE = 0.18170771476829806; \n",
      "[09:47:08] Iter 999; Sample 0, BCE = 0.16614126036978977; \n",
      "training time: 85.08303689956665\n",
      "time per iteration: 0.08508303689956664\n"
     ]
    }
   ],
   "source": [
    "start = time.time()\n",
    "\n",
    "model = GradientBoosting(loss='bce4', ntrees=1000, es=500, max_depth=12, lambda_l2=0.001, verbose=100)\n",
    "model.fit(X_train, y_train, eval_sets=[{'X': X_train, 'y': y_train},])\n",
    "\n",
    "end = time.time()\n",
    "\n",
    "\n",
    "time_total = end - start #computation time \n",
    "print(\"training time:\", time_total)\n",
    "\n",
    "y2 = get_results(model)\n",
    "\n",
    "time_per_iter = time_total / len(y2)\n",
    "print(\"time per iteration:\", time_per_iter)"
   ]
  },
  {
   "cell_type": "code",
   "execution_count": 28,
   "id": "1d03e483-4955-4a04-819d-dce5d7e9593f",
   "metadata": {},
   "outputs": [],
   "source": [
    "%store -r x2 \n",
    "%store -r y2\n"
   ]
  },
  {
   "cell_type": "code",
   "execution_count": 1,
   "id": "4c1a68b9-6d6a-4e15-895a-7ee6894def50",
   "metadata": {},
   "outputs": [
    {
     "ename": "ModuleNotFoundError",
     "evalue": "No module named 'plotly'",
     "output_type": "error",
     "traceback": [
      "\u001b[0;31m---------------------------------------------------------------------------\u001b[0m",
      "\u001b[0;31mModuleNotFoundError\u001b[0m                       Traceback (most recent call last)",
      "\u001b[0;32m<ipython-input-1-f14cb00da48b>\u001b[0m in \u001b[0;36m<module>\u001b[0;34m\u001b[0m\n\u001b[0;32m----> 1\u001b[0;31m \u001b[0;32mimport\u001b[0m \u001b[0mplotly\u001b[0m\u001b[0;34m.\u001b[0m\u001b[0mio\u001b[0m \u001b[0;32mas\u001b[0m \u001b[0mpio\u001b[0m\u001b[0;34m\u001b[0m\u001b[0;34m\u001b[0m\u001b[0m\n\u001b[0m\u001b[1;32m      2\u001b[0m \u001b[0;32mimport\u001b[0m \u001b[0mplotly\u001b[0m\u001b[0;34m.\u001b[0m\u001b[0mgraph_objects\u001b[0m \u001b[0;32mas\u001b[0m \u001b[0mgo\u001b[0m\u001b[0;34m\u001b[0m\u001b[0;34m\u001b[0m\u001b[0m\n\u001b[1;32m      3\u001b[0m \u001b[0;32mimport\u001b[0m \u001b[0mplotly\u001b[0m\u001b[0;34m.\u001b[0m\u001b[0mexpress\u001b[0m \u001b[0;32mas\u001b[0m \u001b[0mpx\u001b[0m\u001b[0;34m\u001b[0m\u001b[0;34m\u001b[0m\u001b[0m\n\u001b[1;32m      4\u001b[0m \u001b[0;32mfrom\u001b[0m \u001b[0mplotly\u001b[0m\u001b[0;34m.\u001b[0m\u001b[0moffline\u001b[0m \u001b[0;32mimport\u001b[0m \u001b[0minit_notebook_mode\u001b[0m\u001b[0;34m,\u001b[0m \u001b[0miplot\u001b[0m\u001b[0;34m\u001b[0m\u001b[0;34m\u001b[0m\u001b[0m\n\u001b[1;32m      5\u001b[0m \u001b[0;32mimport\u001b[0m \u001b[0mnumpy\u001b[0m \u001b[0;32mas\u001b[0m \u001b[0mnp\u001b[0m\u001b[0;34m\u001b[0m\u001b[0;34m\u001b[0m\u001b[0m\n",
      "\u001b[0;31mModuleNotFoundError\u001b[0m: No module named 'plotly'"
     ]
    }
   ],
   "source": [
    "import plotly.io as pio\n",
    "import plotly.graph_objects as go\n",
    "import plotly.express as px\n",
    "from plotly.offline import init_notebook_mode, iplot\n",
    "import numpy as np\n",
    "\n",
    "init_notebook_mode(connected=True)\n",
    "\n",
    "\n",
    "fig = go.Figure(layout_title_text=\"BCE, synthetic data\")\n",
    "fig.add_trace(go.Scatter(x=x2, y=y2,\n",
    "                        mode='lines',\n",
    "                        name='2nd order'))\n",
    "    \n",
    "fig.add_trace(go.Scatter(x=x4, y=y4,\n",
    "                        mode='lines',\n",
    "                        name='4th order'))\n",
    "\n",
    "fig.show()"
   ]
  },
  {
   "cell_type": "code",
   "execution_count": 15,
   "id": "1f666398-2616-4af6-8cd3-3f3792f6ded4",
   "metadata": {},
   "outputs": [
    {
     "name": "stdout",
     "output_type": "stream",
     "text": [
      "Stored 'data_to_send' (int)\n"
     ]
    }
   ],
   "source": [
    "data_to_send = 1\n",
    "%store data_to_send"
   ]
  },
  {
   "cell_type": "code",
   "execution_count": null,
   "id": "f2513047-3c37-4940-9e1a-a41021a36e61",
   "metadata": {},
   "outputs": [],
   "source": []
  }
 ],
 "metadata": {
  "kernelspec": {
   "display_name": "Python 3",
   "language": "python",
   "name": "python3"
  },
  "language_info": {
   "codemirror_mode": {
    "name": "ipython",
    "version": 3
   },
   "file_extension": ".py",
   "mimetype": "text/x-python",
   "name": "python",
   "nbconvert_exporter": "python",
   "pygments_lexer": "ipython3",
   "version": "3.6.8"
  }
 },
 "nbformat": 4,
 "nbformat_minor": 5
}
