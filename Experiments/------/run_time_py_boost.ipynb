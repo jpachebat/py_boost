{
 "cells": [
  {
   "cell_type": "code",
   "execution_count": 3,
   "id": "e3d3f8ca-c1e8-4b3f-b320-4ba1bde776d3",
   "metadata": {},
   "outputs": [
    {
     "data": {
      "text/html": [
       "        <script type=\"text/javascript\">\n",
       "        window.PlotlyConfig = {MathJaxConfig: 'local'};\n",
       "        if (window.MathJax && window.MathJax.Hub && window.MathJax.Hub.Config) {window.MathJax.Hub.Config({SVG: {font: \"STIX-Web\"}});}\n",
       "        if (typeof require !== 'undefined') {\n",
       "        require.undef(\"plotly\");\n",
       "        requirejs.config({\n",
       "            paths: {\n",
       "                'plotly': ['https://cdn.plot.ly/plotly-2.14.0.min']\n",
       "            }\n",
       "        });\n",
       "        require(['plotly'], function(Plotly) {\n",
       "            window._Plotly = Plotly;\n",
       "        });\n",
       "        }\n",
       "        </script>\n",
       "        "
      ]
     },
     "metadata": {},
     "output_type": "display_data"
    }
   ],
   "source": [
    "import plotly.io as pio\n",
    "import plotly.graph_objects as go\n",
    "import plotly.express as px\n",
    "from plotly.offline import init_notebook_mode, iplot\n",
    "import numpy as np\n",
    "\n",
    "init_notebook_mode(connected=True)\n",
    "\n",
    "\n",
    "def get_results(model):\n",
    "    return list(np.array(model.history).reshape(len(model.history)))"
   ]
  },
  {
   "cell_type": "code",
   "execution_count": 1,
   "id": "f9cd675d-9b8d-44fc-b0b4-24f256da911b",
   "metadata": {},
   "outputs": [
    {
     "name": "stdout",
     "output_type": "stream",
     "text": [
      "(192000, 28) (48000, 28) (60000, 28)\n",
      "(192000,) (48000,) (60000,)\n"
     ]
    }
   ],
   "source": [
    "## Higgs dataset\n",
    "\n",
    "import pandas as pd\n",
    "\n",
    "df = pd.read_csv('HIGGS.csv', nrows=300000)\n",
    "df.columns = ['label', 'lepton pT', 'lepton eta', 'lepton phi', 'missing energy magnitude', 'missing energy phi', 'jet 1 pt', 'jet 1 eta', 'jet 1 phi', 'jet 1 b-tag', 'jet 2 pt', 'jet 2 eta', 'jet 2 phi', 'jet 2 b-tag', 'jet 3 pt', 'jet 3 eta', 'jet 3 phi', 'jet 3 b-tag', 'jet 4 pt', 'jet 4 eta', 'jet 4 phi', 'jet 4 b-tag', 'm_jj', 'm_jjj', 'm_lv', 'm_jlv', 'm_bb', 'm_wbb', 'm_wwbb']\n",
    "df[\"label\"] = df[\"label\"].apply(int)\n",
    "\n",
    "df_train = df\n",
    "\n",
    "X = df_train.iloc[:, 1:].to_numpy()\n",
    "y = df_train['label'].to_numpy()\n",
    "\n",
    "# Pre-processing\n",
    "\n",
    "from sklearn.preprocessing import StandardScaler\n",
    "from sklearn.model_selection import train_test_split\n",
    "\n",
    "sc = StandardScaler()\n",
    "X_std = sc.fit_transform(X)\n",
    "\n",
    "X_t, X_test, y_t, y_test = train_test_split(X_std, y, test_size=0.20, random_state=42)\n",
    "X_train, X_val, y_train, y_val = train_test_split(X_t, y_t, test_size=0.20, random_state=42)\n",
    "\n",
    "print(X_train.shape, X_val.shape, X_test.shape)\n",
    "print(y_train.shape, y_val.shape, y_test.shape)"
   ]
  },
  {
   "cell_type": "code",
   "execution_count": 4,
   "id": "b0955e9e-3347-4848-aef1-3665c46a80c3",
   "metadata": {},
   "outputs": [
    {
     "name": "stdout",
     "output_type": "stream",
     "text": [
      "[13:23:52] Stdout logging level is INFO.\n",
      "[13:23:52] GDBT train starts. Max iter 10000, early stopping rounds 100\n",
      "[13:23:52] Iter 0; Sample 0, BCE = 0.6807392195769906; \n",
      "[13:24:07] Iter 1000; Sample 0, BCE = 0.3011814162915884; \n",
      "[13:24:22] Iter 2000; Sample 0, BCE = 0.1848192891043696; \n",
      "[13:24:36] Iter 3000; Sample 0, BCE = 0.11393504194846692; \n",
      "[13:24:50] Iter 4000; Sample 0, BCE = 0.06883267563064051; \n",
      "[13:25:04] Iter 5000; Sample 0, BCE = 0.04175218486565787; \n",
      "[13:25:18] Iter 6000; Sample 0, BCE = 0.025579250367220287; \n",
      "[13:25:32] Iter 7000; Sample 0, BCE = 0.015260950897855535; \n",
      "[13:25:45] Iter 8000; Sample 0, BCE = 0.00930962845560892; \n",
      "[13:25:59] Iter 9000; Sample 0, BCE = 0.005702202016376766; \n",
      "[13:26:14] Iter 9999; Sample 0, BCE = 0.003463196877648185; \n",
      "time per iteration: 0.014185046601295472\n"
     ]
    }
   ],
   "source": [
    "from py_boost import GradientBoosting\n",
    "import time\n",
    "\n",
    "m_d=8\n",
    "eval_sets=[{'X': X_train, 'y': y_train},]\n",
    "## Order 2\n",
    "\n",
    "start = time.time()\n",
    "\n",
    "model2 = GradientBoosting(loss='bce', ntrees=10000, max_depth=m_d, lambda_l2=0.001, verbose=1000)\n",
    "model2.fit(X_train, y_train, eval_sets=eval_sets)\n",
    "\n",
    "end = time.time()\n",
    "time2 = end - start\n",
    "time_per_iter = time2 / len(get_results(model2))\n",
    "\n",
    "print(f\"time per iteration: {time_per_iter}\")"
   ]
  },
  {
   "cell_type": "code",
   "execution_count": null,
   "id": "aa60c132-4012-4e18-b400-f2f02ac3e482",
   "metadata": {},
   "outputs": [],
   "source": []
  }
 ],
 "metadata": {
  "kernelspec": {
   "display_name": "Python 3",
   "language": "python",
   "name": "python3"
  },
  "language_info": {
   "codemirror_mode": {
    "name": "ipython",
    "version": 3
   },
   "file_extension": ".py",
   "mimetype": "text/x-python",
   "name": "python",
   "nbconvert_exporter": "python",
   "pygments_lexer": "ipython3",
   "version": "3.6.8"
  }
 },
 "nbformat": 4,
 "nbformat_minor": 5
}
