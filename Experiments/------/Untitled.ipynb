{
 "cells": [
  {
   "cell_type": "code",
   "execution_count": null,
   "id": "7d7d2021",
   "metadata": {},
   "outputs": [],
   "source": [
    "from sklearn.datasets import fetch_openml\n",
    "\n",
    "ids = [44120, 44121, 44122, 44123, 44124, 44125, 44126, 44127, 44128, 44129, 44130, 44131, 44089, 44090, 44091]"
   ]
  },
  {
   "cell_type": "code",
   "execution_count": 1,
   "id": "81b4c533-14a8-452e-b0b5-dbcfce69b7d8",
   "metadata": {},
   "outputs": [
    {
     "name": "stdout",
     "output_type": "stream",
     "text": [
      "[[6.74479e-02 2.70833e-01 4.44444e-01 ... 1.03183e+01 6.65509e-03\n",
      "  1.56715e-01]\n",
      " [7.82581e-02 2.18750e-01 6.02778e-01 ... 4.20547e+00 1.75330e-01\n",
      "  3.53736e-01]\n",
      " [4.54572e-02 3.04167e-01 2.86111e-01 ... 2.30291e+01 5.30718e-01\n",
      "  1.17468e-01]\n",
      " ...\n",
      " [1.92708e-02 1.31250e-01 2.88889e-01 ... 1.18748e+01 2.16447e-01\n",
      "  2.20593e-01]\n",
      " [1.31736e-01 5.08333e-01 3.20833e-01 ... 6.93067e-01 1.23611e-01\n",
      "  4.25185e-02]\n",
      " [1.42662e-01 4.94444e-01 9.04167e-01 ... 2.05517e+01 1.87272e-01\n",
      "  8.99691e-01]] [0 0 0 ... 1 1 1]\n"
     ]
    }
   ],
   "source": [
    "## electricity\n",
    "\n",
    "dataset = fetch_openml(data_id=44120)\n",
    "\n",
    "data = dataset['data']\n",
    "label = dataset['target']\n",
    "\n",
    "X = data.values.astype('float32')\n",
    "y = label.values.astype('int32')\n",
    "\n",
    "print(X, y)"
   ]
  },
  {
   "cell_type": "code",
   "execution_count": 3,
   "id": "59f0a26b-706b-47e9-b36b-e83a4ea8e5ae",
   "metadata": {},
   "outputs": [
    {
     "name": "stdout",
     "output_type": "stream",
     "text": [
      "[[ 9.804106   1.545834   2.270226  ... 12.44392    3.736166   1.746721 ]\n",
      " [11.5542     1.447544   0.4006281 ... 12.14041    3.997436   0.4863331]\n",
      " [11.85422    0.78632    2.403769  ... 10.52168    2.299179   1.434834 ]\n",
      " ...\n",
      " [ 9.32908    0.1519027  1.736055  ... 10.67344    3.605531   0.4863331]\n",
      " [ 9.321937   0.1429673  1.869598  ... 10.67344    3.605531   0.5067229]\n",
      " [ 9.314794   0.2055155  1.869598  ... 10.57227    3.422642   0.5271126]] [0 0 0 ... 1 1 1]\n"
     ]
    }
   ],
   "source": [
    "## covertype\n",
    "\n",
    "dataset = fetch_openml(data_id=44121)\n",
    "\n",
    "data = dataset['data']\n",
    "label = dataset['target']\n",
    "\n",
    "X = data.values.astype('float32')\n",
    "y = label.values.astype('int32')\n",
    "\n",
    "print(X, y)"
   ]
  },
  {
   "cell_type": "code",
   "execution_count": 10,
   "id": "0eef0b56-d735-4f79-b5b8-cf5e164f38dc",
   "metadata": {},
   "outputs": [
    {
     "name": "stdout",
     "output_type": "stream",
     "text": [
      "[[158. 107.  76. ...   0.   0.   0.]\n",
      " [184.  96.  76. ...   0.   0.   0.]\n",
      " [ 94. 129.  78. ...   0.   0.   0.]\n",
      " ...\n",
      " [ 82.  85.  76. ...   0.   0.   0.]\n",
      " [ 87.  98.  76. ...   0.   0.   0.]\n",
      " [ 84.  77.  76. ...   0.   0.   0.]] [0 0 0 ... 1 1 1]\n"
     ]
    }
   ],
   "source": [
    "## POL\n",
    "\n",
    "dataset = fetch_openml(data_id=44122)\n",
    "\n",
    "data = dataset['data']\n",
    "label = dataset['target']\n",
    "\n",
    "X = data.values.astype('float32')\n",
    "\n",
    "label_01 = (label == 'P')\n",
    "y = label_01.values.astype('int32')\n",
    "\n",
    "print(X, y)"
   ]
  },
  {
   "cell_type": "code",
   "execution_count": 13,
   "id": "10f113b2-5a67-42a3-aa19-2911728796c5",
   "metadata": {},
   "outputs": [
    {
     "name": "stdout",
     "output_type": "stream",
     "text": [
      "[[5.42000e+02 5.07380e-01 0.00000e+00 ... 3.81818e-01 1.23077e-01\n",
      "  3.33333e-01]\n",
      " [8.86000e+02 4.63883e-01 1.24150e-02 ... 3.02001e-01 6.66670e-02\n",
      "  6.19048e-01]\n",
      " [1.51000e+03 4.52980e-01 5.21192e-01 ... 3.55628e-01 1.70854e-01\n",
      "  3.33333e-01]\n",
      " ...\n",
      " [5.69800e+03 4.45419e-01 0.00000e+00 ... 6.77336e-01 0.00000e+00\n",
      "  4.75248e-01]\n",
      " [9.77000e+02 4.82088e-01 1.24872e-01 ... 1.87817e-01 1.14504e-01\n",
      "  3.33333e-01]\n",
      " [6.19800e+03 5.08874e-01 1.35530e-02 ... 3.74757e-01 3.03030e-02\n",
      "  6.00000e-01]] [0 0 0 ... 1 1 1]\n"
     ]
    }
   ],
   "source": [
    "## house_16h\n",
    "\n",
    "dataset = fetch_openml(data_id=44123)\n",
    "\n",
    "data = dataset['data']\n",
    "label = dataset['target']\n",
    "\n",
    "X = data.values.astype('float32')\n",
    "\n",
    "label_01 = (label == 'P')\n",
    "y = label_01.values.astype('int32')\n",
    "\n",
    "print(X, y)"
   ]
  },
  {
   "cell_type": "code",
   "execution_count": 16,
   "id": "dc6eb2ca-d597-44b5-915c-2f3d2db881f3",
   "metadata": {},
   "outputs": [
    {
     "name": "stdout",
     "output_type": "stream",
     "text": [
      "[[2.25000e+04 0.00000e+00 3.13500e+04 ... 0.00000e+00 0.00000e+00\n",
      "  5.01000e+02]\n",
      " [4.25000e+04 0.00000e+00 1.70500e+04 ... 9.99990e+04 9.99990e+04\n",
      "  4.58000e+02]\n",
      " [3.00000e+04 0.00000e+00 2.19500e+04 ... 9.99990e+04 9.99990e+04\n",
      "  4.00000e+02]\n",
      " ...\n",
      " [1.87500e+04 0.00000e+00 1.26500e+04 ... 0.00000e+00 5.50000e+02\n",
      "  5.01000e+02]\n",
      " [2.25000e+04 0.00000e+00 1.79500e+04 ... 0.00000e+00 5.00000e+01\n",
      "  5.01000e+02]\n",
      " [9.99999e+05 8.50000e+01 5.15000e+03 ... 0.00000e+00 0.00000e+00\n",
      "  2.70000e+02]] [0 0 0 ... 1 1 1]\n"
     ]
    }
   ],
   "source": [
    "## kdd_ipums_la_97-small\n",
    "\n",
    "dataset = fetch_openml(data_id=44124)\n",
    "\n",
    "data = dataset['data']\n",
    "label = dataset['target']\n",
    "\n",
    "X = data.values.astype('float32')\n",
    "\n",
    "label_01 = (label == 'P')\n",
    "y = label_01.values.astype('int32')\n",
    "\n",
    "print(X, y)"
   ]
  },
  {
   "cell_type": "code",
   "execution_count": 19,
   "id": "243d8acd-21bc-453c-81f2-108791c97024",
   "metadata": {},
   "outputs": [
    {
     "name": "stdout",
     "output_type": "stream",
     "text": [
      "[[ 69.2979  26.8809   3.193  ... -23.0604   9.3234 248.75  ]\n",
      " [ 24.5939  10.1418   2.5676 ...  -7.0283  17.0056 173.288 ]\n",
      " [ 55.48    27.1606   3.1826 ...  13.7406  32.222  262.181 ]\n",
      " ...\n",
      " [ 75.4455  47.5305   3.4483 ...  -9.4662  30.2987 256.5166]\n",
      " [120.5135  76.9018   3.9939 ... -63.8389  84.6874 408.3166]\n",
      " [187.1814  53.0014   3.2093 ...  31.4755  52.731  272.3174]] [0 0 0 ... 1 1 1]\n"
     ]
    }
   ],
   "source": [
    "## MagicTelescope\n",
    "\n",
    "dataset = fetch_openml(data_id=44125)\n",
    "\n",
    "data = dataset['data']\n",
    "label = dataset['target']\n",
    "\n",
    "X = data.values.astype('float32')\n",
    "\n",
    "label_01 = (label == 'h')\n",
    "y = label_01.values.astype('int32')\n",
    "\n",
    "print(X, y)"
   ]
  },
  {
   "cell_type": "code",
   "execution_count": 25,
   "id": "2607b66e-0cb7-4758-82d8-ad014f1ca544",
   "metadata": {},
   "outputs": [
    {
     "name": "stdout",
     "output_type": "stream",
     "text": [
      "[[ 5.200e+01  5.100e+01  1.400e+01 ...  2.000e+00 -1.000e+00  0.000e+00]\n",
      " [ 5.300e+01  2.320e+02  2.900e+01 ...  1.000e+00 -1.000e+00  0.000e+00]\n",
      " [ 5.000e+01  5.250e+02  1.800e+01 ...  2.000e+00 -1.000e+00  0.000e+00]\n",
      " ...\n",
      " [ 5.100e+01  8.250e+02  1.700e+01 ...  3.000e+00 -1.000e+00  0.000e+00]\n",
      " [ 7.100e+01  1.729e+03  1.700e+01 ...  2.000e+00 -1.000e+00  0.000e+00]\n",
      " [ 7.200e+01  5.715e+03  1.700e+01 ...  5.000e+00  1.840e+02  3.000e+00]] [0 0 0 ... 1 1 1]\n"
     ]
    }
   ],
   "source": [
    "## bank-marketing \n",
    "\n",
    "dataset = fetch_openml(data_id=44126)\n",
    "\n",
    "data = dataset['data']\n",
    "label = dataset['target']\n",
    "\n",
    "X = data.values.astype('float32')\n",
    "\n",
    "label_01 = (label == '2')\n",
    "y = label_01.values.astype('int32')\n",
    "\n",
    "print(X, y)"
   ]
  },
  {
   "cell_type": "code",
   "execution_count": 27,
   "id": "efd8a241",
   "metadata": {},
   "outputs": [
    {
     "name": "stdout",
     "output_type": "stream",
     "text": [
      "[[ 0.553823 -0.189665 -1.668229 -1.249093 -0.685406]\n",
      " [-0.660158 -0.141079  2.535399 -1.544766 -0.136583]\n",
      " [-0.757811 -0.176658  1.016982 -1.107165 -0.486269]\n",
      " ...\n",
      " [-0.044375 -0.010512  0.030989 -0.019379  1.281061]\n",
      " [ 0.246882 -0.793228  1.190101  1.423194 -1.303036]\n",
      " [-0.794604 -0.640053  0.632221  0.72028  -1.231182]] [1 1 1 ... 2 2 2]\n"
     ]
    }
   ],
   "source": [
    "## phoneme\n",
    "\n",
    "dataset = fetch_openml(data_id=44127)\n",
    "\n",
    "data = dataset['data']\n",
    "label = dataset['target']\n",
    "\n",
    "X = data.values.astype('float32')\n",
    "y = label.values.astype('int32')\n",
    "\n",
    "print(X, y)"
   ]
  },
  {
   "cell_type": "code",
   "execution_count": 31,
   "id": "4dc20117",
   "metadata": {},
   "outputs": [
    {
     "name": "stdout",
     "output_type": "stream",
     "text": [
      "[[ 6.71799e+00  2.28262e+00  7.85358e+01 ...  3.03752e+00  4.58658e+00\n",
      "   1.89042e-01]\n",
      " [ 6.28392e+00  1.72557e+00  1.42295e+02 ...  4.72848e+00  1.11028e+00\n",
      "   1.99529e-01]\n",
      " [ 3.50890e+00  5.63817e-01  8.83913e+01 ...  6.91036e-01 -2.01779e-01\n",
      "   2.94377e-01]\n",
      " ...\n",
      " [ 3.47254e+00  7.54493e-01  3.74064e-01 ...  9.21537e-01  8.55738e-02\n",
      "   2.57964e-01]\n",
      " [ 4.36972e+00  5.35565e-01  4.52911e+01 ...  2.88574e+00  4.94326e-01\n",
      "   2.49625e-01]\n",
      " [ 3.19592e+00  1.05704e+00  3.26907e+01 ...  1.11622e+00  3.07437e-01\n",
      "   1.85427e-01]] [0 0 0 ... 1 1 1]\n"
     ]
    }
   ],
   "source": [
    "## MiniBooNE\n",
    "\n",
    "dataset = fetch_openml(data_id=44128)\n",
    "\n",
    "data = dataset['data']\n",
    "label = dataset['target']\n",
    "\n",
    "X = data.values.astype('float32')\n",
    "\n",
    "label_01 = (label == 'True')\n",
    "y = label_01.values.astype('int32')\n",
    "\n",
    "print(X, y)"
   ]
  },
  {
   "cell_type": "code",
   "execution_count": 32,
   "id": "fb81ec16",
   "metadata": {},
   "outputs": [
    {
     "name": "stdout",
     "output_type": "stream",
     "text": [
      "[[ 0.7309383  -0.8620165   1.3048955  ...  0.5377991   0.8394942\n",
      "   0.80703175]\n",
      " [ 0.824456   -0.01758559 -1.094985   ...  1.1575825   1.1725905\n",
      "   1.101483  ]\n",
      " [ 0.59221745 -0.61462843  0.60077655 ...  0.94074273  1.8648893\n",
      "   1.4404321 ]\n",
      " ...\n",
      " [ 1.1705261   0.26486537  0.9952829  ...  1.0470649   0.810152\n",
      "   0.6884821 ]\n",
      " [ 0.75308245 -0.74027044 -0.32538968 ...  0.40210062  1.1690451\n",
      "   1.0532993 ]\n",
      " [ 1.6635526   0.74795383 -0.4896286  ...  1.1039197   0.97240376\n",
      "   0.8078589 ]] [0 0 0 ... 1 1 1]\n"
     ]
    }
   ],
   "source": [
    "## Higgs\n",
    "\n",
    "dataset = fetch_openml(data_id=44129)\n",
    "\n",
    "data = dataset['data']\n",
    "label = dataset['target']\n",
    "\n",
    "X = data.values.astype('float32')\n",
    "y = label.values.astype('int32')\n",
    "\n",
    "print(X, y)"
   ]
  },
  {
   "cell_type": "code",
   "execution_count": 33,
   "id": "30f05fb3",
   "metadata": {},
   "outputs": [
    {
     "name": "stdout",
     "output_type": "stream",
     "text": [
      "[[9.6840e+03 2.9800e+02 9.9000e+01 ... 1.7600e-02 4.0000e+00 3.0000e+00]\n",
      " [2.0650e+03 6.6000e+01 1.1900e+02 ... 2.3900e-02 8.0000e+00 1.0000e+00]\n",
      " [1.9690e+03 6.1000e+01 1.3900e+02 ... 4.3100e-02 4.0000e+00 8.0000e+00]\n",
      " ...\n",
      " [1.0925e+04 3.3600e+02 2.1900e+02 ... 1.1900e-02 9.0000e+00 4.0000e+00]\n",
      " [1.0926e+04 3.3600e+02 1.3900e+02 ... 1.5300e-02 9.0000e+00 5.0000e+00]\n",
      " [1.0927e+04 3.3600e+02 1.7900e+02 ... 6.8000e-03 9.0000e+00 6.0000e+00]] [0 0 0 ... 1 1 1]\n"
     ]
    }
   ],
   "source": [
    "## eye_movements\n",
    "\n",
    "dataset = fetch_openml(data_id=44130)\n",
    "\n",
    "data = dataset['data']\n",
    "label = dataset['target']\n",
    "\n",
    "X = data.values.astype('float32')\n",
    "y = label.values.astype('int32')\n",
    "\n",
    "print(X, y)"
   ]
  },
  {
   "cell_type": "code",
   "execution_count": 34,
   "id": "8dbaaf2f",
   "metadata": {},
   "outputs": [
    {
     "name": "stdout",
     "output_type": "stream",
     "text": [
      "[[6.74479e-02 2.70833e-01 4.44444e-01 ... 1.03183e+01 6.65509e-03\n",
      "  1.56715e-01]\n",
      " [7.82581e-02 2.18750e-01 6.02778e-01 ... 4.20547e+00 1.75330e-01\n",
      "  3.53736e-01]\n",
      " [4.54572e-02 3.04167e-01 2.86111e-01 ... 2.30291e+01 5.30718e-01\n",
      "  1.17468e-01]\n",
      " ...\n",
      " [1.92708e-02 1.31250e-01 2.88889e-01 ... 1.18748e+01 2.16447e-01\n",
      "  2.20593e-01]\n",
      " [1.31736e-01 5.08333e-01 3.20833e-01 ... 6.93067e-01 1.23611e-01\n",
      "  4.25185e-02]\n",
      " [1.42662e-01 4.94444e-01 9.04167e-01 ... 2.05517e+01 1.87272e-01\n",
      "  8.99691e-01]] [0 0 0 ... 1 1 1]\n"
     ]
    }
   ],
   "source": [
    "## jannis\n",
    "\n",
    "dataset = fetch_openml(data_id=44131)\n",
    "\n",
    "data = dataset['data']\n",
    "label = dataset['target']\n",
    "\n",
    "X = data.values.astype('float32')\n",
    "y = label.values.astype('int32')\n",
    "\n",
    "print(X, y)"
   ]
  },
  {
   "cell_type": "code",
   "execution_count": 35,
   "id": "53525211",
   "metadata": {},
   "outputs": [
    {
     "name": "stdout",
     "output_type": "stream",
     "text": [
      "[[6.9995001e-03 3.8000000e+01 0.0000000e+00 ... 1.0000000e+00\n",
      "  0.0000000e+00 3.0000000e+00]\n",
      " [7.0459169e-01 6.3000000e+01 0.0000000e+00 ... 1.0000000e+00\n",
      "  0.0000000e+00 0.0000000e+00]\n",
      " [6.3112721e-02 5.7000000e+01 0.0000000e+00 ... 0.0000000e+00\n",
      "  0.0000000e+00 0.0000000e+00]\n",
      " ...\n",
      " [9.2010653e-01 3.1000000e+01 1.0000000e+00 ... 0.0000000e+00\n",
      "  0.0000000e+00 0.0000000e+00]\n",
      " [9.8382491e-01 5.5000000e+01 0.0000000e+00 ... 0.0000000e+00\n",
      "  0.0000000e+00 6.0000000e+00]\n",
      " [2.2471093e-01 5.5000000e+01 0.0000000e+00 ... 0.0000000e+00\n",
      "  0.0000000e+00 0.0000000e+00]] [0 0 0 ... 1 1 1]\n"
     ]
    }
   ],
   "source": [
    "## credit\n",
    "\n",
    "dataset = fetch_openml(data_id=44089)\n",
    "\n",
    "data = dataset['data']\n",
    "label = dataset['target']\n",
    "\n",
    "X = data.values.astype('float32')\n",
    "y = label.values.astype('int32')\n",
    "\n",
    "print(X, y)"
   ]
  },
  {
   "cell_type": "code",
   "execution_count": 38,
   "id": "1eb6bd98",
   "metadata": {},
   "outputs": [
    {
     "name": "stdout",
     "output_type": "stream",
     "text": [
      "[[   2.1827      26.           4.5214286 ...    2.1785715   40.05\n",
      "  -122.1      ]\n",
      " [   3.0755      32.           4.623068  ...    4.5992866   32.77\n",
      "  -117.06     ]\n",
      " [   1.8235      40.           4.7011495 ...    3.5555556   37.75\n",
      "  -122.16     ]\n",
      " ...\n",
      " [   1.9327      10.           5.7894735 ...    3.9385965   38.57\n",
      "  -121.92     ]\n",
      " [   3.75        38.           5.2752295 ...    2.3761468   38.72\n",
      "  -121.9      ]\n",
      " [   2.8542      37.           5.2537313 ...    3.5522387   38.84\n",
      "  -121.81     ]] [0 0 0 ... 1 1 1]\n"
     ]
    }
   ],
   "source": [
    "## california\n",
    "\n",
    "dataset = fetch_openml(data_id=44090)\n",
    "\n",
    "data = dataset['data']\n",
    "label = dataset['target']\n",
    "\n",
    "X = data.values.astype('float32')\n",
    "\n",
    "label_01 = (label == 'True')\n",
    "y = label_01.values.astype('int32')\n",
    "\n",
    "print(X, y)"
   ]
  },
  {
   "cell_type": "code",
   "execution_count": 40,
   "id": "341e09c9",
   "metadata": {},
   "outputs": [
    {
     "name": "stdout",
     "output_type": "stream",
     "text": [
      "[[ 8.6   0.31  0.3  ...  2.95  0.39 10.1 ]\n",
      " [ 6.7   0.2   0.41 ...  3.14  0.58  9.8 ]\n",
      " [ 6.    0.22  0.25 ...  3.08  0.36  9.4 ]\n",
      " ...\n",
      " [ 6.2   0.21  0.28 ...  3.21  1.08 12.15]\n",
      " [ 6.2   0.41  0.22 ...  3.04  0.79 13.  ]\n",
      " [ 5.5   0.29  0.3  ...  3.34  0.38 12.8 ]] [0 0 0 ... 1 1 1]\n"
     ]
    }
   ],
   "source": [
    "## wine\n",
    "\n",
    "dataset = fetch_openml(data_id=44091)\n",
    "\n",
    "data = dataset['data']\n",
    "label = dataset['target']\n",
    "\n",
    "X = data.values.astype('float32')\n",
    "\n",
    "label_01 = (label == 'True')\n",
    "y = label_01.values.astype('int32')\n",
    "\n",
    "print(X, y)"
   ]
  },
  {
   "cell_type": "code",
   "execution_count": null,
   "id": "4359228a",
   "metadata": {},
   "outputs": [],
   "source": []
  }
 ],
 "metadata": {
  "kernelspec": {
   "display_name": "Python 3.6.8 64-bit",
   "language": "python",
   "name": "python3"
  },
  "language_info": {
   "codemirror_mode": {
    "name": "ipython",
    "version": 3
   },
   "file_extension": ".py",
   "mimetype": "text/x-python",
   "name": "python",
   "nbconvert_exporter": "python",
   "pygments_lexer": "ipython3",
   "version": "3.6.8"
  },
  "vscode": {
   "interpreter": {
    "hash": "916dbcbb3f70747c44a77c7bcd40155683ae19c65e1c03b4aa3499c5328201f1"
   }
  }
 },
 "nbformat": 4,
 "nbformat_minor": 5
}
