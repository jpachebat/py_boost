{
 "cells": [
  {
   "cell_type": "code",
   "execution_count": 1,
   "id": "50c15868-2acf-401b-a859-7c022b05aaa3",
   "metadata": {},
   "outputs": [],
   "source": [
    "## Train py_boost, send data to X_py_boost"
   ]
  },
  {
   "cell_type": "code",
   "execution_count": 1,
   "id": "7c0cd768-8c3f-4d09-b595-40777c07d391",
   "metadata": {},
   "outputs": [],
   "source": [
    "from accuracy_per_time import *"
   ]
  },
  {
   "cell_type": "code",
   "execution_count": 7,
   "id": "514b0798-c49a-4533-8ebd-a8a309a734cb",
   "metadata": {},
   "outputs": [
    {
     "name": "stdout",
     "output_type": "stream",
     "text": [
      "(640000, 28) (160000, 28) (200000, 28)\n",
      "(640000,) (160000,) (200000,)\n",
      "Stored 'X_train' (ndarray)\n",
      "Stored 'y_train' (ndarray)\n",
      "Stored 'X_test' (ndarray)\n",
      "Stored 'y_test' (ndarray)\n"
     ]
    }
   ],
   "source": [
    "import pandas as pd\n",
    "\n",
    "df = pd.read_csv('HIGGS.csv', nrows=1000000)\n",
    "df.columns = ['label', 'lepton pT', 'lepton eta', 'lepton phi', 'missing energy magnitude', 'missing energy phi', 'jet 1 pt', 'jet 1 eta', 'jet 1 phi', 'jet 1 b-tag', 'jet 2 pt', 'jet 2 eta', 'jet 2 phi', 'jet 2 b-tag', 'jet 3 pt', 'jet 3 eta', 'jet 3 phi', 'jet 3 b-tag', 'jet 4 pt', 'jet 4 eta', 'jet 4 phi', 'jet 4 b-tag', 'm_jj', 'm_jjj', 'm_lv', 'm_jlv', 'm_bb', 'm_wbb', 'm_wwbb']\n",
    "df[\"label\"] = df[\"label\"].apply(int)\n",
    "\n",
    "df_train = df\n",
    "\n",
    "X = df_train.iloc[:, 1:].to_numpy()\n",
    "y = df_train['label'].to_numpy()\n",
    "\n",
    "# Pre-processing\n",
    "\n",
    "from sklearn.preprocessing import StandardScaler\n",
    "from sklearn.model_selection import train_test_split\n",
    "\n",
    "sc = StandardScaler()\n",
    "X_std = sc.fit_transform(X)\n",
    "\n",
    "X_t, X_test, y_t, y_test = train_test_split(X_std, y, test_size=0.20, random_state=42)\n",
    "X_train, X_val, y_train, y_val = train_test_split(X_t, y_t, test_size=0.20, random_state=42)\n",
    "\n",
    "print(X_train.shape, X_val.shape, X_test.shape)\n",
    "print(y_train.shape, y_val.shape, y_test.shape)\n",
    "\n",
    "%store X_train\n",
    "%store y_train\n",
    "%store X_test\n",
    "%store y_test"
   ]
  },
  {
   "cell_type": "code",
   "execution_count": 6,
   "id": "5641f75e-4a88-4991-a569-8c8566002696",
   "metadata": {},
   "outputs": [
    {
     "name": "stdout",
     "output_type": "stream",
     "text": [
      "[09:22:01] Stdout logging level is INFO.\n",
      "[09:22:01] GDBT train starts. Max iter 1000, early stopping rounds 500\n",
      "[09:22:01] Iter 0; Sample 0, BCE = 0.6776678787939081; \n",
      "[09:22:06] Iter 100; Sample 0, BCE = 0.4162358006914276; \n",
      "[09:22:10] Iter 200; Sample 0, BCE = 0.36618843042671034; \n",
      "[09:22:15] Iter 300; Sample 0, BCE = 0.3270105284807344; \n",
      "[09:22:20] Iter 400; Sample 0, BCE = 0.2943764173631798; \n",
      "[09:22:25] Iter 500; Sample 0, BCE = 0.26319162347907116; \n",
      "[09:22:31] Iter 600; Sample 0, BCE = 0.23697707676765498; \n",
      "[09:22:36] Iter 700; Sample 0, BCE = 0.21183107917592506; \n",
      "[09:22:44] Iter 800; Sample 0, BCE = 0.18835344704584642; \n",
      "[09:22:55] Iter 900; Sample 0, BCE = 0.1660202137853687; \n",
      "[09:23:05] Iter 999; Sample 0, BCE = 0.14583576882647384; \n",
      "training time: 66.05305981636047\n",
      "time per iteration: 0.06605305981636048\n"
     ]
    }
   ],
   "source": [
    "import numpy as np\n",
    "\n",
    "from py_boost import GradientBoosting\n",
    "import time\n",
    "\n",
    "\n",
    "start = time.time()\n",
    "\n",
    "model = GradientBoosting(loss='bce', ntrees=1000, es=500, max_depth=12, lambda_l2=0.001, verbose=100)\n",
    "model.fit(X_train, y_train, eval_sets=[{'X': X_train, 'y': y_train},])\n",
    "\n",
    "end = time.time()\n",
    "\n",
    "\n",
    "time = end - start #computation time \n",
    "print(\"training time:\", time)\n",
    "\n",
    "y2 = get_results(model)\n",
    "\n",
    "time_per_iter = time / len(y2)\n",
    "print(\"time per iteration:\", time_per_iter)\n",
    "x2 = [i * time_per_iter  for i in range(len(y2))]"
   ]
  },
  {
   "cell_type": "code",
   "execution_count": 4,
   "id": "478bc32e-4b23-406f-931f-65ed16c25f2d",
   "metadata": {},
   "outputs": [
    {
     "name": "stderr",
     "output_type": "stream",
     "text": [
      "UsageError: Unknown variable 'y2'\n"
     ]
    }
   ],
   "source": [
    "%store y2\n",
    "%store x2"
   ]
  },
  {
   "cell_type": "code",
   "execution_count": null,
   "id": "24835caf-f7b0-4d12-9158-5be753cffc39",
   "metadata": {},
   "outputs": [],
   "source": []
  }
 ],
 "metadata": {
  "kernelspec": {
   "display_name": "Python 3",
   "language": "python",
   "name": "python3"
  },
  "language_info": {
   "codemirror_mode": {
    "name": "ipython",
    "version": 3
   },
   "file_extension": ".py",
   "mimetype": "text/x-python",
   "name": "python",
   "nbconvert_exporter": "python",
   "pygments_lexer": "ipython3",
   "version": "3.6.8"
  }
 },
 "nbformat": 4,
 "nbformat_minor": 5
}
