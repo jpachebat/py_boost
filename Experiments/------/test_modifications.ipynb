{
 "cells": [
  {
   "cell_type": "markdown",
   "id": "fd4a3ef6-1d43-4e8b-81c4-6836d782c222",
   "metadata": {
    "jp-MarkdownHeadingCollapsed": true,
    "tags": []
   },
   "source": [
    "### Setup"
   ]
  },
  {
   "cell_type": "code",
   "execution_count": 1,
   "id": "3f12b36d-95d1-431e-a1ce-aa2f28b340cb",
   "metadata": {},
   "outputs": [
    {
     "name": "stdout",
     "output_type": "stream",
     "text": [
      "Loaded plugins: nvidia, remove-with-leaves\n",
      "Package cuda-10-2-10.2.89-1.x86_64 already installed and latest version\n",
      "Nothing to do\n",
      "/bin/bash: setupCUDA: command not found\n",
      "Defaulting to user installation because normal site-packages is not writeable\n",
      "Looking in indexes: https://build-nexus.prod.crto.in/repository/moab.pypi/simple\n",
      "Requirement already satisfied: cupy-cuda102 in /home/j.pachebat/.local/lib/python3.6/site-packages (9.6.0)\n",
      "Requirement already satisfied: fastrlock>=0.5 in /home/j.pachebat/.local/lib/python3.6/site-packages (from cupy-cuda102) (0.8)\n",
      "Requirement already satisfied: numpy<1.24,>=1.17 in /home/j.pachebat/.local/lib/python3.6/site-packages (from cupy-cuda102) (1.19.5)\n"
     ]
    }
   ],
   "source": [
    "!sudo yum --enablerepo=Cuda install -y cuda-10-2\n",
    "!setupCUDA 10.2\n",
    "!pip install -U cupy-cuda102\n"
   ]
  },
  {
   "cell_type": "code",
   "execution_count": 7,
   "id": "20c89fed-f323-4348-9ab0-2687e7ef6c5b",
   "metadata": {},
   "outputs": [
    {
     "name": "stdout",
     "output_type": "stream",
     "text": [
      "\u001b[33mWARNING: Skipping Py-Boost as it is not installed.\u001b[0m\n"
     ]
    }
   ],
   "source": [
    "!pip uninstall Py-Boost"
   ]
  },
  {
   "cell_type": "markdown",
   "id": "35b8e2d9-b0c9-4f20-bc55-f0abd908fb60",
   "metadata": {
    "tags": []
   },
   "source": [
    "### Tests on modified py_boost"
   ]
  },
  {
   "cell_type": "code",
   "execution_count": null,
   "id": "760eaa30-9bf1-41db-8765-4d197a738cf7",
   "metadata": {},
   "outputs": [
    {
     "name": "stdout",
     "output_type": "stream",
     "text": [
      "Found existing installation: py-boost 0.1.9\n",
      "Uninstalling py-boost-0.1.9:\n",
      "  Would remove:\n",
      "    /home/j.pachebat/.local/lib/python3.6/site-packages/py_boost-0.1.9.dist-info/*\n",
      "    /home/j.pachebat/.local/lib/python3.6/site-packages/py_boost/*\n",
      "Proceed (Y/n)? "
     ]
    }
   ],
   "source": [
    "#pip uninstall py_boost"
   ]
  },
  {
   "cell_type": "code",
   "execution_count": 1,
   "id": "4d4a45b4-d909-40ef-9038-1d3e8bbbbb2a",
   "metadata": {},
   "outputs": [],
   "source": [
    "import sys\n",
    "sys.path.append(\"../\")\n",
    "import py_boost\n",
    "\n",
    "import cupy as cp"
   ]
  },
  {
   "cell_type": "code",
   "execution_count": 2,
   "id": "8b6d99bc-4e2f-46fd-8821-3e3e2a973746",
   "metadata": {},
   "outputs": [
    {
     "name": "stdout",
     "output_type": "stream",
     "text": [
      "(array([0.18310205, 0.18310205, 0.18310205, 0.18310205, 0.18310205,\n",
      "       0.18310205, 0.18310205, 0.18310205, 0.18310205, 0.18310205]), array([-0.00136962, -0.00136962, -0.00136962, -0.00136962, -0.00136962,\n",
      "       -0.00136962, -0.00136962, -0.00136962, -0.00136962, -0.00136962]), array([-0., -0., -0., -0., -0., -0., -0., -0., -0., -0.])) (array([0.18310205, 0.18310205, 0.18310205, 0.18310205, 0.18310205,\n",
      "       0.18310205, 0.18310205, 0.18310205, 0.18310205, 0.18310205]), array([-0.00136962, -0.00136962, -0.00136962, -0.00136962, -0.00136962,\n",
      "       -0.00136962, -0.00136962, -0.00136962, -0.00136962, -0.00136962]), array([-0.00092914, -0.00092914, -0.00092914, -0.00092914, -0.00092914,\n",
      "       -0.00092914, -0.00092914, -0.00092914, -0.00092914, -0.00092914]))\n"
     ]
    }
   ],
   "source": [
    "from py_boost.gpu.losses.losses import MSLELossG2, MSLELossG3 \n",
    "import cupy as cp\n",
    "\n",
    "lG2 = MSLELossG2()\n",
    "lG3 = MSLELossG3()\n",
    "\n",
    "y_1, y_2 = cp.zeros(10) + 3, cp.zeros(10) + 11\n",
    "\n",
    "print(lG2(y_1, y_2), lG3(y_1, y_2))"
   ]
  },
  {
   "cell_type": "code",
   "execution_count": 3,
   "id": "2bd0d355-36ae-4fe7-a8db-d59f0a0bf563",
   "metadata": {},
   "outputs": [
    {
     "name": "stdout",
     "output_type": "stream",
     "text": [
      "Train Data: 14447 examples, 8 features\n"
     ]
    }
   ],
   "source": [
    "import numpy as np\n",
    "\n",
    "import sklearn.datasets\n",
    "from sklearn.model_selection import train_test_split\n",
    "from sklearn.utils import resample\n",
    "\n",
    "from sklearn.metrics import explained_variance_score\n",
    "from sklearn.metrics import mean_squared_error\n",
    "\n",
    "X, y = sklearn.datasets.fetch_california_housing(return_X_y=True)\n",
    "X_train, X_test, y_train, y_test = train_test_split(\n",
    "    X, y, train_size=0.7, random_state=0)\n",
    "print(f\"Train Data: {X_train.shape[0]} examples, {X_train.shape[1]} features\")"
   ]
  },
  {
   "cell_type": "code",
   "execution_count": 4,
   "id": "89e7e0ee-5967-4c4d-ad9a-0fb1ce804b7b",
   "metadata": {},
   "outputs": [
    {
     "name": "stdout",
     "output_type": "stream",
     "text": [
      "[15:35:09] Stdout logging level is INFO.\n",
      "[15:35:09] GDBT train starts. Max iter 5000, early stopping rounds 100\n",
      "[15:35:10] Iter 0; Sample 0, rmsle = 0.3424051660898219; \n",
      "[15:35:10] Iter 10; Sample 0, rmsle = 0.26256297991214267; \n",
      "[15:35:10] Iter 20; Sample 0, rmsle = 0.22048108322228782; \n",
      "[15:35:10] Iter 30; Sample 0, rmsle = 0.1976372762144306; \n",
      "[15:35:10] Iter 40; Sample 0, rmsle = 0.18422551284382793; \n",
      "[15:35:10] Iter 50; Sample 0, rmsle = 0.17496741247066058; \n",
      "[15:35:10] Iter 60; Sample 0, rmsle = 0.16844520240191121; \n",
      "[15:35:10] Iter 70; Sample 0, rmsle = 0.16415272316590573; \n",
      "[15:35:11] Iter 80; Sample 0, rmsle = 0.1597144398691406; \n",
      "[15:35:11] Iter 90; Sample 0, rmsle = 0.15633471513945318; \n",
      "[15:35:11] Iter 100; Sample 0, rmsle = 0.1541319259349028; \n",
      "[15:35:11] Iter 110; Sample 0, rmsle = 0.15256981516616983; \n",
      "[15:35:11] Iter 120; Sample 0, rmsle = 0.15077278722155907; \n",
      "[15:35:11] Iter 130; Sample 0, rmsle = 0.14916647241282147; \n",
      "[15:35:11] Iter 140; Sample 0, rmsle = 0.14789646244050708; \n",
      "[15:35:11] Iter 150; Sample 0, rmsle = 0.1467931671294061; \n",
      "[15:35:11] Iter 160; Sample 0, rmsle = 0.14579049833055974; \n",
      "[15:35:11] Iter 170; Sample 0, rmsle = 0.1449264652150018; \n",
      "[15:35:11] Iter 180; Sample 0, rmsle = 0.14417845392138168; \n",
      "[15:35:11] Iter 190; Sample 0, rmsle = 0.1435803345118521; \n",
      "[15:35:11] Iter 200; Sample 0, rmsle = 0.1430759840422083; \n",
      "[15:35:12] Iter 210; Sample 0, rmsle = 0.1424720880764838; \n",
      "[15:35:12] Iter 220; Sample 0, rmsle = 0.14204808284712764; \n",
      "[15:35:12] Iter 230; Sample 0, rmsle = 0.141591834199432; \n",
      "[15:35:12] Iter 240; Sample 0, rmsle = 0.1410514233750315; \n",
      "[15:35:12] Iter 250; Sample 0, rmsle = 0.1405536715899827; \n",
      "[15:35:12] Iter 260; Sample 0, rmsle = 0.14019067960758133; \n",
      "[15:35:12] Iter 270; Sample 0, rmsle = 0.13987991252356796; \n",
      "[15:35:12] Iter 280; Sample 0, rmsle = 0.13954727250125215; \n",
      "[15:35:12] Iter 290; Sample 0, rmsle = 0.13929624455039774; \n",
      "[15:35:12] Iter 300; Sample 0, rmsle = 0.13902062831943848; \n",
      "[15:35:12] Iter 310; Sample 0, rmsle = 0.13886861808563827; \n",
      "[15:35:12] Iter 320; Sample 0, rmsle = 0.13872105580304223; \n",
      "[15:35:13] Iter 330; Sample 0, rmsle = 0.138481906435072; \n",
      "[15:35:13] Iter 340; Sample 0, rmsle = 0.13833190477066584; \n",
      "[15:35:13] Iter 350; Sample 0, rmsle = 0.13816948305972573; \n",
      "[15:35:13] Iter 360; Sample 0, rmsle = 0.13806359881584995; \n",
      "[15:35:13] Iter 370; Sample 0, rmsle = 0.13791265910573403; \n",
      "[15:35:13] Iter 380; Sample 0, rmsle = 0.13767288491074656; \n",
      "[15:35:13] Iter 390; Sample 0, rmsle = 0.13763792090241272; \n",
      "[15:35:13] Iter 400; Sample 0, rmsle = 0.13741783520258585; \n",
      "[15:35:13] Iter 410; Sample 0, rmsle = 0.13712875822548268; \n",
      "[15:35:13] Iter 420; Sample 0, rmsle = 0.1370662100008566; \n",
      "[15:35:13] Iter 430; Sample 0, rmsle = 0.13699922510777218; \n",
      "[15:35:13] Iter 440; Sample 0, rmsle = 0.13694926396504697; \n",
      "[15:35:13] Iter 450; Sample 0, rmsle = 0.13675154799112216; \n",
      "[15:35:14] Iter 460; Sample 0, rmsle = 0.13664903659868632; \n",
      "[15:35:14] Iter 470; Sample 0, rmsle = 0.1364148170448163; \n",
      "[15:35:14] Iter 480; Sample 0, rmsle = 0.13625256568755276; \n",
      "[15:35:14] Iter 490; Sample 0, rmsle = 0.13615190051115708; \n",
      "[15:35:14] Iter 500; Sample 0, rmsle = 0.13612317045835726; \n",
      "[15:35:14] Iter 510; Sample 0, rmsle = 0.1360305258878153; \n",
      "[15:35:14] Iter 520; Sample 0, rmsle = 0.13598173601756028; \n",
      "[15:35:14] Iter 530; Sample 0, rmsle = 0.13594288141653973; \n",
      "[15:35:14] Iter 540; Sample 0, rmsle = 0.13593145556100528; \n",
      "[15:35:14] Iter 550; Sample 0, rmsle = 0.13587354212523758; \n",
      "[15:35:14] Iter 560; Sample 0, rmsle = 0.13574547688516556; \n",
      "[15:35:14] Iter 570; Sample 0, rmsle = 0.1356833773846716; \n",
      "[15:35:15] Iter 580; Sample 0, rmsle = 0.13556521099909719; \n",
      "[15:35:15] Iter 590; Sample 0, rmsle = 0.13553572666921904; \n",
      "[15:35:15] Iter 600; Sample 0, rmsle = 0.13548104819209678; \n",
      "[15:35:15] Iter 610; Sample 0, rmsle = 0.13543602782526054; \n",
      "[15:35:15] Iter 620; Sample 0, rmsle = 0.13534208359240418; \n",
      "[15:35:15] Iter 630; Sample 0, rmsle = 0.13523275013830946; \n",
      "[15:35:15] Iter 640; Sample 0, rmsle = 0.13511800411478916; \n",
      "[15:35:15] Iter 650; Sample 0, rmsle = 0.1349718110507183; \n",
      "[15:35:15] Iter 660; Sample 0, rmsle = 0.1349395229073653; \n",
      "[15:35:15] Iter 670; Sample 0, rmsle = 0.1348591084126007; \n",
      "[15:35:15] Iter 680; Sample 0, rmsle = 0.13481778046598245; \n",
      "[15:35:15] Iter 690; Sample 0, rmsle = 0.13475224385669868; \n",
      "[15:35:15] Iter 700; Sample 0, rmsle = 0.1347208736342525; \n",
      "[15:35:16] Iter 710; Sample 0, rmsle = 0.13463096876086625; \n",
      "[15:35:16] Iter 720; Sample 0, rmsle = 0.1345640354383308; \n",
      "[15:35:16] Iter 730; Sample 0, rmsle = 0.13443644551187678; \n",
      "[15:35:16] Iter 740; Sample 0, rmsle = 0.13438693201017038; \n",
      "[15:35:16] Iter 750; Sample 0, rmsle = 0.13437165909074678; \n",
      "[15:35:16] Iter 760; Sample 0, rmsle = 0.1343650934523168; \n",
      "[15:35:16] Iter 770; Sample 0, rmsle = 0.13430720649712954; \n",
      "[15:35:16] Iter 780; Sample 0, rmsle = 0.13421429360148804; \n",
      "[15:35:16] Iter 790; Sample 0, rmsle = 0.1341904647576674; \n",
      "[15:35:16] Iter 800; Sample 0, rmsle = 0.13418870417915504; \n",
      "[15:35:16] Iter 810; Sample 0, rmsle = 0.13413351043245741; \n",
      "[15:35:16] Iter 820; Sample 0, rmsle = 0.13415164927687365; \n",
      "[15:35:16] Iter 830; Sample 0, rmsle = 0.1341261443437921; \n",
      "[15:35:17] Iter 840; Sample 0, rmsle = 0.13409374362582524; \n",
      "[15:35:17] Iter 850; Sample 0, rmsle = 0.1340525358536177; \n",
      "[15:35:17] Iter 860; Sample 0, rmsle = 0.13404675743277153; \n",
      "[15:35:17] Iter 870; Sample 0, rmsle = 0.1340623143662013; \n",
      "[15:35:17] Iter 880; Sample 0, rmsle = 0.13404384364675898; \n",
      "[15:35:17] Iter 890; Sample 0, rmsle = 0.1340183678921545; \n",
      "[15:35:17] Iter 900; Sample 0, rmsle = 0.13400721619746195; \n",
      "[15:35:17] Iter 910; Sample 0, rmsle = 0.13398960884893812; \n",
      "[15:35:17] Iter 920; Sample 0, rmsle = 0.13395539653229788; \n",
      "[15:35:17] Iter 930; Sample 0, rmsle = 0.13394145115086115; \n",
      "[15:35:17] Iter 940; Sample 0, rmsle = 0.13394652044884053; \n",
      "[15:35:17] Iter 950; Sample 0, rmsle = 0.13394983287925388; \n",
      "[15:35:18] Iter 960; Sample 0, rmsle = 0.13393658265557076; \n",
      "[15:35:18] Iter 970; Sample 0, rmsle = 0.13392641890364113; \n",
      "[15:35:18] Iter 980; Sample 0, rmsle = 0.13391769014829022; \n",
      "[15:35:18] Iter 990; Sample 0, rmsle = 0.13386640663153113; \n",
      "[15:35:18] Iter 1000; Sample 0, rmsle = 0.13376375305474175; \n",
      "[15:35:18] Iter 1010; Sample 0, rmsle = 0.13376497219427824; \n",
      "[15:35:18] Iter 1020; Sample 0, rmsle = 0.13374207568869328; \n",
      "[15:35:18] Iter 1030; Sample 0, rmsle = 0.13373449555893968; \n",
      "[15:35:18] Iter 1040; Sample 0, rmsle = 0.13376609962133143; \n",
      "[15:35:18] Iter 1050; Sample 0, rmsle = 0.13375122020373184; \n",
      "[15:35:18] Iter 1060; Sample 0, rmsle = 0.13372652932028312; \n",
      "[15:35:18] Iter 1070; Sample 0, rmsle = 0.1336756235555374; \n",
      "[15:35:18] Iter 1080; Sample 0, rmsle = 0.13365096505256266; \n",
      "[15:35:19] Iter 1090; Sample 0, rmsle = 0.13366328121052573; \n",
      "[15:35:19] Iter 1100; Sample 0, rmsle = 0.13368035147009028; \n",
      "[15:35:19] Iter 1110; Sample 0, rmsle = 0.1336777305354579; \n",
      "[15:35:19] Iter 1120; Sample 0, rmsle = 0.13369220837407564; \n",
      "[15:35:19] Iter 1130; Sample 0, rmsle = 0.13371490075128303; \n",
      "[15:35:19] Iter 1140; Sample 0, rmsle = 0.13371202937732046; \n",
      "[15:35:19] Iter 1150; Sample 0, rmsle = 0.13369872015022638; \n",
      "[15:35:19] Iter 1160; Sample 0, rmsle = 0.13368995294305788; \n",
      "[15:35:19] Iter 1170; Sample 0, rmsle = 0.13366703045818443; \n",
      "[15:35:19] Iter 1180; Sample 0, rmsle = 0.1336631253181522; \n",
      "[15:35:19] Early stopping at iter 1183, best iter 1083, best_score 0.13364321152996547\n"
     ]
    },
    {
     "data": {
      "text/plain": [
       "<py_boost.gpu.boosting.GradientBoosting at 0x7fc49c957c88>"
      ]
     },
     "execution_count": 4,
     "metadata": {},
     "output_type": "execute_result"
    }
   ],
   "source": [
    "from py_boost import GradientBoosting\n",
    "\n",
    "modelG2 = GradientBoosting('msleG2', ntrees=5000)\n",
    "modelG2.fit(X_train, y_train, eval_sets=[{'X': X_test, 'y': y_test},])\n"
   ]
  },
  {
   "cell_type": "code",
   "execution_count": 14,
   "id": "e951a2aa-54b0-464d-9840-e79cd83354a3",
   "metadata": {},
   "outputs": [
    {
     "name": "stdout",
     "output_type": "stream",
     "text": [
      "[12:50:33] Stdout logging level is INFO.\n",
      "[12:50:33] GDBT train starts. Max iter 5000, early stopping rounds 100\n",
      "[12:50:33] Iter 0; Sample 0, rmsle = 0.34589306634932815; \n",
      "[12:50:33] Iter 10; Sample 0, rmsle = 0.26505452867556967; \n",
      "[12:50:34] Iter 20; Sample 0, rmsle = 0.2187834347803201; \n",
      "[12:50:34] Iter 30; Sample 0, rmsle = 0.1929492063715246; \n",
      "[12:50:34] Iter 40; Sample 0, rmsle = 0.1796212171231592; \n",
      "[12:50:34] Iter 50; Sample 0, rmsle = 0.17113575243341422; \n",
      "[12:50:34] Iter 60; Sample 0, rmsle = 0.16402058984353654; \n",
      "[12:50:34] Iter 70; Sample 0, rmsle = 0.15893794998775623; \n",
      "[12:50:34] Iter 80; Sample 0, rmsle = 0.15563405533713778; \n",
      "[12:50:34] Iter 90; Sample 0, rmsle = 0.15351491255243802; \n",
      "[12:50:34] Iter 100; Sample 0, rmsle = 0.151778084770407; \n",
      "[12:50:34] Iter 110; Sample 0, rmsle = 0.15030588354598345; \n",
      "[12:50:34] Iter 120; Sample 0, rmsle = 0.14893771746837794; \n",
      "[12:50:34] Iter 130; Sample 0, rmsle = 0.1479705527769685; \n",
      "[12:50:34] Iter 140; Sample 0, rmsle = 0.1469974613965621; \n",
      "[12:50:35] Iter 150; Sample 0, rmsle = 0.1461811909559847; \n",
      "[12:50:35] Iter 160; Sample 0, rmsle = 0.1455585737359796; \n",
      "[12:50:35] Iter 170; Sample 0, rmsle = 0.1448759405686091; \n",
      "[12:50:35] Iter 180; Sample 0, rmsle = 0.14396785577310361; \n",
      "[12:50:35] Iter 190; Sample 0, rmsle = 0.14333166147920134; \n",
      "[12:50:35] Iter 200; Sample 0, rmsle = 0.14271093265502183; \n",
      "[12:50:35] Iter 210; Sample 0, rmsle = 0.14212484318873708; \n",
      "[12:50:35] Iter 220; Sample 0, rmsle = 0.14162467791358255; \n",
      "[12:50:35] Iter 230; Sample 0, rmsle = 0.14116880438344395; \n",
      "[12:50:35] Iter 240; Sample 0, rmsle = 0.14067295221747636; \n",
      "[12:50:35] Iter 250; Sample 0, rmsle = 0.140262074578867; \n",
      "[12:50:35] Iter 260; Sample 0, rmsle = 0.1398305961592658; \n",
      "[12:50:36] Iter 270; Sample 0, rmsle = 0.13957842563072514; \n",
      "[12:50:36] Iter 280; Sample 0, rmsle = 0.13926190737474609; \n",
      "[12:50:36] Iter 290; Sample 0, rmsle = 0.1390274268240765; \n",
      "[12:50:36] Iter 300; Sample 0, rmsle = 0.13867463672577135; \n",
      "[12:50:36] Iter 310; Sample 0, rmsle = 0.13836252891381698; \n",
      "[12:50:36] Iter 320; Sample 0, rmsle = 0.13808534936676545; \n",
      "[12:50:36] Iter 330; Sample 0, rmsle = 0.13794032002253548; \n",
      "[12:50:36] Iter 340; Sample 0, rmsle = 0.13781162161132088; \n",
      "[12:50:36] Iter 350; Sample 0, rmsle = 0.13772028251563212; \n",
      "[12:50:36] Iter 360; Sample 0, rmsle = 0.13756801590616158; \n",
      "[12:50:36] Iter 370; Sample 0, rmsle = 0.13743841908204868; \n",
      "[12:50:36] Iter 380; Sample 0, rmsle = 0.13725860744657836; \n",
      "[12:50:36] Iter 390; Sample 0, rmsle = 0.137174525415017; \n",
      "[12:50:37] Iter 400; Sample 0, rmsle = 0.1370834203022878; \n",
      "[12:50:37] Iter 410; Sample 0, rmsle = 0.13700078730923412; \n",
      "[12:50:37] Iter 420; Sample 0, rmsle = 0.13686771028252423; \n",
      "[12:50:37] Iter 430; Sample 0, rmsle = 0.13682633153066792; \n",
      "[12:50:37] Iter 440; Sample 0, rmsle = 0.13663366084625916; \n",
      "[12:50:37] Iter 450; Sample 0, rmsle = 0.13655529377977887; \n",
      "[12:50:37] Iter 460; Sample 0, rmsle = 0.13647676207186518; \n",
      "[12:50:37] Iter 470; Sample 0, rmsle = 0.1363203193992154; \n",
      "[12:50:37] Iter 480; Sample 0, rmsle = 0.13618667708635385; \n",
      "[12:50:37] Iter 490; Sample 0, rmsle = 0.13605453772881676; \n",
      "[12:50:37] Iter 500; Sample 0, rmsle = 0.1359136416056289; \n",
      "[12:50:37] Iter 510; Sample 0, rmsle = 0.13586199697697424; \n",
      "[12:50:37] Iter 520; Sample 0, rmsle = 0.13568910259424108; \n",
      "[12:50:38] Iter 530; Sample 0, rmsle = 0.13565295071544511; \n",
      "[12:50:38] Iter 540; Sample 0, rmsle = 0.1355958207254928; \n",
      "[12:50:38] Iter 550; Sample 0, rmsle = 0.13544334953299378; \n",
      "[12:50:38] Iter 560; Sample 0, rmsle = 0.1353162049973805; \n",
      "[12:50:38] Iter 570; Sample 0, rmsle = 0.1352249415627912; \n",
      "[12:50:38] Iter 580; Sample 0, rmsle = 0.13504475011127862; \n",
      "[12:50:38] Iter 590; Sample 0, rmsle = 0.1350036544990173; \n",
      "[12:50:38] Iter 600; Sample 0, rmsle = 0.13497616832206644; \n",
      "[12:50:38] Iter 610; Sample 0, rmsle = 0.13495052856231965; \n",
      "[12:50:38] Iter 620; Sample 0, rmsle = 0.13488096842829952; \n",
      "[12:50:38] Iter 630; Sample 0, rmsle = 0.13480090913075157; \n",
      "[12:50:38] Iter 640; Sample 0, rmsle = 0.1347681846558186; \n",
      "[12:50:38] Iter 650; Sample 0, rmsle = 0.1346766642087025; \n",
      "[12:50:39] Iter 660; Sample 0, rmsle = 0.13467692288404506; \n",
      "[12:50:39] Iter 670; Sample 0, rmsle = 0.1346666037558948; \n",
      "[12:50:39] Iter 680; Sample 0, rmsle = 0.13462400594496926; \n",
      "[12:50:39] Iter 690; Sample 0, rmsle = 0.13456188823584186; \n",
      "[12:50:39] Iter 700; Sample 0, rmsle = 0.13453011730395864; \n",
      "[12:50:39] Iter 710; Sample 0, rmsle = 0.13450138051650132; \n",
      "[12:50:39] Iter 720; Sample 0, rmsle = 0.13445481634659906; \n",
      "[12:50:39] Iter 730; Sample 0, rmsle = 0.134383020258256; \n",
      "[12:50:39] Iter 740; Sample 0, rmsle = 0.1343411777827492; \n",
      "[12:50:39] Iter 750; Sample 0, rmsle = 0.13428252420442896; \n",
      "[12:50:39] Iter 760; Sample 0, rmsle = 0.13423325740145248; \n",
      "[12:50:40] Iter 770; Sample 0, rmsle = 0.1342303297206478; \n",
      "[12:50:40] Iter 780; Sample 0, rmsle = 0.13418732887588158; \n",
      "[12:50:40] Iter 790; Sample 0, rmsle = 0.13416648061268763; \n",
      "[12:50:40] Iter 800; Sample 0, rmsle = 0.13412268397124139; \n",
      "[12:50:40] Iter 810; Sample 0, rmsle = 0.1341021160046204; \n",
      "[12:50:40] Iter 820; Sample 0, rmsle = 0.1341363763017032; \n",
      "[12:50:40] Iter 830; Sample 0, rmsle = 0.13412792774527935; \n",
      "[12:50:40] Iter 840; Sample 0, rmsle = 0.1340793266449156; \n",
      "[12:50:40] Iter 850; Sample 0, rmsle = 0.13401537198253677; \n",
      "[12:50:40] Iter 860; Sample 0, rmsle = 0.1339917634738608; \n",
      "[12:50:40] Iter 870; Sample 0, rmsle = 0.13393964029208608; \n",
      "[12:50:40] Iter 880; Sample 0, rmsle = 0.13394805141380306; \n",
      "[12:50:41] Iter 890; Sample 0, rmsle = 0.1339449920923058; \n",
      "[12:50:41] Iter 900; Sample 0, rmsle = 0.13392186845359766; \n",
      "[12:50:41] Iter 910; Sample 0, rmsle = 0.13392542193468074; \n",
      "[12:50:41] Iter 920; Sample 0, rmsle = 0.13389238714348456; \n",
      "[12:50:41] Iter 930; Sample 0, rmsle = 0.13388653631020614; \n",
      "[12:50:41] Iter 940; Sample 0, rmsle = 0.13384211813321745; \n",
      "[12:50:41] Iter 950; Sample 0, rmsle = 0.13377253644208242; \n",
      "[12:50:41] Iter 960; Sample 0, rmsle = 0.1337172799400692; \n",
      "[12:50:41] Iter 970; Sample 0, rmsle = 0.13368834704576532; \n",
      "[12:50:41] Iter 980; Sample 0, rmsle = 0.13368797078557315; \n",
      "[12:50:41] Iter 990; Sample 0, rmsle = 0.1336508829248616; \n",
      "[12:50:41] Iter 1000; Sample 0, rmsle = 0.13361904641781835; \n",
      "[12:50:41] Iter 1010; Sample 0, rmsle = 0.13359805625446114; \n",
      "[12:50:42] Iter 1020; Sample 0, rmsle = 0.13359535215222754; \n",
      "[12:50:42] Iter 1030; Sample 0, rmsle = 0.13359058607596094; \n",
      "[12:50:42] Iter 1040; Sample 0, rmsle = 0.13358028730249416; \n",
      "[12:50:42] Iter 1050; Sample 0, rmsle = 0.133580056055049; \n",
      "[12:50:42] Iter 1060; Sample 0, rmsle = 0.13358303155019127; \n",
      "[12:50:42] Iter 1070; Sample 0, rmsle = 0.13359324770851608; \n",
      "[12:50:42] Iter 1080; Sample 0, rmsle = 0.1335760567305128; \n",
      "[12:50:42] Iter 1090; Sample 0, rmsle = 0.1336255112717615; \n",
      "[12:50:42] Iter 1100; Sample 0, rmsle = 0.13361228100883507; \n",
      "[12:50:42] Iter 1110; Sample 0, rmsle = 0.1336080813852366; \n",
      "[12:50:42] Iter 1120; Sample 0, rmsle = 0.13359908049021854; \n",
      "[12:50:42] Iter 1130; Sample 0, rmsle = 0.13359869353845139; \n",
      "[12:50:42] Iter 1140; Sample 0, rmsle = 0.1335679531963888; \n",
      "[12:50:43] Iter 1150; Sample 0, rmsle = 0.13356897977997073; \n",
      "[12:50:43] Iter 1160; Sample 0, rmsle = 0.13355675716712057; \n",
      "[12:50:43] Iter 1170; Sample 0, rmsle = 0.13354673181921176; \n",
      "[12:50:43] Iter 1180; Sample 0, rmsle = 0.13358008124325457; \n",
      "[12:50:43] Iter 1190; Sample 0, rmsle = 0.13347992566587197; \n",
      "[12:50:43] Iter 1200; Sample 0, rmsle = 0.13341675494160007; \n",
      "[12:50:43] Iter 1210; Sample 0, rmsle = 0.13335053704692096; \n",
      "[12:50:43] Iter 1220; Sample 0, rmsle = 0.13334038255182837; \n",
      "[12:50:43] Iter 1230; Sample 0, rmsle = 0.13333528972649217; \n",
      "[12:50:43] Iter 1240; Sample 0, rmsle = 0.1333196770814547; \n",
      "[12:50:43] Iter 1250; Sample 0, rmsle = 0.13333636622762965; \n",
      "[12:50:43] Iter 1260; Sample 0, rmsle = 0.1333010075531836; \n",
      "[12:50:44] Iter 1270; Sample 0, rmsle = 0.13329623288701142; \n",
      "[12:50:44] Iter 1280; Sample 0, rmsle = 0.13329832633706667; \n",
      "[12:50:44] Iter 1290; Sample 0, rmsle = 0.1332774769223795; \n",
      "[12:50:44] Iter 1300; Sample 0, rmsle = 0.13325491277027798; \n",
      "[12:50:44] Iter 1310; Sample 0, rmsle = 0.133224696952568; \n",
      "[12:50:44] Iter 1320; Sample 0, rmsle = 0.1332041299172934; \n",
      "[12:50:44] Iter 1330; Sample 0, rmsle = 0.13320273942464778; \n",
      "[12:50:44] Iter 1340; Sample 0, rmsle = 0.13318489890943103; \n",
      "[12:50:44] Iter 1350; Sample 0, rmsle = 0.1331808125199892; \n",
      "[12:50:44] Iter 1360; Sample 0, rmsle = 0.13316032337062514; \n",
      "[12:50:44] Iter 1370; Sample 0, rmsle = 0.13312284571051924; \n",
      "[12:50:44] Iter 1380; Sample 0, rmsle = 0.1331059243931468; \n",
      "[12:50:44] Iter 1390; Sample 0, rmsle = 0.13309572406540215; \n",
      "[12:50:45] Iter 1400; Sample 0, rmsle = 0.133098593568867; \n",
      "[12:50:45] Iter 1410; Sample 0, rmsle = 0.13307474184305615; \n",
      "[12:50:45] Iter 1420; Sample 0, rmsle = 0.1330601397469744; \n",
      "[12:50:45] Iter 1430; Sample 0, rmsle = 0.1330531920211423; \n",
      "[12:50:45] Iter 1440; Sample 0, rmsle = 0.13305659594348884; \n",
      "[12:50:45] Iter 1450; Sample 0, rmsle = 0.1330466099019472; \n",
      "[12:50:45] Iter 1460; Sample 0, rmsle = 0.13303940586532148; \n",
      "[12:50:45] Iter 1470; Sample 0, rmsle = 0.1330571024152033; \n",
      "[12:50:45] Iter 1480; Sample 0, rmsle = 0.13303516876523427; \n",
      "[12:50:45] Iter 1490; Sample 0, rmsle = 0.1330398988344061; \n",
      "[12:50:45] Iter 1500; Sample 0, rmsle = 0.1330673966850115; \n",
      "[12:50:45] Iter 1510; Sample 0, rmsle = 0.13310766314355504; \n",
      "[12:50:45] Iter 1520; Sample 0, rmsle = 0.13312956322207828; \n",
      "[12:50:46] Iter 1530; Sample 0, rmsle = 0.1331134884748865; \n",
      "[12:50:46] Iter 1540; Sample 0, rmsle = 0.13311411394195133; \n",
      "[12:50:46] Iter 1550; Sample 0, rmsle = 0.1331266398541266; \n",
      "[12:50:46] Iter 1560; Sample 0, rmsle = 0.1331306456640549; \n",
      "[12:50:46] Iter 1570; Sample 0, rmsle = 0.13312782772496554; \n",
      "[12:50:46] Iter 1580; Sample 0, rmsle = 0.13312330972080025; \n",
      "[12:50:46] Early stopping at iter 1582, best iter 1482, best_score 0.13303126259796694\n"
     ]
    },
    {
     "data": {
      "text/plain": [
       "<py_boost.gpu.boosting.GradientBoosting at 0x7f6b19893898>"
      ]
     },
     "execution_count": 14,
     "metadata": {},
     "output_type": "execute_result"
    }
   ],
   "source": [
    "from py_boost import GradientBoosting\n",
    "\n",
    "modelG3 = GradientBoosting('msleG3', ntrees=5000)\n",
    "modelG3.fit(X_train, y_train, eval_sets=[{'X': X_test, 'y': y_test},])\n"
   ]
  },
  {
   "cell_type": "markdown",
   "id": "b43c4f73-c711-4abf-aef3-8ca131b89eb1",
   "metadata": {
    "jp-MarkdownHeadingCollapsed": true,
    "tags": []
   },
   "source": [
    "### Classification"
   ]
  },
  {
   "cell_type": "code",
   "execution_count": 4,
   "id": "71ad9231-a385-4e33-a1a5-e207264ad246",
   "metadata": {},
   "outputs": [
    {
     "name": "stdout",
     "output_type": "stream",
     "text": [
      "Defaulting to user installation because normal site-packages is not writeable\n",
      "Looking in indexes: https://build-nexus.prod.crto.in/repository/moab.pypi/simple\n",
      "Collecting tensorflow_datasets\n",
      "  Downloading https://build-nexus.prod.crto.in/repository/moab.pypi/packages/tensorflow-datasets/4.5.2/tensorflow_datasets-4.5.2-py3-none-any.whl (4.2 MB)\n",
      "     |################################| 4.2 MB 3.0 MB/s            \n",
      "\u001b[?25hRequirement already satisfied: requests>=2.19.0 in /home/j.pachebat/.local/lib/python3.6/site-packages (from tensorflow_datasets) (2.27.1)\n",
      "Collecting promise\n",
      "  Downloading https://build-nexus.prod.crto.in/repository/moab.pypi/packages/promise/2.3/promise-2.3.tar.gz (19 kB)\n",
      "  Preparing metadata (setup.py) ... \u001b[?25ldone\n",
      "\u001b[?25hCollecting protobuf>=3.12.2\n",
      "  Downloading https://build-nexus.prod.crto.in/repository/moab.pypi/packages/protobuf/4.21.0/protobuf-4.21.0-py3-none-any.whl (291 kB)\n",
      "     |################################| 291 kB 130.3 MB/s            \n",
      "\u001b[?25hCollecting tensorflow-metadata\n",
      "  Downloading https://build-nexus.prod.crto.in/repository/moab.pypi/packages/tensorflow-metadata/1.2.0/tensorflow_metadata-1.2.0-py3-none-any.whl (48 kB)\n",
      "     |################################| 48 kB 31.0 MB/s             \n",
      "\u001b[?25hRequirement already satisfied: termcolor in /usr/local/lib/python3.6/site-packages (from tensorflow_datasets) (1.1.0)\n",
      "Requirement already satisfied: six in /usr/local/lib/python3.6/site-packages (from tensorflow_datasets) (1.15.0)\n",
      "Collecting tqdm\n",
      "  Downloading https://build-nexus.prod.crto.in/repository/moab.pypi/packages/tqdm/4.64.0/tqdm-4.64.0-py2.py3-none-any.whl (78 kB)\n",
      "     |################################| 78 kB 39.0 MB/s             \n",
      "\u001b[?25hRequirement already satisfied: typing-extensions in /usr/local/lib/python3.6/site-packages (from tensorflow_datasets) (4.1.1)\n",
      "Collecting absl-py\n",
      "  Downloading https://build-nexus.prod.crto.in/repository/moab.pypi/packages/absl-py/1.2.0/absl_py-1.2.0-py3-none-any.whl (123 kB)\n",
      "     |################################| 123 kB 145.6 MB/s            \n",
      "\u001b[?25hCollecting importlib-resources\n",
      "  Downloading https://build-nexus.prod.crto.in/repository/moab.pypi/packages/importlib-resources/5.4.0/importlib_resources-5.4.0-py3-none-any.whl (28 kB)\n",
      "Requirement already satisfied: numpy in /home/j.pachebat/.local/lib/python3.6/site-packages (from tensorflow_datasets) (1.19.5)\n",
      "Collecting dill\n",
      "  Downloading https://build-nexus.prod.crto.in/repository/moab.pypi/packages/dill/0.3.4/dill-0.3.4-py2.py3-none-any.whl (86 kB)\n",
      "     |################################| 86 kB 34.8 MB/s             \n",
      "\u001b[?25hRequirement already satisfied: dataclasses in /home/j.pachebat/.local/lib/python3.6/site-packages (from tensorflow_datasets) (0.8)\n",
      "Requirement already satisfied: idna<4,>=2.5 in /home/j.pachebat/.local/lib/python3.6/site-packages (from requests>=2.19.0->tensorflow_datasets) (3.3)\n",
      "Requirement already satisfied: charset-normalizer~=2.0.0 in /home/j.pachebat/.local/lib/python3.6/site-packages (from requests>=2.19.0->tensorflow_datasets) (2.0.12)\n",
      "Requirement already satisfied: certifi>=2017.4.17 in /home/j.pachebat/.local/lib/python3.6/site-packages (from requests>=2.19.0->tensorflow_datasets) (2022.6.15)\n",
      "Requirement already satisfied: urllib3<1.27,>=1.21.1 in /home/j.pachebat/.local/lib/python3.6/site-packages (from requests>=2.19.0->tensorflow_datasets) (1.26.11)\n",
      "Requirement already satisfied: zipp>=3.1.0 in /usr/local/lib/python3.6/site-packages (from importlib-resources->tensorflow_datasets) (3.6.0)\n",
      "Collecting googleapis-common-protos<2,>=1.52.0\n",
      "  Downloading https://build-nexus.prod.crto.in/repository/moab.pypi/packages/googleapis-common-protos/1.56.3/googleapis_common_protos-1.56.3-py2.py3-none-any.whl (211 kB)\n",
      "     |################################| 211 kB 136.4 MB/s            \n",
      "\u001b[?25hCollecting protobuf>=3.12.2\n",
      "  Downloading https://build-nexus.prod.crto.in/repository/moab.pypi/packages/protobuf/3.19.4/protobuf-3.19.4-cp36-cp36m-manylinux_2_17_x86_64.manylinux2014_x86_64.whl (1.1 MB)\n",
      "     |################################| 1.1 MB 110.7 MB/s            \n",
      "\u001b[?25hCollecting absl-py\n",
      "  Downloading https://build-nexus.prod.crto.in/repository/moab.pypi/packages/absl-py/0.12.0/absl_py-0.12.0-py3-none-any.whl (129 kB)\n",
      "     |################################| 129 kB 140.5 MB/s            \n",
      "\u001b[?25hBuilding wheels for collected packages: promise\n",
      "  Building wheel for promise (setup.py) ... \u001b[?25ldone\n",
      "\u001b[?25h  Created wheel for promise: filename=promise-2.3-py3-none-any.whl size=21503 sha256=580d6149216484a6f1e04cdb105fe358695c6165fba0f5f29e55f1c27626f5fa\n",
      "  Stored in directory: /home/j.pachebat/.cache/pip/wheels/16/e1/ae/8e4cfc4557b566d060eaee8157c1d5efe38d13e668eec2703e\n",
      "Successfully built promise\n",
      "Installing collected packages: protobuf, importlib-resources, googleapis-common-protos, absl-py, tqdm, tensorflow-metadata, promise, dill, tensorflow-datasets\n",
      "Successfully installed absl-py-0.12.0 dill-0.3.4 googleapis-common-protos-1.56.3 importlib-resources-5.4.0 promise-2.3 protobuf-3.19.4 tensorflow-datasets-4.5.2 tensorflow-metadata-1.2.0 tqdm-4.64.0\n",
      "Note: you may need to restart the kernel to use updated packages.\n"
     ]
    }
   ],
   "source": [
    "pip install tensorflow_datasets"
   ]
  },
  {
   "cell_type": "code",
   "execution_count": 1,
   "id": "96144b34-3825-4bfa-90c9-e31b7f0da63e",
   "metadata": {},
   "outputs": [
    {
     "name": "stdout",
     "output_type": "stream",
     "text": [
      "Defaulting to user installation because normal site-packages is not writeable\n",
      "Looking in indexes: https://build-nexus.prod.crto.in/repository/moab.pypi/simple\n",
      "Collecting tensorflow\n",
      "  Downloading https://build-nexus.prod.crto.in/repository/moab.pypi/packages/tensorflow/2.6.2/tensorflow-2.6.2-cp36-cp36m-manylinux2010_x86_64.whl (458.3 MB)\n",
      "     |#############################   | 419.8 MB 182.3 MB/s eta 0:00:01"
     ]
    },
    {
     "name": "stderr",
     "output_type": "stream",
     "text": [
      "IOPub data rate exceeded.\n",
      "The Jupyter server will temporarily stop sending output\n",
      "to the client in order to avoid crashing it.\n",
      "To change this limit, set the config variable\n",
      "`--ServerApp.iopub_data_rate_limit`.\n",
      "\n",
      "Current values:\n",
      "ServerApp.iopub_data_rate_limit=1000000.0 (bytes/sec)\n",
      "ServerApp.rate_limit_window=3.0 (secs)\n",
      "\n"
     ]
    },
    {
     "name": "stdout",
     "output_type": "stream",
     "text": [
      "     |################################| 458.3 MB 50 kB/s               \n",
      "\u001b[?25hCollecting clang~=5.0\n",
      "  Downloading https://build-nexus.prod.crto.in/repository/moab.pypi/packages/clang/5.0/clang-5.0.tar.gz (30 kB)\n",
      "  Preparing metadata (setup.py) ... \u001b[?25ldone\n",
      "\u001b[?25hRequirement already satisfied: six~=1.15.0 in /usr/local/lib/python3.6/site-packages (from tensorflow) (1.15.0)\n",
      "Collecting tensorboard<2.7,>=2.6.0\n",
      "  Downloading https://build-nexus.prod.crto.in/repository/moab.pypi/packages/tensorboard/2.6.0/tensorboard-2.6.0-py3-none-any.whl (5.6 MB)\n",
      "     |################################| 5.6 MB 118.2 MB/s            \n",
      "\u001b[?25hRequirement already satisfied: wheel~=0.35 in /usr/local/lib/python3.6/site-packages (from tensorflow) (0.37.1)\n",
      "Collecting google-pasta~=0.2\n",
      "  Downloading https://build-nexus.prod.crto.in/repository/moab.pypi/packages/google-pasta/0.2.0/google_pasta-0.2.0-py3-none-any.whl (57 kB)\n",
      "     |################################| 57 kB 28.0 MB/s             \n",
      "\u001b[?25hCollecting astunparse~=1.6.3\n",
      "  Downloading https://build-nexus.prod.crto.in/repository/moab.pypi/packages/astunparse/1.6.3/astunparse-1.6.3-py2.py3-none-any.whl (12 kB)\n",
      "Collecting flatbuffers~=1.12.0\n",
      "  Downloading https://build-nexus.prod.crto.in/repository/moab.pypi/packages/flatbuffers/1.12/flatbuffers-1.12-py2.py3-none-any.whl (15 kB)\n",
      "Requirement already satisfied: protobuf>=3.9.2 in /home/j.pachebat/.local/lib/python3.6/site-packages (from tensorflow) (3.19.4)\n",
      "Collecting typing-extensions~=3.7.4\n",
      "  Downloading https://build-nexus.prod.crto.in/repository/moab.pypi/packages/typing-extensions/3.7.4.3/typing_extensions-3.7.4.3-py3-none-any.whl (22 kB)\n",
      "Collecting wrapt~=1.12.1\n",
      "  Downloading https://build-nexus.prod.crto.in/repository/moab.pypi/packages/wrapt/1.12.1/wrapt-1.12.1.tar.gz (27 kB)\n",
      "  Preparing metadata (setup.py) ... \u001b[?25ldone\n",
      "\u001b[?25hCollecting gast==0.4.0\n",
      "  Downloading https://build-nexus.prod.crto.in/repository/moab.pypi/packages/gast/0.4.0/gast-0.4.0-py3-none-any.whl (9.8 kB)\n",
      "Collecting tensorflow-estimator<2.7,>=2.6.0\n",
      "  Downloading https://build-nexus.prod.crto.in/repository/moab.pypi/packages/tensorflow-estimator/2.6.0/tensorflow_estimator-2.6.0-py2.py3-none-any.whl (462 kB)\n",
      "     |################################| 462 kB 124.7 MB/s            \n",
      "\u001b[?25hCollecting keras-preprocessing~=1.1.2\n",
      "  Downloading https://build-nexus.prod.crto.in/repository/moab.pypi/packages/keras-preprocessing/1.1.2/Keras_Preprocessing-1.1.2-py2.py3-none-any.whl (42 kB)\n",
      "     |################################| 42 kB 7.4 MB/s              \n",
      "\u001b[?25hRequirement already satisfied: termcolor~=1.1.0 in /usr/local/lib/python3.6/site-packages (from tensorflow) (1.1.0)\n",
      "Collecting keras<2.7,>=2.6.0\n",
      "  Downloading https://build-nexus.prod.crto.in/repository/moab.pypi/packages/keras/2.6.0/keras-2.6.0-py2.py3-none-any.whl (1.3 MB)\n",
      "     |################################| 1.3 MB 136.9 MB/s            \n",
      "\u001b[?25hRequirement already satisfied: numpy~=1.19.2 in /home/j.pachebat/.local/lib/python3.6/site-packages (from tensorflow) (1.19.5)\n",
      "Requirement already satisfied: absl-py~=0.10 in /home/j.pachebat/.local/lib/python3.6/site-packages (from tensorflow) (0.12.0)\n",
      "Collecting opt-einsum~=3.3.0\n",
      "  Downloading https://build-nexus.prod.crto.in/repository/moab.pypi/packages/opt-einsum/3.3.0/opt_einsum-3.3.0-py3-none-any.whl (65 kB)\n",
      "     |################################| 65 kB 23.5 MB/s             \n",
      "\u001b[?25hCollecting h5py~=3.1.0\n",
      "  Downloading https://build-nexus.prod.crto.in/repository/moab.pypi/packages/h5py/3.1.0/h5py-3.1.0-cp36-cp36m-manylinux1_x86_64.whl (4.0 MB)\n",
      "     |################################| 4.0 MB 128.8 MB/s            \n",
      "\u001b[?25hCollecting grpcio<2.0,>=1.37.0\n",
      "  Downloading https://build-nexus.prod.crto.in/repository/moab.pypi/packages/grpcio/1.48.0/grpcio-1.48.0-cp36-cp36m-manylinux_2_17_x86_64.manylinux2014_x86_64.whl (4.6 MB)\n",
      "     |################################| 4.6 MB 71.3 MB/s            \n",
      "\u001b[?25hCollecting cached-property\n",
      "  Downloading https://build-nexus.prod.crto.in/repository/moab.pypi/packages/cached-property/1.5.2/cached_property-1.5.2-py2.py3-none-any.whl (7.6 kB)\n",
      "Collecting google-auth<2,>=1.6.3\n",
      "  Downloading https://build-nexus.prod.crto.in/repository/moab.pypi/packages/google-auth/1.35.0/google_auth-1.35.0-py2.py3-none-any.whl (152 kB)\n",
      "     |################################| 152 kB 131.3 MB/s            \n",
      "\u001b[?25hCollecting tensorboard-plugin-wit>=1.6.0\n",
      "  Downloading https://build-nexus.prod.crto.in/repository/moab.pypi/packages/tensorboard-plugin-wit/1.8.1/tensorboard_plugin_wit-1.8.1-py3-none-any.whl (781 kB)\n",
      "     |################################| 781 kB 128.5 MB/s            \n",
      "\u001b[?25hCollecting markdown>=2.6.8\n",
      "  Downloading https://build-nexus.prod.crto.in/repository/moab.pypi/packages/markdown/3.3.7/Markdown-3.3.7-py3-none-any.whl (97 kB)\n",
      "     |################################| 97 kB 39.3 MB/s             \n",
      "\u001b[?25hCollecting google-auth-oauthlib<0.5,>=0.4.1\n",
      "  Downloading https://build-nexus.prod.crto.in/repository/moab.pypi/packages/google-auth-oauthlib/0.4.6/google_auth_oauthlib-0.4.6-py2.py3-none-any.whl (18 kB)\n",
      "Collecting tensorboard-data-server<0.7.0,>=0.6.0\n",
      "  Downloading https://build-nexus.prod.crto.in/repository/moab.pypi/packages/tensorboard-data-server/0.6.1/tensorboard_data_server-0.6.1-py3-none-manylinux2010_x86_64.whl (4.9 MB)\n",
      "     |################################| 4.9 MB 125.0 MB/s            \n",
      "\u001b[?25hCollecting werkzeug>=0.11.15\n",
      "  Downloading https://build-nexus.prod.crto.in/repository/moab.pypi/packages/werkzeug/2.0.3/Werkzeug-2.0.3-py3-none-any.whl (289 kB)\n",
      "     |################################| 289 kB 132.1 MB/s            \n",
      "\u001b[?25hRequirement already satisfied: setuptools>=41.0.0 in /usr/local/lib/python3.6/site-packages (from tensorboard<2.7,>=2.6.0->tensorflow) (59.6.0)\n",
      "Requirement already satisfied: requests<3,>=2.21.0 in /home/j.pachebat/.local/lib/python3.6/site-packages (from tensorboard<2.7,>=2.6.0->tensorflow) (2.27.1)\n",
      "Collecting cachetools<5.0,>=2.0.0\n",
      "  Downloading https://build-nexus.prod.crto.in/repository/moab.pypi/packages/cachetools/4.2.4/cachetools-4.2.4-py3-none-any.whl (10 kB)\n",
      "Collecting pyasn1-modules>=0.2.1\n",
      "  Downloading https://build-nexus.prod.crto.in/repository/moab.pypi/packages/pyasn1-modules/0.2.8/pyasn1_modules-0.2.8-py2.py3-none-any.whl (155 kB)\n",
      "     |################################| 155 kB 124.1 MB/s            \n",
      "\u001b[?25hCollecting rsa<5,>=3.1.4\n",
      "  Downloading https://build-nexus.prod.crto.in/repository/moab.pypi/packages/rsa/4.9/rsa-4.9-py3-none-any.whl (34 kB)\n",
      "Requirement already satisfied: requests-oauthlib>=0.7.0 in /home/j.pachebat/.local/lib/python3.6/site-packages (from google-auth-oauthlib<0.5,>=0.4.1->tensorboard<2.7,>=2.6.0->tensorflow) (1.3.1)\n",
      "Collecting importlib-metadata>=4.4\n",
      "  Downloading https://build-nexus.prod.crto.in/repository/moab.pypi/packages/importlib-metadata/4.8.3/importlib_metadata-4.8.3-py3-none-any.whl (17 kB)\n",
      "Requirement already satisfied: certifi>=2017.4.17 in /home/j.pachebat/.local/lib/python3.6/site-packages (from requests<3,>=2.21.0->tensorboard<2.7,>=2.6.0->tensorflow) (2022.6.15)\n",
      "Requirement already satisfied: idna<4,>=2.5 in /home/j.pachebat/.local/lib/python3.6/site-packages (from requests<3,>=2.21.0->tensorboard<2.7,>=2.6.0->tensorflow) (3.3)\n",
      "Requirement already satisfied: urllib3<1.27,>=1.21.1 in /home/j.pachebat/.local/lib/python3.6/site-packages (from requests<3,>=2.21.0->tensorboard<2.7,>=2.6.0->tensorflow) (1.26.11)\n",
      "Requirement already satisfied: charset-normalizer~=2.0.0 in /home/j.pachebat/.local/lib/python3.6/site-packages (from requests<3,>=2.21.0->tensorboard<2.7,>=2.6.0->tensorflow) (2.0.12)\n",
      "Requirement already satisfied: dataclasses in /home/j.pachebat/.local/lib/python3.6/site-packages (from werkzeug>=0.11.15->tensorboard<2.7,>=2.6.0->tensorflow) (0.8)\n",
      "Requirement already satisfied: zipp>=0.5 in /usr/local/lib/python3.6/site-packages (from importlib-metadata>=4.4->markdown>=2.6.8->tensorboard<2.7,>=2.6.0->tensorflow) (3.6.0)\n",
      "Collecting pyasn1<0.5.0,>=0.4.6\n",
      "  Downloading https://build-nexus.prod.crto.in/repository/moab.pypi/packages/pyasn1/0.4.8/pyasn1-0.4.8-py2.py3-none-any.whl (77 kB)\n",
      "     |################################| 77 kB 31.2 MB/s             \n",
      "\u001b[?25hRequirement already satisfied: oauthlib>=3.0.0 in /home/j.pachebat/.local/lib/python3.6/site-packages (from requests-oauthlib>=0.7.0->google-auth-oauthlib<0.5,>=0.4.1->tensorboard<2.7,>=2.6.0->tensorflow) (3.2.0)\n",
      "Building wheels for collected packages: clang, wrapt\n",
      "  Building wheel for clang (setup.py) ... \u001b[?25ldone\n",
      "\u001b[?25h  Created wheel for clang: filename=clang-5.0-py3-none-any.whl size=30694 sha256=dd2d311be645b52cdd79ef90cacc86a14307a02223fee1ba79e41daffb7e24f5\n",
      "  Stored in directory: /home/j.pachebat/.cache/pip/wheels/7c/70/a6/52538776b7292bf03e3ad3f740c9fe5cc32aba6e640ca912a8\n",
      "  Building wheel for wrapt (setup.py) ... \u001b[?25ldone\n",
      "\u001b[?25h  Created wheel for wrapt: filename=wrapt-1.12.1-cp36-cp36m-linux_x86_64.whl size=64567 sha256=8ee4319cec1adb07bb37cbd3354ffd0b10ecd62fb7cd5a3384fb5b312665eb71\n",
      "  Stored in directory: /home/j.pachebat/.cache/pip/wheels/fa/de/3b/2dad248f3c0fbff18ddc36cf87a05e271f5c19b383e4736dae\n",
      "Successfully built clang wrapt\n",
      "Installing collected packages: pyasn1, typing-extensions, rsa, pyasn1-modules, cachetools, importlib-metadata, google-auth, werkzeug, tensorboard-plugin-wit, tensorboard-data-server, markdown, grpcio, google-auth-oauthlib, cached-property, wrapt, tensorflow-estimator, tensorboard, opt-einsum, keras-preprocessing, keras, h5py, google-pasta, gast, flatbuffers, clang, astunparse, tensorflow\n",
      "  Attempting uninstall: importlib-metadata\n",
      "    Found existing installation: importlib-metadata 1.7.0\n",
      "    Uninstalling importlib-metadata-1.7.0:\n",
      "      Successfully uninstalled importlib-metadata-1.7.0\n",
      "  Attempting uninstall: wrapt\n",
      "    Found existing installation: wrapt 1.14.1\n",
      "    Uninstalling wrapt-1.14.1:\n",
      "      Successfully uninstalled wrapt-1.14.1\n",
      "  Attempting uninstall: keras\n",
      "    Found existing installation: keras 2.9.0\n",
      "    Uninstalling keras-2.9.0:\n",
      "      Successfully uninstalled keras-2.9.0\n",
      "\u001b[31mERROR: pip's dependency resolver does not currently take into account all the packages that are installed. This behaviour is the source of the following dependency conflicts.\n",
      "py-boost 0.1.9 requires importlib-metadata<2.0,>=1.0; python_version < \"3.8\", but you have importlib-metadata 4.8.3 which is incompatible.\u001b[0m\n",
      "Successfully installed astunparse-1.6.3 cached-property-1.5.2 cachetools-4.2.4 clang-5.0 flatbuffers-1.12 gast-0.4.0 google-auth-1.35.0 google-auth-oauthlib-0.4.6 google-pasta-0.2.0 grpcio-1.48.0 h5py-3.1.0 importlib-metadata-4.8.3 keras-2.6.0 keras-preprocessing-1.1.2 markdown-3.3.7 opt-einsum-3.3.0 pyasn1-0.4.8 pyasn1-modules-0.2.8 rsa-4.9 tensorboard-2.6.0 tensorboard-data-server-0.6.1 tensorboard-plugin-wit-1.8.1 tensorflow-2.6.2 tensorflow-estimator-2.6.0 typing-extensions-3.7.4.3 werkzeug-2.0.3 wrapt-1.12.1\n",
      "Note: you may need to restart the kernel to use updated packages.\n"
     ]
    }
   ],
   "source": [
    "pip install tensorflow"
   ]
  },
  {
   "cell_type": "code",
   "execution_count": 3,
   "id": "af7bb34e-2bd6-418f-8d4c-dd5e6686c08c",
   "metadata": {},
   "outputs": [
    {
     "name": "stdout",
     "output_type": "stream",
     "text": [
      "\u001b[1mDownloading and preparing dataset Unknown size (download: Unknown size, generated: Unknown size, total: Unknown size) to /home/j.pachebat/tensorflow_datasets/mnist/3.0.1...\u001b[0m\n"
     ]
    },
    {
     "data": {
      "application/vnd.jupyter.widget-view+json": {
       "model_id": "e7cb3c6655d446bf93bae8bdac641b65",
       "version_major": 2,
       "version_minor": 0
      },
      "text/plain": [
       "Dl Completed...: 0 url [00:00, ? url/s]"
      ]
     },
     "metadata": {},
     "output_type": "display_data"
    },
    {
     "data": {
      "application/vnd.jupyter.widget-view+json": {
       "model_id": "cef4b19479dc4e85a81b3b17b747fb39",
       "version_major": 2,
       "version_minor": 0
      },
      "text/plain": [
       "Dl Size...: 0 MiB [00:00, ? MiB/s]"
      ]
     },
     "metadata": {},
     "output_type": "display_data"
    },
    {
     "data": {
      "application/vnd.jupyter.widget-view+json": {
       "model_id": "02bc6f10594e4037be64f7deab198ce6",
       "version_major": 2,
       "version_minor": 0
      },
      "text/plain": [
       "Extraction completed...: 0 file [00:00, ? file/s]"
      ]
     },
     "metadata": {},
     "output_type": "display_data"
    },
    {
     "data": {
      "application/vnd.jupyter.widget-view+json": {
       "model_id": "",
       "version_major": 2,
       "version_minor": 0
      },
      "text/plain": [
       "Generating splits...:   0%|          | 0/2 [00:00<?, ? splits/s]"
      ]
     },
     "metadata": {},
     "output_type": "display_data"
    },
    {
     "data": {
      "application/vnd.jupyter.widget-view+json": {
       "model_id": "",
       "version_major": 2,
       "version_minor": 0
      },
      "text/plain": [
       "Generating train examples...: 0 examples [00:00, ? examples/s]"
      ]
     },
     "metadata": {},
     "output_type": "display_data"
    },
    {
     "data": {
      "application/vnd.jupyter.widget-view+json": {
       "model_id": "",
       "version_major": 2,
       "version_minor": 0
      },
      "text/plain": [
       "Shuffling /home/j.pachebat/tensorflow_datasets/mnist/3.0.1.incompleteY2VC8M/mnist-train.tfrecord*...:   0%|   …"
      ]
     },
     "metadata": {},
     "output_type": "display_data"
    },
    {
     "data": {
      "application/vnd.jupyter.widget-view+json": {
       "model_id": "",
       "version_major": 2,
       "version_minor": 0
      },
      "text/plain": [
       "Generating test examples...: 0 examples [00:00, ? examples/s]"
      ]
     },
     "metadata": {},
     "output_type": "display_data"
    },
    {
     "data": {
      "application/vnd.jupyter.widget-view+json": {
       "model_id": "",
       "version_major": 2,
       "version_minor": 0
      },
      "text/plain": [
       "Shuffling /home/j.pachebat/tensorflow_datasets/mnist/3.0.1.incompleteY2VC8M/mnist-test.tfrecord*...:   0%|    …"
      ]
     },
     "metadata": {},
     "output_type": "display_data"
    },
    {
     "name": "stdout",
     "output_type": "stream",
     "text": [
      "\u001b[1mDataset mnist downloaded and prepared to /home/j.pachebat/tensorflow_datasets/mnist/3.0.1. Subsequent calls will reuse this data.\u001b[0m\n"
     ]
    }
   ],
   "source": [
    "import tensorflow as tf\n",
    "import tensorflow_datasets as tfds\n",
    "\n",
    "ds = tfds.load('mnist', split='train', shuffle_files=True)\n"
   ]
  },
  {
   "cell_type": "code",
   "execution_count": 4,
   "id": "5acb928d-bc6a-4881-ae82-e0766174e6df",
   "metadata": {},
   "outputs": [
    {
     "data": {
      "text/plain": [
       "<_OptionsDataset shapes: {image: (28, 28, 1), label: ()}, types: {image: tf.uint8, label: tf.int64}>"
      ]
     },
     "execution_count": 4,
     "metadata": {},
     "output_type": "execute_result"
    }
   ],
   "source": [
    "keras.datasets.mnist.load_data()"
   ]
  },
  {
   "cell_type": "markdown",
   "id": "dd9f80cb-2967-4b7d-92ea-dd3084a094b1",
   "metadata": {},
   "source": [
    "\n"
   ]
  }
 ],
 "metadata": {
  "kernelspec": {
   "display_name": "Python 3",
   "language": "python",
   "name": "python3"
  },
  "language_info": {
   "codemirror_mode": {
    "name": "ipython",
    "version": 3
   },
   "file_extension": ".py",
   "mimetype": "text/x-python",
   "name": "python",
   "nbconvert_exporter": "python",
   "pygments_lexer": "ipython3",
   "version": "3.6.8"
  }
 },
 "nbformat": 4,
 "nbformat_minor": 5
}
