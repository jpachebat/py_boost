{
 "cells": [
  {
   "cell_type": "markdown",
   "id": "df59c45e-c7d1-4cc9-9543-fa61b15fb09c",
   "metadata": {
    "jp-MarkdownHeadingCollapsed": true,
    "tags": []
   },
   "source": [
    "### MSLE, Californoia housing"
   ]
  },
  {
   "cell_type": "code",
   "execution_count": 11,
   "id": "ceaa4efd-334e-48af-ae5a-70d6b84c4a9a",
   "metadata": {},
   "outputs": [
    {
     "name": "stdout",
     "output_type": "stream",
     "text": [
      "(array([9.61370564, 9.61370564, 9.61370564, 9.61370564, 9.61370564,\n",
      "       9.61370564, 9.61370564, 9.61370564, 9.61370564, 9.61370564]), array([[1.],\n",
      "       [1.],\n",
      "       [1.],\n",
      "       [1.],\n",
      "       [1.],\n",
      "       [1.],\n",
      "       [1.],\n",
      "       [1.],\n",
      "       [1.],\n",
      "       [1.]], dtype=float32))\n"
     ]
    }
   ],
   "source": [
    "from py_boost.gpu.losses.losses import MSLELoss \n",
    "import cupy as cp\n",
    "\n",
    "l = MSLELoss()\n",
    "\n",
    "y_1, y_2 = cp.zeros(10) + 3, cp.zeros(10) + 11\n",
    "\n",
    "print(l(y_1, y_2))"
   ]
  },
  {
   "cell_type": "code",
   "execution_count": 12,
   "id": "16dd622e-ed18-4323-bbc2-f913b6726652",
   "metadata": {},
   "outputs": [
    {
     "name": "stdout",
     "output_type": "stream",
     "text": [
      "Train Data: 14447 examples, 8 features\n"
     ]
    }
   ],
   "source": [
    "import numpy as np\n",
    "\n",
    "import sklearn.datasets\n",
    "from sklearn.model_selection import train_test_split\n",
    "from sklearn.utils import resample\n",
    "\n",
    "from sklearn.metrics import explained_variance_score\n",
    "from sklearn.metrics import mean_squared_error\n",
    "\n",
    "X, y = sklearn.datasets.fetch_california_housing(return_X_y=True)\n",
    "X_train, X_test, y_train, y_test = train_test_split(\n",
    "    X, y, train_size=0.7, random_state=0)\n",
    "print(f\"Train Data: {X_train.shape[0]} examples, {X_train.shape[1]} features\")"
   ]
  },
  {
   "cell_type": "code",
   "execution_count": 13,
   "id": "bb60f76a-7b0e-43f0-b77a-972fc519042f",
   "metadata": {},
   "outputs": [
    {
     "name": "stdout",
     "output_type": "stream",
     "text": [
      "[11:49:52] Stdout logging level is INFO.\n",
      "[11:49:52] GDBT train starts. Max iter 5000, early stopping rounds 100\n",
      "[11:49:52] Iter 0; Sample 0, rmsle = 0.34526774577993313; \n",
      "[11:49:52] Iter 10; Sample 0, rmsle = 0.2620769122413848; \n",
      "[11:49:52] Iter 20; Sample 0, rmsle = 0.2165685958182593; \n",
      "[11:49:52] Iter 30; Sample 0, rmsle = 0.19123857249767998; \n",
      "[11:49:53] Iter 40; Sample 0, rmsle = 0.1774813769001653; \n",
      "[11:49:53] Iter 50; Sample 0, rmsle = 0.16927618103783446; \n",
      "[11:49:53] Iter 60; Sample 0, rmsle = 0.16300968142670402; \n",
      "[11:49:53] Iter 70; Sample 0, rmsle = 0.1575549904661732; \n",
      "[11:49:53] Iter 80; Sample 0, rmsle = 0.15444642310341186; \n",
      "[11:49:53] Iter 90; Sample 0, rmsle = 0.15222680842114633; \n",
      "[11:49:53] Iter 100; Sample 0, rmsle = 0.1504980544530947; \n",
      "[11:49:53] Iter 110; Sample 0, rmsle = 0.14885453986520492; \n",
      "[11:49:53] Iter 120; Sample 0, rmsle = 0.14759714520963113; \n",
      "[11:49:53] Iter 130; Sample 0, rmsle = 0.14634123433707852; \n",
      "[11:49:53] Iter 140; Sample 0, rmsle = 0.14525814136739984; \n",
      "[11:49:53] Iter 150; Sample 0, rmsle = 0.14448363750068577; \n",
      "[11:49:53] Iter 160; Sample 0, rmsle = 0.14352039576459766; \n",
      "[11:49:53] Iter 170; Sample 0, rmsle = 0.14283500613597183; \n",
      "[11:49:54] Iter 180; Sample 0, rmsle = 0.14222791675464624; \n",
      "[11:49:54] Iter 190; Sample 0, rmsle = 0.14165041174377538; \n",
      "[11:49:54] Iter 200; Sample 0, rmsle = 0.14108775235939788; \n",
      "[11:49:54] Iter 210; Sample 0, rmsle = 0.14060098546727023; \n",
      "[11:49:54] Iter 220; Sample 0, rmsle = 0.1401209001714138; \n",
      "[11:49:54] Iter 230; Sample 0, rmsle = 0.13970145000504886; \n",
      "[11:49:54] Iter 240; Sample 0, rmsle = 0.1394456083300511; \n",
      "[11:49:54] Iter 250; Sample 0, rmsle = 0.13916307840172853; \n",
      "[11:49:54] Iter 260; Sample 0, rmsle = 0.1389050932430581; \n",
      "[11:49:54] Iter 270; Sample 0, rmsle = 0.13855200710124363; \n",
      "[11:49:54] Iter 280; Sample 0, rmsle = 0.13829695895548721; \n",
      "[11:49:54] Iter 290; Sample 0, rmsle = 0.13808306457936864; \n",
      "[11:49:54] Iter 300; Sample 0, rmsle = 0.137807869960358; \n",
      "[11:49:54] Iter 310; Sample 0, rmsle = 0.13760501664736763; \n",
      "[11:49:55] Iter 320; Sample 0, rmsle = 0.13734961521430267; \n",
      "[11:49:55] Iter 330; Sample 0, rmsle = 0.1371474285222916; \n",
      "[11:49:55] Iter 340; Sample 0, rmsle = 0.1369488550303252; \n",
      "[11:49:55] Iter 350; Sample 0, rmsle = 0.1368705224962801; \n",
      "[11:49:55] Iter 360; Sample 0, rmsle = 0.13662357196692165; \n",
      "[11:49:55] Iter 370; Sample 0, rmsle = 0.1363888153401461; \n",
      "[11:49:55] Iter 380; Sample 0, rmsle = 0.13626710227388716; \n",
      "[11:49:55] Iter 390; Sample 0, rmsle = 0.13613289569469883; \n",
      "[11:49:55] Iter 400; Sample 0, rmsle = 0.13601576190896705; \n",
      "[11:49:55] Iter 410; Sample 0, rmsle = 0.1358572847096712; \n",
      "[11:49:55] Iter 420; Sample 0, rmsle = 0.13569325455054526; \n",
      "[11:49:55] Iter 430; Sample 0, rmsle = 0.13557559983053286; \n",
      "[11:49:55] Iter 440; Sample 0, rmsle = 0.13546231359217814; \n",
      "[11:49:56] Iter 450; Sample 0, rmsle = 0.13533177471117372; \n",
      "[11:49:56] Iter 460; Sample 0, rmsle = 0.13526386227503134; \n",
      "[11:49:56] Iter 470; Sample 0, rmsle = 0.13516244700001584; \n",
      "[11:49:56] Iter 480; Sample 0, rmsle = 0.13509914418762778; \n",
      "[11:49:56] Iter 490; Sample 0, rmsle = 0.13500793092460325; \n",
      "[11:49:56] Iter 500; Sample 0, rmsle = 0.13493203702429088; \n",
      "[11:49:56] Iter 510; Sample 0, rmsle = 0.13486609222129603; \n",
      "[11:49:56] Iter 520; Sample 0, rmsle = 0.1347722224098951; \n",
      "[11:49:56] Iter 530; Sample 0, rmsle = 0.13467638441547672; \n",
      "[11:49:56] Iter 540; Sample 0, rmsle = 0.13457006415515024; \n",
      "[11:49:56] Iter 550; Sample 0, rmsle = 0.13445175757120334; \n",
      "[11:49:56] Iter 560; Sample 0, rmsle = 0.13444816051873254; \n",
      "[11:49:56] Iter 570; Sample 0, rmsle = 0.13441423948815853; \n",
      "[11:49:56] Iter 580; Sample 0, rmsle = 0.13438773722561825; \n",
      "[11:49:57] Iter 590; Sample 0, rmsle = 0.13435628956055223; \n",
      "[11:49:57] Iter 600; Sample 0, rmsle = 0.13429257018284876; \n",
      "[11:49:57] Iter 610; Sample 0, rmsle = 0.13422322179661425; \n",
      "[11:49:57] Iter 620; Sample 0, rmsle = 0.1341583394850838; \n",
      "[11:49:57] Iter 630; Sample 0, rmsle = 0.1340927733819545; \n",
      "[11:49:57] Iter 640; Sample 0, rmsle = 0.13402814571840052; \n",
      "[11:49:57] Iter 650; Sample 0, rmsle = 0.13393502011858366; \n",
      "[11:49:57] Iter 660; Sample 0, rmsle = 0.13385607173304018; \n",
      "[11:49:57] Iter 670; Sample 0, rmsle = 0.1338116813890979; \n",
      "[11:49:57] Iter 680; Sample 0, rmsle = 0.13381232151697126; \n",
      "[11:49:57] Iter 690; Sample 0, rmsle = 0.13369992139419284; \n",
      "[11:49:57] Iter 700; Sample 0, rmsle = 0.13362401497252346; \n",
      "[11:49:57] Iter 710; Sample 0, rmsle = 0.13357566434893436; \n",
      "[11:49:57] Iter 720; Sample 0, rmsle = 0.13357320294383826; \n",
      "[11:49:58] Iter 730; Sample 0, rmsle = 0.13351841059798109; \n",
      "[11:49:58] Iter 740; Sample 0, rmsle = 0.13351162819671444; \n",
      "[11:49:58] Iter 750; Sample 0, rmsle = 0.13348471339681764; \n",
      "[11:49:58] Iter 760; Sample 0, rmsle = 0.1334932748014387; \n",
      "[11:49:58] Iter 770; Sample 0, rmsle = 0.1334692220236139; \n",
      "[11:49:58] Iter 780; Sample 0, rmsle = 0.13341500310666413; \n",
      "[11:49:58] Iter 790; Sample 0, rmsle = 0.13334701101624283; \n",
      "[11:49:58] Iter 800; Sample 0, rmsle = 0.13330568527906264; \n",
      "[11:49:58] Iter 810; Sample 0, rmsle = 0.13327010270479198; \n",
      "[11:49:58] Iter 820; Sample 0, rmsle = 0.1332688571458142; \n",
      "[11:49:58] Iter 830; Sample 0, rmsle = 0.13323654648270053; \n",
      "[11:49:58] Iter 840; Sample 0, rmsle = 0.13316177040736002; \n",
      "[11:49:58] Iter 850; Sample 0, rmsle = 0.13313548283715848; \n",
      "[11:49:59] Iter 860; Sample 0, rmsle = 0.13312356081823404; \n",
      "[11:49:59] Iter 870; Sample 0, rmsle = 0.13305611155057087; \n",
      "[11:49:59] Iter 880; Sample 0, rmsle = 0.13306037013340855; \n",
      "[11:49:59] Iter 890; Sample 0, rmsle = 0.13306402773355364; \n",
      "[11:49:59] Iter 900; Sample 0, rmsle = 0.13308189854699676; \n",
      "[11:49:59] Iter 910; Sample 0, rmsle = 0.13310447487320096; \n",
      "[11:49:59] Iter 920; Sample 0, rmsle = 0.13311070309094478; \n",
      "[11:49:59] Iter 930; Sample 0, rmsle = 0.13305308761090975; \n",
      "[11:49:59] Iter 940; Sample 0, rmsle = 0.13306136384829495; \n",
      "[11:49:59] Iter 950; Sample 0, rmsle = 0.13306074326651596; \n",
      "[11:49:59] Iter 960; Sample 0, rmsle = 0.13306598594021235; \n",
      "[11:49:59] Iter 970; Sample 0, rmsle = 0.13308376283493267; \n",
      "[11:49:59] Iter 980; Sample 0, rmsle = 0.1331315376972144; \n",
      "[11:49:59] Iter 990; Sample 0, rmsle = 0.1331323796684916; \n",
      "[11:50:00] Iter 1000; Sample 0, rmsle = 0.13314297729007318; \n",
      "[11:50:00] Iter 1010; Sample 0, rmsle = 0.13312918993559178; \n",
      "[11:50:00] Iter 1020; Sample 0, rmsle = 0.13311602035386202; \n",
      "[11:50:00] Iter 1030; Sample 0, rmsle = 0.13310879910197795; \n",
      "[11:50:00] Iter 1040; Sample 0, rmsle = 0.1331266110264252; \n",
      "[11:50:00] Iter 1050; Sample 0, rmsle = 0.13312680116742368; \n",
      "[11:50:00] Early stopping at iter 1052, best iter 952, best_score 0.13303914895019026\n"
     ]
    },
    {
     "data": {
      "text/plain": [
       "<py_boost.gpu.boosting.GradientBoosting at 0x7ff5815abac8>"
      ]
     },
     "execution_count": 13,
     "metadata": {},
     "output_type": "execute_result"
    }
   ],
   "source": [
    "from py_boost import GradientBoosting\n",
    "\n",
    "model = GradientBoosting('msle', ntrees=5000)\n",
    "model.fit(X_train, y_train, eval_sets=[{'X': X_test, 'y': y_test},])\n"
   ]
  },
  {
   "cell_type": "markdown",
   "id": "375eb9c1-fc3e-4447-87cb-ff52eba61b3c",
   "metadata": {
    "jp-MarkdownHeadingCollapsed": true,
    "tags": []
   },
   "source": [
    "### MSLE, Boston"
   ]
  },
  {
   "cell_type": "code",
   "execution_count": 17,
   "id": "a95bab50-280b-4397-9882-6166596439c3",
   "metadata": {},
   "outputs": [
    {
     "name": "stdout",
     "output_type": "stream",
     "text": [
      "Train Data: 354 examples, 13 features\n"
     ]
    }
   ],
   "source": [
    "from sklearn.datasets import load_boston\n",
    "import pandas as pd\n",
    "import numpy as np\n",
    "\n",
    "from sklearn.model_selection import train_test_split\n",
    "from sklearn.utils import resample\n",
    "\n",
    "from sklearn.metrics import explained_variance_score\n",
    "from sklearn.metrics import mean_squared_error\n",
    "\n",
    "boston = load_boston()\n",
    "data = pd.DataFrame(boston.data)\n",
    "\n",
    "data['PRICE'] = boston.target\n",
    "X, y = np.array(data.iloc[:,:-1]), np.array(data.iloc[:,-1])\n",
    "\n",
    "X_train, X_test, y_train, y_test = train_test_split(\n",
    "    X, y, train_size=0.7, random_state=0)\n",
    "print(f\"Train Data: {X_train.shape[0]} examples, {X_train.shape[1]} features\")"
   ]
  },
  {
   "cell_type": "code",
   "execution_count": 14,
   "id": "f78a3c26-19c2-44dd-a809-77521b06e776",
   "metadata": {},
   "outputs": [
    {
     "name": "stdout",
     "output_type": "stream",
     "text": [
      "Defaulting to user installation because normal site-packages is not writeable\n",
      "Looking in indexes: https://build-nexus.prod.crto.in/repository/moab.pypi/simple\n",
      "Collecting py_boost\n",
      "  Using cached https://build-nexus.prod.crto.in/repository/moab.pypi/packages/py-boost/0.1.9/Py_Boost-0.1.9-py3-none-any.whl (42 kB)\n",
      "Requirement already satisfied: joblib in /home/j.pachebat/.local/lib/python3.6/site-packages (from py_boost) (1.1.0)\n",
      "Requirement already satisfied: pandas>=1 in /home/j.pachebat/.local/lib/python3.6/site-packages (from py_boost) (1.1.5)\n",
      "Requirement already satisfied: numpy in /home/j.pachebat/.local/lib/python3.6/site-packages (from py_boost) (1.19.5)\n",
      "Requirement already satisfied: numba in /home/j.pachebat/.local/lib/python3.6/site-packages (from py_boost) (0.53.1)\n",
      "Requirement already satisfied: scikit-learn>=0.22 in /home/j.pachebat/.local/lib/python3.6/site-packages (from py_boost) (0.24.2)\n",
      "Requirement already satisfied: importlib-metadata<2.0,>=1.0 in /home/j.pachebat/.local/lib/python3.6/site-packages (from py_boost) (1.7.0)\n",
      "Requirement already satisfied: zipp>=0.5 in /usr/local/lib/python3.6/site-packages (from importlib-metadata<2.0,>=1.0->py_boost) (3.6.0)\n",
      "Requirement already satisfied: pytz>=2017.2 in /home/j.pachebat/.local/lib/python3.6/site-packages (from pandas>=1->py_boost) (2022.1)\n",
      "Requirement already satisfied: python-dateutil>=2.7.3 in /home/j.pachebat/.local/lib/python3.6/site-packages (from pandas>=1->py_boost) (2.8.2)\n",
      "Requirement already satisfied: scipy>=0.19.1 in /home/j.pachebat/.local/lib/python3.6/site-packages (from scikit-learn>=0.22->py_boost) (1.5.4)\n",
      "Requirement already satisfied: threadpoolctl>=2.0.0 in /home/j.pachebat/.local/lib/python3.6/site-packages (from scikit-learn>=0.22->py_boost) (3.1.0)\n",
      "Requirement already satisfied: llvmlite<0.37,>=0.36.0rc1 in /home/j.pachebat/.local/lib/python3.6/site-packages (from numba->py_boost) (0.36.0)\n",
      "Requirement already satisfied: setuptools in /usr/local/lib/python3.6/site-packages (from numba->py_boost) (59.6.0)\n",
      "Requirement already satisfied: six>=1.5 in /usr/local/lib/python3.6/site-packages (from python-dateutil>=2.7.3->pandas>=1->py_boost) (1.15.0)\n",
      "Installing collected packages: py-boost\n",
      "Successfully installed py-boost-0.1.9\n",
      "Note: you may need to restart the kernel to use updated packages.\n"
     ]
    }
   ],
   "source": [
    "pip install py_boost"
   ]
  },
  {
   "cell_type": "code",
   "execution_count": 18,
   "id": "50093409-4ee1-4b53-b5f8-d598d4d7735d",
   "metadata": {},
   "outputs": [],
   "source": [
    "import py_boost"
   ]
  },
  {
   "cell_type": "code",
   "execution_count": 19,
   "id": "d237e1ac-2ebd-4f7c-b3e5-03337258dc31",
   "metadata": {},
   "outputs": [
    {
     "name": "stdout",
     "output_type": "stream",
     "text": [
      "[14:01:27] Stdout logging level is INFO.\n",
      "[14:01:27] GDBT train starts. Max iter 5000, early stopping rounds 1000\n",
      "[14:01:27] Iter 0; Sample 0, rmsle = 0.3811465805858104; \n",
      "[14:01:27] Iter 10; Sample 0, rmsle = 0.2743303391341923; \n",
      "[14:01:28] Iter 20; Sample 0, rmsle = 0.21981356286706802; \n",
      "[14:01:28] Iter 30; Sample 0, rmsle = 0.1950922176910771; \n",
      "[14:01:28] Iter 40; Sample 0, rmsle = 0.1825870008653106; \n",
      "[14:01:28] Iter 50; Sample 0, rmsle = 0.1753622788102674; \n",
      "[14:01:28] Iter 60; Sample 0, rmsle = 0.17129628236825095; \n",
      "[14:01:28] Iter 70; Sample 0, rmsle = 0.16598995773787856; \n",
      "[14:01:28] Iter 80; Sample 0, rmsle = 0.16353399026996313; \n",
      "[14:01:28] Iter 90; Sample 0, rmsle = 0.16263023570388838; \n",
      "[14:01:29] Iter 100; Sample 0, rmsle = 0.1617171188284128; \n",
      "[14:01:29] Iter 110; Sample 0, rmsle = 0.1613599555155198; \n",
      "[14:01:29] Iter 120; Sample 0, rmsle = 0.16071076619131283; \n",
      "[14:01:29] Iter 130; Sample 0, rmsle = 0.16068561062717474; \n",
      "[14:01:29] Iter 140; Sample 0, rmsle = 0.16062086346167598; \n",
      "[14:01:29] Iter 150; Sample 0, rmsle = 0.16044525273753055; \n",
      "[14:01:29] Iter 160; Sample 0, rmsle = 0.16073317354549807; \n",
      "[14:01:29] Iter 170; Sample 0, rmsle = 0.15974688896915853; \n",
      "[14:01:29] Iter 180; Sample 0, rmsle = 0.15957779630399868; \n",
      "[14:01:30] Iter 190; Sample 0, rmsle = 0.1597498846048002; \n",
      "[14:01:30] Iter 200; Sample 0, rmsle = 0.15962448596570522; \n",
      "[14:01:30] Iter 210; Sample 0, rmsle = 0.15968223516048902; \n",
      "[14:01:30] Iter 220; Sample 0, rmsle = 0.1593956091860322; \n",
      "[14:01:30] Iter 230; Sample 0, rmsle = 0.15895995845955993; \n",
      "[14:01:30] Iter 240; Sample 0, rmsle = 0.1586989229394783; \n",
      "[14:01:30] Iter 250; Sample 0, rmsle = 0.15846411778449432; \n",
      "[14:01:30] Iter 260; Sample 0, rmsle = 0.15809559727155795; \n",
      "[14:01:30] Iter 270; Sample 0, rmsle = 0.1580077114678304; \n",
      "[14:01:31] Iter 280; Sample 0, rmsle = 0.1580369866973478; \n",
      "[14:01:31] Iter 290; Sample 0, rmsle = 0.15797421502850448; \n",
      "[14:01:31] Iter 300; Sample 0, rmsle = 0.1578886458098733; \n",
      "[14:01:31] Iter 310; Sample 0, rmsle = 0.1578671404658581; \n",
      "[14:01:31] Iter 320; Sample 0, rmsle = 0.15785293285444707; \n",
      "[14:01:31] Iter 330; Sample 0, rmsle = 0.15787514901695174; \n",
      "[14:01:31] Iter 340; Sample 0, rmsle = 0.15792737118716846; \n",
      "[14:01:31] Iter 350; Sample 0, rmsle = 0.15790999783020898; \n",
      "[14:01:32] Iter 360; Sample 0, rmsle = 0.1579869328525686; \n",
      "[14:01:32] Iter 370; Sample 0, rmsle = 0.15808540683593456; \n",
      "[14:01:32] Iter 380; Sample 0, rmsle = 0.15822779708528262; \n",
      "[14:01:32] Iter 390; Sample 0, rmsle = 0.15835816059548743; \n",
      "[14:01:32] Iter 400; Sample 0, rmsle = 0.15836947040541693; \n",
      "[14:01:32] Iter 410; Sample 0, rmsle = 0.15842098435424287; \n",
      "[14:01:32] Iter 420; Sample 0, rmsle = 0.15843385226432954; \n",
      "[14:01:32] Iter 430; Sample 0, rmsle = 0.1584228625533421; \n",
      "[14:01:32] Iter 440; Sample 0, rmsle = 0.1583805640840673; \n",
      "[14:01:33] Iter 450; Sample 0, rmsle = 0.15832445573064552; \n",
      "[14:01:33] Iter 460; Sample 0, rmsle = 0.15825170422608875; \n",
      "[14:01:33] Iter 470; Sample 0, rmsle = 0.15815285020474182; \n",
      "[14:01:33] Iter 480; Sample 0, rmsle = 0.158229559134617; \n",
      "[14:01:33] Iter 490; Sample 0, rmsle = 0.15825167527693884; \n",
      "[14:01:33] Iter 500; Sample 0, rmsle = 0.15828114175755992; \n",
      "[14:01:33] Iter 510; Sample 0, rmsle = 0.15823738109448274; \n",
      "[14:01:33] Iter 520; Sample 0, rmsle = 0.15831401522326888; \n",
      "[14:01:34] Iter 530; Sample 0, rmsle = 0.1582345898026316; \n",
      "[14:01:34] Iter 540; Sample 0, rmsle = 0.15820028841530162; \n",
      "[14:01:34] Iter 550; Sample 0, rmsle = 0.15818092515115034; \n",
      "[14:01:34] Iter 560; Sample 0, rmsle = 0.1582263376698264; \n",
      "[14:01:34] Iter 570; Sample 0, rmsle = 0.15823284695248868; \n",
      "[14:01:34] Iter 580; Sample 0, rmsle = 0.15823694233410668; \n",
      "[14:01:34] Iter 590; Sample 0, rmsle = 0.15824595669534577; \n",
      "[14:01:34] Iter 600; Sample 0, rmsle = 0.158244495347898; \n",
      "[14:01:34] Iter 610; Sample 0, rmsle = 0.1582197673837159; \n",
      "[14:01:35] Iter 620; Sample 0, rmsle = 0.15819657183114938; \n",
      "[14:01:35] Iter 630; Sample 0, rmsle = 0.15825608413283426; \n",
      "[14:01:35] Iter 640; Sample 0, rmsle = 0.15825303404923233; \n",
      "[14:01:35] Iter 650; Sample 0, rmsle = 0.15824011067175092; \n",
      "[14:01:35] Iter 660; Sample 0, rmsle = 0.1582640960631163; \n",
      "[14:01:35] Iter 670; Sample 0, rmsle = 0.15826624158211136; \n",
      "[14:01:35] Iter 680; Sample 0, rmsle = 0.15828306871469108; \n",
      "[14:01:35] Iter 690; Sample 0, rmsle = 0.15828706702247844; \n",
      "[14:01:36] Iter 700; Sample 0, rmsle = 0.1582565061014891; \n",
      "[14:01:36] Iter 710; Sample 0, rmsle = 0.15827007821229636; \n",
      "[14:01:36] Iter 720; Sample 0, rmsle = 0.15827004278552348; \n",
      "[14:01:36] Iter 730; Sample 0, rmsle = 0.15827814200403537; \n",
      "[14:01:36] Iter 740; Sample 0, rmsle = 0.15828920395956866; \n",
      "[14:01:36] Iter 750; Sample 0, rmsle = 0.1582849158068713; \n",
      "[14:01:36] Iter 760; Sample 0, rmsle = 0.15827345758955996; \n",
      "[14:01:36] Iter 770; Sample 0, rmsle = 0.15824572599085782; \n",
      "[14:01:36] Iter 780; Sample 0, rmsle = 0.15822310037405782; \n",
      "[14:01:37] Iter 790; Sample 0, rmsle = 0.15827838121802026; \n",
      "[14:01:37] Iter 800; Sample 0, rmsle = 0.15826031042149477; \n",
      "[14:01:37] Iter 810; Sample 0, rmsle = 0.15827719322332298; \n",
      "[14:01:37] Iter 820; Sample 0, rmsle = 0.15830159564363677; \n",
      "[14:01:37] Iter 830; Sample 0, rmsle = 0.1582969142255597; \n",
      "[14:01:37] Iter 840; Sample 0, rmsle = 0.15828447613984176; \n",
      "[14:01:37] Iter 850; Sample 0, rmsle = 0.15828020898780912; \n",
      "[14:01:37] Iter 860; Sample 0, rmsle = 0.15827436541922066; \n",
      "[14:01:38] Iter 870; Sample 0, rmsle = 0.15827837496956498; \n",
      "[14:01:38] Iter 880; Sample 0, rmsle = 0.15829416721494238; \n",
      "[14:01:38] Iter 890; Sample 0, rmsle = 0.15828941378991015; \n",
      "[14:01:38] Iter 900; Sample 0, rmsle = 0.15830596536115463; \n",
      "[14:01:38] Iter 910; Sample 0, rmsle = 0.15829745022165193; \n",
      "[14:01:38] Iter 920; Sample 0, rmsle = 0.15828069876595807; \n",
      "[14:01:38] Iter 930; Sample 0, rmsle = 0.158268018011882; \n",
      "[14:01:38] Iter 940; Sample 0, rmsle = 0.15825984732458986; \n",
      "[14:01:38] Iter 950; Sample 0, rmsle = 0.1582316095675367; \n",
      "[14:01:39] Iter 960; Sample 0, rmsle = 0.15821630700807374; \n",
      "[14:01:39] Iter 970; Sample 0, rmsle = 0.15822311711922846; \n",
      "[14:01:39] Iter 980; Sample 0, rmsle = 0.15820992282470533; \n",
      "[14:01:39] Iter 990; Sample 0, rmsle = 0.1582178788149635; \n",
      "[14:01:39] Iter 1000; Sample 0, rmsle = 0.15821126296483476; \n",
      "[14:01:39] Iter 1010; Sample 0, rmsle = 0.15820806310771793; \n",
      "[14:01:39] Iter 1020; Sample 0, rmsle = 0.15819976472225444; \n",
      "[14:01:39] Iter 1030; Sample 0, rmsle = 0.15819311157221136; \n",
      "[14:01:40] Iter 1040; Sample 0, rmsle = 0.1581951775447811; \n",
      "[14:01:40] Iter 1050; Sample 0, rmsle = 0.1581893121985124; \n",
      "[14:01:40] Iter 1060; Sample 0, rmsle = 0.1581997456547728; \n",
      "[14:01:40] Iter 1070; Sample 0, rmsle = 0.15820305867984813; \n",
      "[14:01:40] Iter 1080; Sample 0, rmsle = 0.15821444923357555; \n",
      "[14:01:40] Iter 1090; Sample 0, rmsle = 0.15821082138013506; \n",
      "[14:01:40] Iter 1100; Sample 0, rmsle = 0.1582311648801043; \n",
      "[14:01:40] Iter 1110; Sample 0, rmsle = 0.15823376180149293; \n",
      "[14:01:40] Iter 1120; Sample 0, rmsle = 0.15822966294824098; \n",
      "[14:01:41] Iter 1130; Sample 0, rmsle = 0.1582374421740662; \n",
      "[14:01:41] Iter 1140; Sample 0, rmsle = 0.15825353662807295; \n",
      "[14:01:41] Iter 1150; Sample 0, rmsle = 0.1582556885460336; \n",
      "[14:01:41] Iter 1160; Sample 0, rmsle = 0.15825889446189662; \n",
      "[14:01:41] Iter 1170; Sample 0, rmsle = 0.15826004604571947; \n",
      "[14:01:41] Iter 1180; Sample 0, rmsle = 0.15825876903571806; \n",
      "[14:01:41] Iter 1190; Sample 0, rmsle = 0.1582619466234105; \n",
      "[14:01:41] Iter 1200; Sample 0, rmsle = 0.158275578536647; \n",
      "[14:01:42] Iter 1210; Sample 0, rmsle = 0.15828284811408563; \n",
      "[14:01:42] Iter 1220; Sample 0, rmsle = 0.15827866501384372; \n",
      "[14:01:42] Iter 1230; Sample 0, rmsle = 0.15828536968155676; \n",
      "[14:01:42] Iter 1240; Sample 0, rmsle = 0.15829672163812655; \n",
      "[14:01:42] Iter 1250; Sample 0, rmsle = 0.15829640773593104; \n",
      "[14:01:42] Iter 1260; Sample 0, rmsle = 0.158296716202155; \n",
      "[14:01:42] Iter 1270; Sample 0, rmsle = 0.15828999869430663; \n",
      "[14:01:42] Iter 1280; Sample 0, rmsle = 0.15828465738538697; \n",
      "[14:01:42] Iter 1290; Sample 0, rmsle = 0.1582959924373807; \n",
      "[14:01:43] Iter 1300; Sample 0, rmsle = 0.1582852381321583; \n",
      "[14:01:43] Iter 1310; Sample 0, rmsle = 0.15828785369519574; \n",
      "[14:01:43] Early stopping at iter 1317, best iter 317, best_score 0.1577971203369354\n"
     ]
    },
    {
     "data": {
      "text/plain": [
       "<py_boost.gpu.boosting.GradientBoosting at 0x7ff6804ecd68>"
      ]
     },
     "execution_count": 19,
     "metadata": {},
     "output_type": "execute_result"
    }
   ],
   "source": [
    "from py_boost import GradientBoosting\n",
    "\n",
    "model = GradientBoosting('msle', ntrees=5000, es=1000)\n",
    "model.fit(X_train, y_train, eval_sets=[{'X': X_test, 'y': y_test},])\n"
   ]
  },
  {
   "cell_type": "markdown",
   "id": "677269c1-0501-4ffe-9017-32be3057a10b",
   "metadata": {
    "tags": []
   },
   "source": [
    "### BCE, HIGGS"
   ]
  },
  {
   "cell_type": "code",
   "execution_count": 2,
   "id": "ad534549-8a40-47f9-84db-d81c07654563",
   "metadata": {},
   "outputs": [],
   "source": [
    "import pandas as pd\n",
    "\n",
    "df = pd.read_csv('HIGGS.csv', nrows=300000)\n",
    "df.columns = ['label', 'lepton pT', 'lepton eta', 'lepton phi', 'missing energy magnitude', 'missing energy phi', 'jet 1 pt', 'jet 1 eta', 'jet 1 phi', 'jet 1 b-tag', 'jet 2 pt', 'jet 2 eta', 'jet 2 phi', 'jet 2 b-tag', 'jet 3 pt', 'jet 3 eta', 'jet 3 phi', 'jet 3 b-tag', 'jet 4 pt', 'jet 4 eta', 'jet 4 phi', 'jet 4 b-tag', 'm_jj', 'm_jjj', 'm_lv', 'm_jlv', 'm_bb', 'm_wbb', 'm_wwbb']\n",
    "df[\"label\"] = df[\"label\"].apply(int)\n"
   ]
  },
  {
   "cell_type": "code",
   "execution_count": 3,
   "id": "bc357602-b9fd-462e-8d84-ce30d0382eb1",
   "metadata": {},
   "outputs": [],
   "source": [
    "df_train = df\n",
    "\n",
    "X = df_train.iloc[:, 1:].to_numpy()\n",
    "y = df_train['label'].to_numpy()"
   ]
  },
  {
   "cell_type": "code",
   "execution_count": 4,
   "id": "196a1f12-86f9-4bbf-b34f-e86e7d770a34",
   "metadata": {},
   "outputs": [
    {
     "name": "stdout",
     "output_type": "stream",
     "text": [
      "(192000, 28) (48000, 28) (60000, 28)\n",
      "(192000,) (48000,) (60000,)\n"
     ]
    }
   ],
   "source": [
    "from sklearn.preprocessing import StandardScaler\n",
    "from sklearn.model_selection import train_test_split\n",
    "\n",
    "sc = StandardScaler()\n",
    "X_std = sc.fit_transform(X)\n",
    "\n",
    "X_t, X_test, y_t, y_test = train_test_split(X_std, y, test_size=0.20, random_state=42)\n",
    "X_train, X_val, y_train, y_val = train_test_split(X_t, y_t, test_size=0.20, random_state=42)\n",
    "\n",
    "print(X_train.shape, X_val.shape, X_test.shape)\n",
    "print(y_train.shape, y_val.shape, y_test.shape)"
   ]
  },
  {
   "cell_type": "code",
   "execution_count": 5,
   "id": "972b46e2-5f33-4287-8652-c0e2b14e5218",
   "metadata": {},
   "outputs": [
    {
     "name": "stdout",
     "output_type": "stream",
     "text": [
      "[08:53:53] Stdout logging level is INFO.\n",
      "[08:53:53] GDBT train starts. Max iter 5000, early stopping rounds 100\n",
      "[08:53:54] Iter 0; Sample 0, BCE = 0.6830857890030064; \n",
      "[08:53:54] Iter 10; Sample 0, BCE = 0.6270618142904414; \n",
      "[08:53:54] Iter 20; Sample 0, BCE = 0.5982200384151173; \n",
      "[08:53:54] Iter 30; Sample 0, BCE = 0.5805157884932534; \n",
      "[08:53:54] Iter 40; Sample 0, BCE = 0.5683157387565823; \n",
      "[08:53:54] Iter 50; Sample 0, BCE = 0.5595559762436677; \n",
      "[08:53:55] Iter 60; Sample 0, BCE = 0.5537503835753137; \n",
      "[08:53:55] Iter 70; Sample 0, BCE = 0.5492043479039417; \n",
      "[08:53:55] Iter 80; Sample 0, BCE = 0.5457816868332956; \n",
      "[08:53:55] Iter 90; Sample 0, BCE = 0.5428936309670985; \n",
      "[08:53:55] Iter 100; Sample 0, BCE = 0.5404865380624669; \n",
      "[08:53:55] Iter 110; Sample 0, BCE = 0.5387273358793684; \n",
      "[08:53:55] Iter 120; Sample 0, BCE = 0.5367415427278711; \n",
      "[08:53:56] Iter 130; Sample 0, BCE = 0.5354156230609883; \n",
      "[08:53:56] Iter 140; Sample 0, BCE = 0.5339815276176314; \n",
      "[08:53:56] Iter 150; Sample 0, BCE = 0.5327435463281825; \n",
      "[08:53:56] Iter 160; Sample 0, BCE = 0.53164397457962; \n",
      "[08:53:56] Iter 170; Sample 0, BCE = 0.5307321383469378; \n",
      "[08:53:56] Iter 180; Sample 0, BCE = 0.5298373245872723; \n",
      "[08:53:56] Iter 190; Sample 0, BCE = 0.5291648271608106; \n",
      "[08:53:56] Iter 200; Sample 0, BCE = 0.528499364646286; \n",
      "[08:53:57] Iter 210; Sample 0, BCE = 0.5278293369847763; \n",
      "[08:53:57] Iter 220; Sample 0, BCE = 0.5273037405131124; \n",
      "[08:53:57] Iter 230; Sample 0, BCE = 0.5268097218358633; \n",
      "[08:53:57] Iter 240; Sample 0, BCE = 0.5262707419043052; \n",
      "[08:53:57] Iter 250; Sample 0, BCE = 0.5258994985747517; \n",
      "[08:53:57] Iter 260; Sample 0, BCE = 0.5255457494466514; \n",
      "[08:53:57] Iter 270; Sample 0, BCE = 0.5249974445474944; \n",
      "[08:53:57] Iter 280; Sample 0, BCE = 0.5245758650540744; \n",
      "[08:53:58] Iter 290; Sample 0, BCE = 0.5242974593685373; \n",
      "[08:53:58] Iter 300; Sample 0, BCE = 0.5240433746171168; \n",
      "[08:53:58] Iter 310; Sample 0, BCE = 0.5237278807058068; \n",
      "[08:53:58] Iter 320; Sample 0, BCE = 0.5234897801701538; \n",
      "[08:53:58] Iter 330; Sample 0, BCE = 0.5232594554627231; \n",
      "[08:53:58] Iter 340; Sample 0, BCE = 0.523008670149152; \n",
      "[08:53:58] Iter 350; Sample 0, BCE = 0.5227017247313034; \n",
      "[08:53:58] Iter 360; Sample 0, BCE = 0.5225322797311854; \n",
      "[08:53:58] Iter 370; Sample 0, BCE = 0.5222662408959882; \n",
      "[08:53:59] Iter 380; Sample 0, BCE = 0.52208444863567; \n",
      "[08:53:59] Iter 390; Sample 0, BCE = 0.5218910601595015; \n",
      "[08:53:59] Iter 400; Sample 0, BCE = 0.5217642162557228; \n",
      "[08:53:59] Iter 410; Sample 0, BCE = 0.5216033630222767; \n",
      "[08:53:59] Iter 420; Sample 0, BCE = 0.5214081455866888; \n",
      "[08:53:59] Iter 430; Sample 0, BCE = 0.5212238266532276; \n",
      "[08:53:59] Iter 440; Sample 0, BCE = 0.5211167029155738; \n",
      "[08:53:59] Iter 450; Sample 0, BCE = 0.5210432562027899; \n",
      "[08:54:00] Iter 460; Sample 0, BCE = 0.5208028966744334; \n",
      "[08:54:00] Iter 470; Sample 0, BCE = 0.5207255254966482; \n",
      "[08:54:00] Iter 480; Sample 0, BCE = 0.5206255317320277; \n",
      "[08:54:00] Iter 490; Sample 0, BCE = 0.5205442400536693; \n",
      "[08:54:00] Iter 500; Sample 0, BCE = 0.5204225102012021; \n",
      "[08:54:00] Iter 510; Sample 0, BCE = 0.5201703896431323; \n",
      "[08:54:00] Iter 520; Sample 0, BCE = 0.5201001453388971; \n",
      "[08:54:00] Iter 530; Sample 0, BCE = 0.5198756732179943; \n",
      "[08:54:01] Iter 540; Sample 0, BCE = 0.5195831501276799; \n",
      "[08:54:01] Iter 550; Sample 0, BCE = 0.5193624217981059; \n",
      "[08:54:01] Iter 560; Sample 0, BCE = 0.5191806732113389; \n",
      "[08:54:01] Iter 570; Sample 0, BCE = 0.5190906341321687; \n",
      "[08:54:01] Iter 580; Sample 0, BCE = 0.5190616657956837; \n",
      "[08:54:01] Iter 590; Sample 0, BCE = 0.5187947231053158; \n",
      "[08:54:01] Iter 600; Sample 0, BCE = 0.5187195124480831; \n",
      "[08:54:01] Iter 610; Sample 0, BCE = 0.5185671882908744; \n",
      "[08:54:02] Iter 620; Sample 0, BCE = 0.5186145933363344; \n",
      "[08:54:02] Iter 630; Sample 0, BCE = 0.518336346159484; \n",
      "[08:54:02] Iter 640; Sample 0, BCE = 0.5182041261768683; \n",
      "[08:54:02] Iter 650; Sample 0, BCE = 0.5180789729984433; \n",
      "[08:54:02] Iter 660; Sample 0, BCE = 0.5179903916405888; \n",
      "[08:54:02] Iter 670; Sample 0, BCE = 0.5179479808586126; \n",
      "[08:54:02] Iter 680; Sample 0, BCE = 0.5179270490918122; \n",
      "[08:54:02] Iter 690; Sample 0, BCE = 0.5178200235832537; \n",
      "[08:54:02] Iter 700; Sample 0, BCE = 0.5178406204770039; \n",
      "[08:54:03] Iter 710; Sample 0, BCE = 0.5177462497646869; \n",
      "[08:54:03] Iter 720; Sample 0, BCE = 0.5176512521096985; \n",
      "[08:54:03] Iter 730; Sample 0, BCE = 0.5176789090015612; \n",
      "[08:54:03] Iter 740; Sample 0, BCE = 0.5175953256258161; \n",
      "[08:54:03] Iter 750; Sample 0, BCE = 0.5174126206029094; \n",
      "[08:54:03] Iter 760; Sample 0, BCE = 0.5173981344121978; \n",
      "[08:54:03] Iter 770; Sample 0, BCE = 0.5174218075739774; \n",
      "[08:54:03] Iter 780; Sample 0, BCE = 0.5174232604448489; \n",
      "[08:54:04] Iter 790; Sample 0, BCE = 0.5173175219142989; \n",
      "[08:54:04] Iter 800; Sample 0, BCE = 0.5172402047526043; \n",
      "[08:54:04] Iter 810; Sample 0, BCE = 0.5172034892519954; \n",
      "[08:54:04] Iter 820; Sample 0, BCE = 0.5171897079773828; \n",
      "[08:54:04] Iter 830; Sample 0, BCE = 0.51708735248679; \n",
      "[08:54:04] Iter 840; Sample 0, BCE = 0.5170960432766938; \n",
      "[08:54:04] Iter 850; Sample 0, BCE = 0.5170779163222379; \n",
      "[08:54:04] Iter 860; Sample 0, BCE = 0.5170090285407594; \n",
      "[08:54:05] Iter 870; Sample 0, BCE = 0.5169742730221585; \n",
      "[08:54:05] Iter 880; Sample 0, BCE = 0.5169202830507907; \n",
      "[08:54:05] Iter 890; Sample 0, BCE = 0.5168664156179676; \n",
      "[08:54:05] Iter 900; Sample 0, BCE = 0.516839123961526; \n",
      "[08:54:05] Iter 910; Sample 0, BCE = 0.5168144695011677; \n",
      "[08:54:05] Iter 920; Sample 0, BCE = 0.5168053971643105; \n",
      "[08:54:05] Iter 930; Sample 0, BCE = 0.5168176654565524; \n",
      "[08:54:05] Iter 940; Sample 0, BCE = 0.516777920149467; \n",
      "[08:54:06] Iter 950; Sample 0, BCE = 0.5167904174951752; \n",
      "[08:54:06] Iter 960; Sample 0, BCE = 0.5167480871949434; \n",
      "[08:54:06] Iter 970; Sample 0, BCE = 0.5167604430435725; \n",
      "[08:54:06] Iter 980; Sample 0, BCE = 0.5167579485915309; \n",
      "[08:54:06] Iter 990; Sample 0, BCE = 0.5166253964100448; \n",
      "[08:54:06] Iter 1000; Sample 0, BCE = 0.5165589751946278; \n",
      "[08:54:06] Iter 1010; Sample 0, BCE = 0.5165823802714797; \n",
      "[08:54:06] Iter 1020; Sample 0, BCE = 0.5165128202240666; \n",
      "[08:54:07] Iter 1030; Sample 0, BCE = 0.5164918469429217; \n",
      "[08:54:07] Iter 1040; Sample 0, BCE = 0.5165285706877516; \n",
      "[08:54:07] Iter 1050; Sample 0, BCE = 0.5165364927084313; \n",
      "[08:54:07] Iter 1060; Sample 0, BCE = 0.5165337411686984; \n",
      "[08:54:07] Iter 1070; Sample 0, BCE = 0.5165138716915157; \n",
      "[08:54:07] Iter 1080; Sample 0, BCE = 0.5165434020277154; \n",
      "[08:54:07] Iter 1090; Sample 0, BCE = 0.5165344264094789; \n",
      "[08:54:07] Iter 1100; Sample 0, BCE = 0.516500248796066; \n",
      "[08:54:07] Iter 1110; Sample 0, BCE = 0.5164304787764584; \n",
      "[08:54:08] Iter 1120; Sample 0, BCE = 0.5164330151626837; \n",
      "[08:54:08] Iter 1130; Sample 0, BCE = 0.5164539595432726; \n",
      "[08:54:08] Iter 1140; Sample 0, BCE = 0.5165271372203983; \n",
      "[08:54:08] Iter 1150; Sample 0, BCE = 0.5165045702804344; \n",
      "[08:54:08] Iter 1160; Sample 0, BCE = 0.5164803550129199; \n",
      "[08:54:08] Iter 1170; Sample 0, BCE = 0.5164525304273091; \n",
      "[08:54:08] Iter 1180; Sample 0, BCE = 0.5165002910719957; \n",
      "[08:54:08] Iter 1190; Sample 0, BCE = 0.5164395634336743; \n",
      "[08:54:08] Iter 1200; Sample 0, BCE = 0.5164013508988109; \n",
      "[08:54:09] Iter 1210; Sample 0, BCE = 0.5164039624481752; \n",
      "[08:54:09] Iter 1220; Sample 0, BCE = 0.5164045287314525; \n",
      "[08:54:09] Iter 1230; Sample 0, BCE = 0.5163936696940605; \n",
      "[08:54:09] Iter 1240; Sample 0, BCE = 0.5164122369275223; \n",
      "[08:54:09] Iter 1250; Sample 0, BCE = 0.5164567988249802; \n",
      "[08:54:09] Iter 1260; Sample 0, BCE = 0.5164926898887092; \n",
      "[08:54:09] Iter 1270; Sample 0, BCE = 0.5164659639792059; \n",
      "[08:54:09] Iter 1280; Sample 0, BCE = 0.5165010949956603; \n",
      "[08:54:09] Iter 1290; Sample 0, BCE = 0.516536453044262; \n",
      "[08:54:10] Iter 1300; Sample 0, BCE = 0.5165172241959152; \n",
      "[08:54:10] Iter 1310; Sample 0, BCE = 0.5165018630472529; \n",
      "[08:54:10] Iter 1320; Sample 0, BCE = 0.5164602895246496; \n",
      "[08:54:10] Iter 1330; Sample 0, BCE = 0.5164255025874148; \n",
      "[08:54:10] Early stopping at iter 1334, best iter 1234, best_score 0.5163773784000797\n"
     ]
    },
    {
     "data": {
      "text/plain": [
       "<py_boost.gpu.boosting.GradientBoosting at 0x7f87156a9e10>"
      ]
     },
     "execution_count": 5,
     "metadata": {},
     "output_type": "execute_result"
    }
   ],
   "source": [
    "from py_boost import GradientBoosting\n",
    "\n",
    "model = GradientBoosting('bce', ntrees=5000)\n",
    "model.fit(X_train, y_train, eval_sets=[{'X': X_val, 'y': y_val},])"
   ]
  },
  {
   "cell_type": "code",
   "execution_count": 7,
   "id": "223f4510-6283-4de9-9636-0e9e305d68d3",
   "metadata": {},
   "outputs": [
    {
     "data": {
      "text/plain": [
       "array([3855., 2993., 2388., 2885., 2166., 3355., 3007., 2173.,  466.,\n",
       "       2848., 2605., 2152.,  465., 2896., 2544., 2369.,  394., 2837.,\n",
       "       2442., 2138.,  397., 3241., 3361., 2627., 3266., 4259., 2932.,\n",
       "       3268.], dtype=float32)"
      ]
     },
     "execution_count": 7,
     "metadata": {},
     "output_type": "execute_result"
    }
   ],
   "source": [
    "model.get_feature_importance()\n"
   ]
  },
  {
   "cell_type": "code",
   "execution_count": 6,
   "id": "202afe9a-3686-4cbd-91e6-0981a8653050",
   "metadata": {},
   "outputs": [],
   "source": [
    "y_score = model.predict(X_test).reshape(y_test.shape)\n",
    "y_score = [round(x) for x in list(y_score)]"
   ]
  },
  {
   "cell_type": "code",
   "execution_count": null,
   "id": "526d06e4-5c19-4b72-8835-b489f690aea7",
   "metadata": {},
   "outputs": [],
   "source": [
    "from sklearn.metrics import roc_auc_score\n",
    "from sklearn.metrics import f1_score\n",
    "from sklearn.metrics import accuracy_score\n",
    "\n",
    "accuracy = accuracy_score(y_test, y_score)\n",
    "auc = roc_auc_score(y_test, y_score)\n",
    "f1 = f1_score(y_test, y_score)"
   ]
  },
  {
   "cell_type": "code",
   "execution_count": null,
   "id": "b57aaa07-4f36-4d5e-9168-b1438d689a0b",
   "metadata": {},
   "outputs": [],
   "source": [
    "print('Accuracy:', accuracy,\n",
    "      'ROC-AUC:', auc,\n",
    "     'f1 score', f1)"
   ]
  },
  {
   "cell_type": "code",
   "execution_count": null,
   "id": "5cab9409-cd5a-4f0b-ac91-3fb9140e901e",
   "metadata": {},
   "outputs": [],
   "source": [
    "import py_boost\n",
    "py_boost"
   ]
  },
  {
   "cell_type": "code",
   "execution_count": null,
   "id": "a7e1a36d-ed06-446f-80df-fe33be42cc96",
   "metadata": {},
   "outputs": [],
   "source": []
  },
  {
   "cell_type": "code",
   "execution_count": null,
   "id": "2f4735b7-ac08-450d-8688-f1caed6df329",
   "metadata": {},
   "outputs": [],
   "source": []
  }
 ],
 "metadata": {
  "kernelspec": {
   "display_name": "Python 3",
   "language": "python",
   "name": "python3"
  },
  "language_info": {
   "codemirror_mode": {
    "name": "ipython",
    "version": 3
   },
   "file_extension": ".py",
   "mimetype": "text/x-python",
   "name": "python",
   "nbconvert_exporter": "python",
   "pygments_lexer": "ipython3",
   "version": "3.6.8"
  }
 },
 "nbformat": 4,
 "nbformat_minor": 5
}
