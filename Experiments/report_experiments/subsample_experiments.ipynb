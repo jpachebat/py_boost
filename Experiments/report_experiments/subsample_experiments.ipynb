{
 "cells": [
  {
   "cell_type": "code",
   "execution_count": 1,
   "id": "57d87549-5164-41bb-866b-d22a359228e6",
   "metadata": {},
   "outputs": [],
   "source": [
    "from plot import plot\n",
    "from experiment import experiment"
   ]
  },
  {
   "cell_type": "code",
   "execution_count": null,
   "id": "a089b129-8b85-4b97-91cd-e5c9b5de2afe",
   "metadata": {},
   "outputs": [],
   "source": [
    "params2 = {'ds_name': 'Higgs',\n",
    " 'order': 2,\n",
    " 'ntrees': 5000,\n",
    " 'max_depth': 6,\n",
    " 'lambda_l2': [1]}\n",
    "\n",
    "params3 = {'ds_name': 'Higgs',\n",
    " 'order': 3,\n",
    " 'ntrees': 5000,\n",
    " 'max_depth': 6,\n",
    " 'lambda_l2': [50000, 60000, 700000]}"
   ]
  }
 ],
 "metadata": {
  "kernelspec": {
   "display_name": "Python 3",
   "language": "python",
   "name": "python3"
  },
  "language_info": {
   "codemirror_mode": {
    "name": "ipython",
    "version": 3
   },
   "file_extension": ".py",
   "mimetype": "text/x-python",
   "name": "python",
   "nbconvert_exporter": "python",
   "pygments_lexer": "ipython3",
   "version": "3.6.8"
  }
 },
 "nbformat": 4,
 "nbformat_minor": 5
}
