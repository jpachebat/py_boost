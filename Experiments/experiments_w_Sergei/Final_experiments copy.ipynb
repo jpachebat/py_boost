{
 "cells": [
  {
   "cell_type": "code",
   "execution_count": 7,
   "id": "7f8c841d",
   "metadata": {},
   "outputs": [
    {
     "name": "stdout",
     "output_type": "stream",
     "text": [
      "The autoreload extension is already loaded. To reload it, use:\n",
      "  %reload_ext autoreload\n"
     ]
    }
   ],
   "source": [
    "%load_ext autoreload\n",
    "%autoreload \n",
    "\n",
    "import sys\n",
    "sys.path.append(\"../..\")\n",
    "import X_py_boost\n",
    "\n",
    "import joblib\n",
    "import cupy as cp"
   ]
  },
  {
   "cell_type": "code",
   "execution_count": 8,
   "id": "c8f7f909",
   "metadata": {},
   "outputs": [
    {
     "data": {
      "text/html": [
       "        <script type=\"text/javascript\">\n",
       "        window.PlotlyConfig = {MathJaxConfig: 'local'};\n",
       "        if (window.MathJax && window.MathJax.Hub && window.MathJax.Hub.Config) {window.MathJax.Hub.Config({SVG: {font: \"STIX-Web\"}});}\n",
       "        if (typeof require !== 'undefined') {\n",
       "        require.undef(\"plotly\");\n",
       "        requirejs.config({\n",
       "            paths: {\n",
       "                'plotly': ['https://cdn.plot.ly/plotly-2.14.0.min']\n",
       "            }\n",
       "        });\n",
       "        require(['plotly'], function(Plotly) {\n",
       "            window._Plotly = Plotly;\n",
       "        });\n",
       "        }\n",
       "        </script>\n",
       "        "
      ]
     },
     "metadata": {},
     "output_type": "display_data"
    }
   ],
   "source": [
    "import plotly.io as pio\n",
    "import plotly.graph_objects as go\n",
    "import plotly.express as px\n",
    "from plotly.offline import init_notebook_mode, iplot\n",
    "import numpy as np\n",
    "\n",
    "init_notebook_mode(connected=True)\n",
    "\n",
    "\n",
    "def get_results(model):\n",
    "    return list(np.array(model.history).reshape(len(model.history)))"
   ]
  },
  {
   "cell_type": "code",
   "execution_count": 9,
   "id": "2a5c68eb",
   "metadata": {},
   "outputs": [],
   "source": [
    "datasets_NC = {\n",
    "    'electricity': 44120,\n",
    "    'covertype': 44121,\n",
    "    'pol': 44122,\n",
    "    'house_16H': 44123,\n",
    "    'kdd_ipums_la_97-small': 44124,\n",
    "    'MagicTelescope': 44125,\n",
    "    'bank-marketing': 44126,\n",
    "    'phoneme': 44127,\n",
    "    'MiniBooNE': 44128,\n",
    "    'Higgs': 44129,\n",
    "    'eye_movements': 44130,\n",
    "    'jannis': 44131,\n",
    "    'credit': 44089,\n",
    "    'california': 44090,\n",
    "    'wine': 44091\n",
    "}"
   ]
  },
  {
   "cell_type": "markdown",
   "id": "0d165737",
   "metadata": {},
   "source": [
    "### Datasets"
   ]
  },
  {
   "cell_type": "markdown",
   "id": "97d47ef5",
   "metadata": {},
   "source": [
    "### Training Functions"
   ]
  },
  {
   "cell_type": "code",
   "execution_count": 10,
   "id": "2bc09f7d",
   "metadata": {},
   "outputs": [],
   "source": [
    "def import_dataset_NC(ds_name):\n",
    "    npzfile = np.load('data/' + ds_name + '.npz')\n",
    "    X_train, X_test, X_valid, y_train, y_test, y_valid = npzfile['X_train'], npzfile['X_test'], npzfile['X_valid'], npzfile['y_train'], npzfile['y_test'], npzfile['y_valid']\n",
    "    eval_sets=[{'X': X_train, 'y': y_train},]\n",
    "\n",
    "    return(X_train, X_test, X_valid, y_train, y_test, y_valid)\n",
    "    "
   ]
  },
  {
   "cell_type": "code",
   "execution_count": 11,
   "id": "908f080c",
   "metadata": {},
   "outputs": [],
   "source": [
    "from sklearn.model_selection import train_test_split\n",
    "\n",
    "## Get splitted dataset\n",
    "\n",
    "def split_X_y(X, y):\n",
    "\n",
    "    X_train, X_t, y_train, y_t = train_test_split(X, y, test_size=0.30, random_state=42)\n",
    "    X_test, X_val, y_test, y_val = train_test_split(X_t, y_t, test_size=0.50, random_state=42) \n",
    "    print(\"X_train shape:\", X_train.shape)\n",
    "    print(\"X_test shape:\", X_test.shape)\n",
    "    return(X_train, X_val, X_test, y_train, y_val, y_test)"
   ]
  },
  {
   "cell_type": "code",
   "execution_count": 12,
   "id": "4889bf66",
   "metadata": {},
   "outputs": [],
   "source": [
    "\n",
    "\n",
    "def train_models(X_train, X_val, X_test, y_train, y_val, y_test, loss='bce', ntrees=1500, max_depth=6, lambda_l2=0.1):\n",
    "    from X_py_boost import GradientBoosting\n",
    "    import time\n",
    "    eval_sets=[{'X': X_val, 'y': y_val},]\n",
    "\n",
    "    if loss == 'bce':\n",
    "\n",
    "        model2 = GradientBoosting(loss='bce', order=2, ntrees=ntrees, es=500, max_depth=max_depth, lambda_l2=lambda_l2, verbose=1000)\n",
    "        model3 = GradientBoosting(loss='bce', order=3, ntrees=ntrees, es=500, max_depth=max_depth, lambda_l2=lambda_l2, verbose=1000)\n",
    "        model4 = GradientBoosting(loss='bce', order=4,  ntrees=ntrees, es=500, max_depth=max_depth, lambda_l2=lambda_l2, verbose=1000)\n",
    "\n",
    "        start2 = time.time()\n",
    "        model2.fit(X_train, y_train, eval_sets=eval_sets)\n",
    "        end2 = time.time()\n",
    "\n",
    "        start3 = time.time()\n",
    "        model3.fit(X_train, y_train, eval_sets=eval_sets)\n",
    "        end3 = time.time()\n",
    "\n",
    "        start4 = time.time()\n",
    "        model4.fit(X_train, y_train, eval_sets=eval_sets)\n",
    "        end4 = time.time()\n",
    "\n",
    "        time = (end2 - start2, end3 - start3, end4 - start4)\n",
    "\n",
    "    return( model2, model3, model4, time)"
   ]
  },
  {
   "cell_type": "code",
   "execution_count": 13,
   "id": "0ce3844e",
   "metadata": {},
   "outputs": [],
   "source": [
    "def train_model_NC(ds_name, params=None):\n",
    "        \n",
    "    X, y = import_dataset_NC(ds_name=ds_name)\n",
    "    X_train, X_val, X_test, y_train, y_val, y_test = split_X_y(X, y)\n",
    "    model2, model3, model4, time = train_models(X_train, X_val, X_test, y_train, y_val, y_test, loss=params['loss'], ntrees=params['ntrees'], max_depth=params['max_depth'])\n",
    "    return(model2, model3, model4, time)\n",
    "\n",
    "\n"
   ]
  },
  {
   "cell_type": "code",
   "execution_count": 14,
   "id": "00f789e9",
   "metadata": {},
   "outputs": [],
   "source": [
    "import plotly.graph_objects as go\n",
    "\n",
    "params = {\n",
    "    'ds_name': 'electricity',\n",
    "    'loss_function': 'bce',\n",
    "    'ntrees': 1500,\n",
    "    'max_depth': 8\n",
    "}\n",
    "\n",
    "def plot_models(model2, model3, model4, params=params):\n",
    "\n",
    "\n",
    "    y_G2 = get_results(model2)\n",
    "    y_G3 = get_results(model3)\n",
    "    y_G4 = get_results(model4)\n",
    "    xs = [i for i in range(max(len(y_G2), len(y_G3), len(y_G4)))]\n",
    "\n",
    "    fig1 = go.Figure(layout_title_text=f\"2nd and 4th order training: x=#iter, y=accuracy, ds={params['ds_name']}, loss=BCE, max_depth={params['max_depth']}\")\n",
    "    fig1.add_trace(go.Scatter(x=xs, y=(y_G2),\n",
    "                        mode='lines',\n",
    "                        name='2nd order'))\n",
    "    fig1.add_trace(go.Scatter(x=xs, y=(y_G3),\n",
    "                        mode='lines',\n",
    "                        name='3rd order'))\n",
    "\n",
    "    fig1.add_trace(go.Scatter(x=xs, y=(y_G4),\n",
    "                        mode='lines',\n",
    "                        name='4th order'))\n",
    "    fig1.show()\n",
    "\n",
    "def plot_models_NC(models_NC):\n",
    "\n",
    "    for ds_name  in datasets_NC:\n",
    "\n",
    "        model2, model3, model4, time = models_NC[ds_name]\n",
    "        params['ds_name'] = ds_name\n",
    "        plot_models(model2, model3, model4, params)"
   ]
  },
  {
   "cell_type": "code",
   "execution_count": 15,
   "id": "dbd9dea0",
   "metadata": {},
   "outputs": [],
   "source": [
    "def get_models_NC(params=None):\n",
    "\n",
    "    models = {}\n",
    "\n",
    "    for ds_name in datasets_NC:\n",
    "\n",
    "        models[ds_name] = train_model_NC(ds_name, params)\n",
    "\n",
    "    return(models)\n"
   ]
  },
  {
   "cell_type": "code",
   "execution_count": 16,
   "id": "0097b000",
   "metadata": {},
   "outputs": [],
   "source": [
    "def get_speed_acceleration(model1, model2):\n",
    "    \n",
    "    from scipy.interpolate import interp1d\n",
    "    import numpy as np\n",
    "    \n",
    "    y1 = 1 - np.array(get_results(model1))\n",
    "    y2 = 1 - np.array(get_results(model2))\n",
    "    \n",
    "    l_cut = min(len(y1), len(y2))\n",
    "    \n",
    "    y1 = y1[:l_cut]\n",
    "    y2 = y2[:l_cut]\n",
    "    \n",
    "    xs = [i for i in range(l_cut)]\n",
    "\n",
    "    log_y1 = - np.log(y1) \n",
    "    log_y2 = - np.log(y2) \n",
    "\n",
    "    f1 = interp1d(log_y1, xs)\n",
    "    f2 = interp1d(log_y2, xs)\n",
    "    \n",
    "    xnew = np.linspace(max(min(log_y1), min(log_y2)), min(max(log_y1), max(log_y2)), 10000)\n",
    "    \n",
    "    iter1 = f1(xnew)\n",
    "    iter2 = f2(xnew)\n",
    "    \n",
    "    percent_better = iter1/iter2 * 100 - 100\n",
    "    fig = go.Figure(layout_title_text=f\"-\")\n",
    "    fig.add_trace(go.Scatter(x=xnew, y=percent_better,\n",
    "                        mode='lines',\n",
    "                        name=\"2nd vs 4th order on covertype dataset, x=log(1-accuracy), y=min{iter | metric(iter) > accuracy}\"))\n",
    "    fig.show()\n",
    "\n",
    "    \n",
    "    return(iter1, iter2, percent_better)"
   ]
  },
  {
   "cell_type": "markdown",
   "id": "d31d3123",
   "metadata": {},
   "source": [
    "### Training - NC"
   ]
  },
  {
   "cell_type": "code",
   "execution_count": 17,
   "id": "e9db3d48",
   "metadata": {},
   "outputs": [
    {
     "ename": "NameError",
     "evalue": "name 'import_dataset_NC' is not defined",
     "output_type": "error",
     "traceback": [
      "\u001b[0;31m---------------------------------------------------------------------------\u001b[0m",
      "\u001b[0;31mNameError\u001b[0m                                 Traceback (most recent call last)",
      "\u001b[0;32m<ipython-input-17-013154e3b89c>\u001b[0m in \u001b[0;36m<module>\u001b[0;34m\u001b[0m\n\u001b[1;32m      7\u001b[0m \u001b[0;34m\u001b[0m\u001b[0m\n\u001b[1;32m      8\u001b[0m \u001b[0;34m\u001b[0m\u001b[0m\n\u001b[0;32m----> 9\u001b[0;31m \u001b[0mmodels\u001b[0m \u001b[0;34m=\u001b[0m \u001b[0mget_models_NC\u001b[0m\u001b[0;34m(\u001b[0m\u001b[0mparams\u001b[0m\u001b[0;34m=\u001b[0m\u001b[0mparams\u001b[0m\u001b[0;34m)\u001b[0m\u001b[0;34m\u001b[0m\u001b[0;34m\u001b[0m\u001b[0m\n\u001b[0m",
      "\u001b[0;32m<ipython-input-15-d8d9cf72eddd>\u001b[0m in \u001b[0;36mget_models_NC\u001b[0;34m(params)\u001b[0m\n\u001b[1;32m      5\u001b[0m     \u001b[0;32mfor\u001b[0m \u001b[0mds_name\u001b[0m \u001b[0;32min\u001b[0m \u001b[0mdatasets_NC\u001b[0m\u001b[0;34m:\u001b[0m\u001b[0;34m\u001b[0m\u001b[0;34m\u001b[0m\u001b[0m\n\u001b[1;32m      6\u001b[0m \u001b[0;34m\u001b[0m\u001b[0m\n\u001b[0;32m----> 7\u001b[0;31m         \u001b[0mmodels\u001b[0m\u001b[0;34m[\u001b[0m\u001b[0mds_name\u001b[0m\u001b[0;34m]\u001b[0m \u001b[0;34m=\u001b[0m \u001b[0mtrain_model_NC\u001b[0m\u001b[0;34m(\u001b[0m\u001b[0mds_name\u001b[0m\u001b[0;34m,\u001b[0m \u001b[0mparams\u001b[0m\u001b[0;34m)\u001b[0m\u001b[0;34m\u001b[0m\u001b[0;34m\u001b[0m\u001b[0m\n\u001b[0m\u001b[1;32m      8\u001b[0m \u001b[0;34m\u001b[0m\u001b[0m\n\u001b[1;32m      9\u001b[0m     \u001b[0;32mreturn\u001b[0m\u001b[0;34m(\u001b[0m\u001b[0mmodels\u001b[0m\u001b[0;34m)\u001b[0m\u001b[0;34m\u001b[0m\u001b[0;34m\u001b[0m\u001b[0m\n",
      "\u001b[0;32m<ipython-input-13-41eb1a992268>\u001b[0m in \u001b[0;36mtrain_model_NC\u001b[0;34m(ds_name, params)\u001b[0m\n\u001b[1;32m      1\u001b[0m \u001b[0;32mdef\u001b[0m \u001b[0mtrain_model_NC\u001b[0m\u001b[0;34m(\u001b[0m\u001b[0mds_name\u001b[0m\u001b[0;34m,\u001b[0m \u001b[0mparams\u001b[0m\u001b[0;34m=\u001b[0m\u001b[0;32mNone\u001b[0m\u001b[0;34m)\u001b[0m\u001b[0;34m:\u001b[0m\u001b[0;34m\u001b[0m\u001b[0;34m\u001b[0m\u001b[0m\n\u001b[1;32m      2\u001b[0m \u001b[0;34m\u001b[0m\u001b[0m\n\u001b[0;32m----> 3\u001b[0;31m     \u001b[0mX\u001b[0m\u001b[0;34m,\u001b[0m \u001b[0my\u001b[0m \u001b[0;34m=\u001b[0m \u001b[0mimport_dataset_NC\u001b[0m\u001b[0;34m(\u001b[0m\u001b[0mds_name\u001b[0m\u001b[0;34m=\u001b[0m\u001b[0mds_name\u001b[0m\u001b[0;34m)\u001b[0m\u001b[0;34m\u001b[0m\u001b[0;34m\u001b[0m\u001b[0m\n\u001b[0m\u001b[1;32m      4\u001b[0m     \u001b[0mX_train\u001b[0m\u001b[0;34m,\u001b[0m \u001b[0mX_val\u001b[0m\u001b[0;34m,\u001b[0m \u001b[0mX_test\u001b[0m\u001b[0;34m,\u001b[0m \u001b[0my_train\u001b[0m\u001b[0;34m,\u001b[0m \u001b[0my_val\u001b[0m\u001b[0;34m,\u001b[0m \u001b[0my_test\u001b[0m \u001b[0;34m=\u001b[0m \u001b[0msplit_X_y\u001b[0m\u001b[0;34m(\u001b[0m\u001b[0mX\u001b[0m\u001b[0;34m,\u001b[0m \u001b[0my\u001b[0m\u001b[0;34m)\u001b[0m\u001b[0;34m\u001b[0m\u001b[0;34m\u001b[0m\u001b[0m\n\u001b[1;32m      5\u001b[0m     \u001b[0mmodel2\u001b[0m\u001b[0;34m,\u001b[0m \u001b[0mmodel3\u001b[0m\u001b[0;34m,\u001b[0m \u001b[0mmodel4\u001b[0m\u001b[0;34m,\u001b[0m \u001b[0mtime\u001b[0m \u001b[0;34m=\u001b[0m \u001b[0mtrain_models\u001b[0m\u001b[0;34m(\u001b[0m\u001b[0mX_train\u001b[0m\u001b[0;34m,\u001b[0m \u001b[0mX_val\u001b[0m\u001b[0;34m,\u001b[0m \u001b[0mX_test\u001b[0m\u001b[0;34m,\u001b[0m \u001b[0my_train\u001b[0m\u001b[0;34m,\u001b[0m \u001b[0my_val\u001b[0m\u001b[0;34m,\u001b[0m \u001b[0my_test\u001b[0m\u001b[0;34m,\u001b[0m \u001b[0mloss\u001b[0m\u001b[0;34m=\u001b[0m\u001b[0mparams\u001b[0m\u001b[0;34m[\u001b[0m\u001b[0;34m'loss'\u001b[0m\u001b[0;34m]\u001b[0m\u001b[0;34m,\u001b[0m \u001b[0mntrees\u001b[0m\u001b[0;34m=\u001b[0m\u001b[0mparams\u001b[0m\u001b[0;34m[\u001b[0m\u001b[0;34m'ntrees'\u001b[0m\u001b[0;34m]\u001b[0m\u001b[0;34m,\u001b[0m \u001b[0mmax_depth\u001b[0m\u001b[0;34m=\u001b[0m\u001b[0mparams\u001b[0m\u001b[0;34m[\u001b[0m\u001b[0;34m'max_depth'\u001b[0m\u001b[0;34m]\u001b[0m\u001b[0;34m)\u001b[0m\u001b[0;34m\u001b[0m\u001b[0;34m\u001b[0m\u001b[0m\n",
      "\u001b[0;31mNameError\u001b[0m: name 'import_dataset_NC' is not defined"
     ]
    }
   ],
   "source": [
    "params = {\n",
    "    'ds_name': 'electricity',\n",
    "    'loss': 'bce',\n",
    "    'ntrees': 1500,\n",
    "    'max_depth': 6\n",
    "}\n",
    "\n",
    "\n",
    "models = get_models_NC(params=params)"
   ]
  },
  {
   "cell_type": "markdown",
   "id": "0d8f989a",
   "metadata": {},
   "source": [
    "#### Training Curves"
   ]
  },
  {
   "cell_type": "code",
   "execution_count": null,
   "id": "94bc5bcd",
   "metadata": {},
   "outputs": [
    {
     "ename": "NameError",
     "evalue": "name 'plot_models_NC' is not defined",
     "output_type": "error",
     "traceback": [
      "\u001b[0;31m---------------------------------------------------------------------------\u001b[0m",
      "\u001b[0;31mNameError\u001b[0m                                 Traceback (most recent call last)",
      "\u001b[0;32m<ipython-input-5-7579c3000fa0>\u001b[0m in \u001b[0;36m<module>\u001b[0;34m\u001b[0m\n\u001b[0;32m----> 1\u001b[0;31m \u001b[0mplot_models_NC\u001b[0m\u001b[0;34m(\u001b[0m\u001b[0mmodels\u001b[0m\u001b[0;34m)\u001b[0m\u001b[0;34m\u001b[0m\u001b[0;34m\u001b[0m\u001b[0m\n\u001b[0m",
      "\u001b[0;31mNameError\u001b[0m: name 'plot_models_NC' is not defined"
     ]
    }
   ],
   "source": [
    "plot_models_NC(models)"
   ]
  },
  {
   "cell_type": "code",
   "execution_count": null,
   "id": "19032f99",
   "metadata": {},
   "outputs": [],
   "source": [
    "\n",
    "for ds_name in datasets_NC:\n",
    "    times[ds_name] = models[ds_name][3]"
   ]
  },
  {
   "cell_type": "code",
   "execution_count": null,
   "id": "4bef82b3",
   "metadata": {},
   "outputs": [
    {
     "data": {
      "text/plain": [
       "{'electricity': (11.214192390441895, 11.939833879470825, 5.3503577709198),\n",
       " 'covertype': (19.744782209396362, 21.480321884155273, 23.28338360786438),\n",
       " 'pol': (7.932242393493652, 8.13894772529602, 4.260971546173096),\n",
       " 'house_16H': (5.342682361602783, 5.666813611984253, 4.230088949203491),\n",
       " 'kdd_ipums_la_97-small': (6.141393184661865,\n",
       "  6.374958038330078,\n",
       "  5.4900829792022705),\n",
       " 'MagicTelescope': (6.372896432876587, 5.932502508163452, 4.156835079193115),\n",
       " 'bank-marketing': (6.492688894271851, 6.565255165100098, 4.467662572860718),\n",
       " 'phoneme': (7.130889177322388, 6.748611688613892, 5.367152690887451),\n",
       " 'MiniBooNE': (8.194819450378418, 8.495051860809326, 4.446772336959839),\n",
       " 'Higgs': (22.485391855239868, 27.639577388763428, 12.016436338424683),\n",
       " 'eye_movements': (8.360252380371094, 8.574718713760376, 5.382624626159668),\n",
       " 'jannis': (7.611664533615112, 8.11400818824768, 4.284156560897827),\n",
       " 'credit': (4.648128271102905, 4.726266145706177, 4.099913597106934),\n",
       " 'california': (8.951210737228394, 7.731724500656128, 4.132538080215454),\n",
       " 'wine': (7.017920970916748, 7.734591960906982, 5.4201979637146)}"
      ]
     },
     "execution_count": 20,
     "metadata": {},
     "output_type": "execute_result"
    }
   ],
   "source": [
    "times"
   ]
  },
  {
   "cell_type": "code",
   "execution_count": null,
   "id": "453d797f",
   "metadata": {},
   "outputs": [],
   "source": []
  }
 ],
 "metadata": {
  "kernelspec": {
   "display_name": "Python 3",
   "language": "python",
   "name": "python3"
  },
  "language_info": {
   "codemirror_mode": {
    "name": "ipython",
    "version": 3
   },
   "file_extension": ".py",
   "mimetype": "text/x-python",
   "name": "python",
   "nbconvert_exporter": "python",
   "pygments_lexer": "ipython3",
   "version": "3.6.8"
  },
  "vscode": {
   "interpreter": {
    "hash": "916dbcbb3f70747c44a77c7bcd40155683ae19c65e1c03b4aa3499c5328201f1"
   }
  }
 },
 "nbformat": 4,
 "nbformat_minor": 5
}
