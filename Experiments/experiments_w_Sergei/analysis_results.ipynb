{
 "cells": [
  {
   "cell_type": "code",
   "execution_count": null,
   "metadata": {},
   "outputs": [
    {
     "ename": "",
     "evalue": "",
     "output_type": "error",
     "traceback": [
      "\u001b[1;31mFailed to start the Kernel. \n",
      "The 'undefined.-c#source /home/j.pachebat/.local/share/jupyter/.python-kernel/python-kernel-49435/bin/activate && python3 -m ipykernel_launcher -f {connection_file}' kernel is not available. Please pick another suitable kernel instead, or install that kernel. \n",
      "View Jupyter <a href='command:jupyter.viewOutput'>log</a> for further details."
     ]
    }
   ],
   "source": [
    "from utils import plot"
   ]
  },
  {
   "cell_type": "code",
   "execution_count": null,
   "metadata": {},
   "outputs": [],
   "source": [
    "for ds_name in datasets_name:\n",
    "\n",
    "    params_2 = {\n",
    "    'ds_name': ds_name,\n",
    "    'order': 2,\n",
    "    'lambdas': [0.1, 1, 10, 100, 1000, 10000, 100000],\n",
    "    'max_depth': 6,\n",
    "    'ntrees': 2500\n",
    "        }\n",
    "    params_3 = {\n",
    "    'ds_name': ds_name,\n",
    "    'order': 3,\n",
    "    'lambdas': [0.1, 1, 10, 100, 1000, 10000, 100000],\n",
    "    'max_depth': 6,\n",
    "    'ntrees': 2500\n",
    "        }\n",
    "    \n",
    "    params_4 = {\n",
    "    'ds_name': ds_name,\n",
    "    'order': 4,\n",
    "    'lambdas': [0.1, 1, 10, 100, 1000, 10000, 100000],\n",
    "    'max_depth': 6,\n",
    "    'ntrees': 2500\n",
    "        }\n",
    "\n",
    "    plot\n"
   ]
  }
 ],
 "metadata": {
  "kernelspec": {
   "display_name": "Python Criteo (MOAB #49435)",
   "language": "python",
   "name": "python-kernel-49435"
  },
  "orig_nbformat": 4
 },
 "nbformat": 4,
 "nbformat_minor": 2
}
