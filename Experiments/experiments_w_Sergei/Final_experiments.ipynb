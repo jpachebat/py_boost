{
 "cells": [
  {
   "cell_type": "code",
   "execution_count": 5,
   "id": "4ac89e2d-84bb-4284-a9ce-596191bcb3d6",
   "metadata": {},
   "outputs": [],
   "source": [
    "import sys\n",
    "sys.path.append(\"../..\")\n",
    "import X_py_boost"
   ]
  },
  {
   "cell_type": "markdown",
   "id": "0d165737",
   "metadata": {
    "jp-MarkdownHeadingCollapsed": true,
    "tags": []
   },
   "source": [
    "### Datasets"
   ]
  },
  {
   "cell_type": "code",
   "execution_count": 6,
   "id": "bc16e947",
   "metadata": {},
   "outputs": [],
   "source": [
    "datasets_NC = {\n",
    "    'electricity': 44120,\n",
    "    'covertype': 44121,\n",
    "    'pol': 44122,\n",
    "    'house_16H': 44123,\n",
    "    'kdd_ipums_la_97-small': 44124,\n",
    "    'MagicTelescope': 44125,\n",
    "    'bank-marketing': 44126,\n",
    "    'phoneme': 44127,\n",
    "    'MiniBooNE': 44128,\n",
    "    'Higgs': 44129,\n",
    "    'eye_movements': 44130,\n",
    "    'jannis': 44131,\n",
    "    'credit': 44089,\n",
    "    'california': 44090,\n",
    "    'wine': 44091\n",
    "}\n",
    "\n",
    "datasets_NR = {\n",
    "    'cpu_act': 44132,\n",
    "    'pol': 44133,\n",
    "    'elevators': 44134,\n",
    "    'isolet': 44135,\n",
    "    'wine_quality': 44136,\n",
    "    'Ailerons': 44137,\n",
    "    'houses': 44138,\n",
    "    'house_16H': 44139,\n",
    "    'diamonds': 44140,\n",
    "    'Brazilian_houses': 44141,\n",
    "    'Bike_Sharing_Demand': 44142,\n",
    "    'nyc-taxi-green-dec-2016': 44143,\n",
    "    'house_sales': 44144,\n",
    "    'sulfur': 44145,\n",
    "    'medical_charges': 44146,\n",
    "    'MiamiHousing2016': 44147,\n",
    "    'superconduct': 44148,\n",
    "    'california': 44025,\n",
    "    'fifa': 44026,\n",
    "    'year': 44027\n",
    "\n",
    "}\n",
    "\n",
    "datasets_CC = {\n",
    "    'electricity': 44156,\n",
    "    'eye_movements': 44157,\n",
    "    'KDDCup09_upselling': 44158,\n",
    "    'covertype': 44159,\n",
    "    'rl': 44160,\n",
    "    'road-safety': 44161,\n",
    "    'compass': 44162,\n",
    "}\n",
    "\n",
    "datasets_CR = {\n",
    "    'yprop_4_1': 44054,\n",
    "    'analcatdata_supreme': 44055,\n",
    "    'visualizing_soil': 44056,\n",
    "    'black_friday': 44057,\n",
    "    'diamonds': 44059,\n",
    "    'Mercedes_Benz_Greener_Manufacturing': 44061,\n",
    "    'Brazilian_houses': 44062,\n",
    "    'Bike_Sharing_Demand': 44063,\n",
    "    'OnlineNewsPopularity': 44064,\n",
    "    'nyc-taxi-green-dec-2016': 44065,\n",
    "    'house_sales': 44066,\n",
    "    'particulate-matter-ukair-2017': 44068,\n",
    "    'SGEMM_GPU_kernel_performance': 44069\n",
    "}\n"
   ]
  },
  {
   "cell_type": "markdown",
   "id": "d634355a-bff5-4453-8b26-940b71e0961d",
   "metadata": {
    "tags": []
   },
   "source": [
    "### Callbacks"
   ]
  },
  {
   "cell_type": "code",
   "execution_count": 7,
   "id": "31d4a0c6-7c5e-449b-8422-cbd2f1db2dd6",
   "metadata": {},
   "outputs": [],
   "source": [
    "from X_py_boost.callbacks.callback import Callback\n",
    "\n",
    "class MultipleMetricsHistory(Callback):\n",
    "    \n",
    "    def __init__(self, metric_list):\n",
    "        \n",
    "        # assume list of callable(y_true, y_pred)\n",
    "        self.metric_list = metric_list\n",
    "        self.history = None\n",
    "        \n",
    "    def before_train(self, build_info):\n",
    "        \n",
    "        self.history = []\n",
    "        # postprocess fn defined by loss function\n",
    "        self.postprocess_fn = build_info['model'].loss.postprocess_output\n",
    "        \n",
    "    def after_iteration(self, build_info):\n",
    "        \n",
    "        iter_info = []\n",
    "        # single train dataset\n",
    "        train = build_info['data']['train']\n",
    "        # lists of val datasets\n",
    "        valid = build_info['data']['valid']\n",
    "        # calc metric on train data\n",
    "        y_pred = self.postprocess_fn(train['ensemble'])\n",
    "        \n",
    "        metrics = []\n",
    "        for fn in self.metric_list:\n",
    "            metrics.append(float(fn(train['target'], y_pred)))\n",
    "        iter_info.append(metrics)\n",
    "        \n",
    "        # calc metrics on validation sets\n",
    "        for y_true, y_pred in zip(valid['target'], valid['ensemble']):\n",
    "            y_pred = self.postprocess_fn(y_pred)\n",
    "            metrics = []\n",
    "            for fn in self.metric_list:\n",
    "                metrics.append(float(fn(y_true, y_pred)))\n",
    "            iter_info.append(metrics)\n",
    "\n",
    "        self.history.append(iter_info)\n",
    "        \n",
    "        return False\n",
    "        \n",
    "    def after_train(self, build_info):\n",
    "        \n",
    "        self.history = np.array(self.history)\n",
    "\n",
    "class TimeHistory(Callback):\n",
    "\n",
    "    def __init__(self):\n",
    "        \n",
    "        # assume list of callable(y_true, y_pred)\n",
    "        self.start_time = None\n",
    "        self.history = None\n",
    "    \n",
    "    def before_train(self, build_info):\n",
    "        \n",
    "        self.history = []\n",
    "        self.start_time = time.time()\n",
    "\n",
    "    def after_iteration(self, build_info):\n",
    "        \n",
    "        self.history.append(time.time() - self.start_time)\n",
    "        \n",
    "        return False\n",
    "\n",
    "    def after_train(self, build_info):\n",
    "        \n",
    "        self.history = np.array(self.history)\n"
   ]
  },
  {
   "cell_type": "markdown",
   "id": "97d47ef5",
   "metadata": {},
   "source": [
    "### Training Functions"
   ]
  },
  {
   "cell_type": "code",
   "execution_count": 9,
   "id": "cc3cd40b-2704-4fe0-8698-6beb2d8d1e52",
   "metadata": {},
   "outputs": [],
   "source": [
    "lambdas = [10, 100, 1000, 10000, 100000]\n",
    "ds_names = ['Higgs', 'Epsilon', 'covertype', 'MiniBooNE', 'electricity']"
   ]
  },
  {
   "cell_type": "code",
   "execution_count": 3,
   "id": "13bef72e-61e5-49f5-99dd-98cd06854065",
   "metadata": {},
   "outputs": [],
   "source": [
    "import numpy as np\n",
    "import pickle\n",
    "import time"
   ]
  },
  {
   "cell_type": "code",
   "execution_count": null,
   "id": "77624fd0-7edb-4b48-a253-4dd216fcd859",
   "metadata": {},
   "outputs": [],
   "source": [
    "metrics = {}\n",
    "times = {}"
   ]
  },
  {
   "cell_type": "code",
   "execution_count": null,
   "id": "c4c47b10-2321-48ee-8b0f-cf31a7be0783",
   "metadata": {},
   "outputs": [],
   "source": [
    "for ds_name in ds_names:\n",
    "    \n",
    "    metrics[ds_name] = {}\n",
    "    times[ds_name] = {}\n",
    "    npzfile = np.load('data/' + ds_name + '.npz', allow_pickle=True)\n",
    "    X_train, X_test, y_train, y_test = npzfile['X_train'], npzfile['X_test'], npzfile['y_train'], npzfile['y_test']\n",
    "    eval_sets = [{'X': X_test, 'y': y_test},]\n",
    "    for lambda_l2 in lambdas:\n",
    "        \n",
    "        metrics_history = MultipleMetricsHistory( [AccuracyMetric(), BCEMetric()] )\n",
    "        time_history = TimeHistory()\n",
    "        model = GradientBoosting(loss='bce', order=3, ntrees=ntrees, max_depth=100000, lambda_l2=lambda_l2, es=1000, callbacks=[metrics_history, time_history], verbose=1000)\n",
    "        model.fit(X_train, y_train, eval_sets=eval_sets)\n",
    "        metrics[ds_name][lambda_l2] = metrics_history.history\n",
    "        times[ds_name][lambda_l2] = time_history.history\n"
   ]
  },
  {
   "cell_type": "code",
   "execution_count": null,
   "id": "311d3810-69eb-44e2-a833-459cdaf9be2c",
   "metadata": {},
   "outputs": [],
   "source": [
    "with open(f'results/{self.params[\"ds_name\"]}/callbacks/{self.params[\"order\"]}.json', 'wb') as f:\n",
    "            pickle.dump(callbacks, f)"
   ]
  }
 ],
 "metadata": {
  "kernelspec": {
   "display_name": "Python 3",
   "language": "python",
   "name": "python3"
  },
  "language_info": {
   "codemirror_mode": {
    "name": "ipython",
    "version": 3
   },
   "file_extension": ".py",
   "mimetype": "text/x-python",
   "name": "python",
   "nbconvert_exporter": "python",
   "pygments_lexer": "ipython3",
   "version": "3.6.8"
  },
  "vscode": {
   "interpreter": {
    "hash": "916dbcbb3f70747c44a77c7bcd40155683ae19c65e1c03b4aa3499c5328201f1"
   }
  }
 },
 "nbformat": 4,
 "nbformat_minor": 5
}
